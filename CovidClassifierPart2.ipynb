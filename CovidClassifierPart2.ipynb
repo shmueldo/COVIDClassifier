{
  "cells": [
    {
      "cell_type": "markdown",
      "metadata": {
        "id": "Lp-f7K8aoZeX"
      },
      "source": [
        "#Final Report - Introduction to Deep Learning\n"
      ]
    },
    {
      "cell_type": "markdown",
      "metadata": {
        "id": "1FpVUdLHofaa"
      },
      "source": [
        "Dor Shmuel 312179971\n",
        "\n",
        "Moshe Davidian 201402856\n"
      ]
    },
    {
      "cell_type": "markdown",
      "metadata": {
        "id": "yGHu-N4DDpkD"
      },
      "source": [
        "# Lung Damages X-Ray Classifier Project -2nd stage"
      ]
    },
    {
      "cell_type": "markdown",
      "metadata": {
        "id": "zjzucsEZDgpj"
      },
      "source": [
        "### 1. import Libraries"
      ]
    },
    {
      "cell_type": "code",
      "execution_count": null,
      "metadata": {
        "colab": {
          "base_uri": "https://localhost:8080/"
        },
        "id": "z-6LdZU0KGt8",
        "outputId": "cf31d5a4-12ac-4552-9d33-d6d0f9626a3e"
      },
      "outputs": [],
      "source": [
        "pip install https://github.com/ufoym/imbalanced-dataset-sampler/archive/master.zip"
      ]
    },
    {
      "cell_type": "code",
      "execution_count": null,
      "metadata": {
        "id": "I4YvzNZjDWj0"
      },
      "outputs": [],
      "source": [
        "import time\n",
        "import copy\n",
        "import torch\n",
        "import torchvision\n",
        "from torchvision import models\n",
        "from torchsummary import summary\n",
        "import torchvision.transforms as transforms\n",
        "import torchvision.datasets as datasets\n",
        "from torch.optim import lr_scheduler\n",
        "import torch.nn as nn\n",
        "import torch.nn.functional as F\n",
        "import torch.optim as optim\n",
        "from torchsampler import ImbalancedDatasetSampler\n",
        "import numpy as np\n",
        "import matplotlib.pyplot as plt\n",
        "from google.colab import drive\n",
        "import os.path\n",
        "import os as path\n",
        "import shutil\n",
        "from sklearn.metrics import confusion_matrix, classification_report\n",
        "import itertools\n",
        "from datetime import datetime"
      ]
    },
    {
      "cell_type": "code",
      "execution_count": null,
      "metadata": {
        "colab": {
          "base_uri": "https://localhost:8080/"
        },
        "id": "V2DHMwvzUs09",
        "outputId": "2e5a6065-b5b3-4724-fe05-0639bf0b5a46"
      },
      "outputs": [],
      "source": [
        "device = torch.device(\"cuda:0\" if torch.cuda.is_available() else \"cpu\")\n",
        "!nvidia-smi\n",
        "device"
      ]
    },
    {
      "cell_type": "code",
      "execution_count": null,
      "metadata": {
        "colab": {
          "base_uri": "https://localhost:8080/"
        },
        "id": "8_zEnPlHDf7M",
        "outputId": "c5c1ab67-e7b5-4d1d-84ec-3d0d06a43a04"
      },
      "outputs": [],
      "source": [
        "from google.colab import drive\n",
        "drive.mount('/content/gdrive')"
      ]
    },
    {
      "cell_type": "markdown",
      "metadata": {
        "id": "iuHNa0TwoyZ3"
      },
      "source": [
        "#Dataset \n",
        "As we described earlier, our data for the 2nd stage is comprised from 4 classes of images:\n",
        "\n",
        "1.\t**Normal**: 10192 images \n",
        "2.\t**Covid**:3616 images\n",
        "3.\t**Viral Pneumonia**: 1345 images\n",
        "4.\t**Lung Opacity**: 6012 images \n",
        "\n",
        "**Pre-Processing:**\n",
        "\n",
        "In order to feed the data into the networks we have preprocessed it as follows:\n",
        "Arrangement of the data into folders and partition of the data to 70% of training data, 20% of Test data and 10% of validation data.\n",
        "\n",
        "Pre-Processing of the images (most based on the article in (Vu, 2021)):\n",
        "\n",
        "a.\tResize: size = (3,224,224)\n",
        "\n",
        "b.\tAugmentation (SAXENA, 2021) (Elgendi, Nasir, Tang, & Smith, 2021) - only if needed.\n",
        "\n",
        "c.\tConvert to Tensor.\n",
        "\n",
        "d.\tNormalize the images with mean = [0.485, 0.456, 0.406] and std = [0.229, 0.224, 0.225])\n",
        "\n",
        "e.\tConversion to DataLoader type. \n"
      ]
    },
    {
      "cell_type": "markdown",
      "metadata": {
        "id": "nw0sHZtmEGmi"
      },
      "source": [
        "### 2. Data Arrngment"
      ]
    },
    {
      "cell_type": "markdown",
      "metadata": {
        "id": "YB_A0sLQGBAR"
      },
      "source": [
        "**In the first time (only):**\n",
        "\n",
        "Change to **Arrange=True**\n",
        "\n",
        "Change to **root_dir=**'the data path' \n",
        "\n",
        "in this path, the data should be in \"/Data/COVID-19_Radiography_Dataset\"\n",
        "\n",
        "i.e. \"My_path/Data/COVID-19_Radiography_Dataset\""
      ]
    },
    {
      "cell_type": "code",
      "execution_count": null,
      "metadata": {
        "id": "HtmJowc3EKM-"
      },
      "outputs": [],
      "source": [
        "def remove_pre_suf_int(name,label):\n",
        "  return int(name[len(label+'-'):-len('.png')])"
      ]
    },
    {
      "cell_type": "code",
      "execution_count": null,
      "metadata": {
        "colab": {
          "base_uri": "https://localhost:8080/"
        },
        "id": "EuX2T-gtMVfz",
        "outputId": "4e9eec16-943d-4c00-c554-fb2e54beb383"
      },
      "outputs": [],
      "source": [
        "def Data_arrangement_Initial(root_dir,labels,Arrange=False):\n",
        "  if Arrange:\n",
        "    Data=root_dir+\"/Data/COVID-19_Radiography_Dataset\" #change to the right folder\n",
        "    # path declaration\n",
        "    Data_labels_paths=[Data+'/'+label_name for label_name in labels]\n",
        "    train_path=[root_dir+\"/training_set\"+'/'+label_name for label_name in labels]\n",
        "    test_path=[root_dir+\"/test_set\"+'/'+label_name for label_name in labels]\n",
        "    valid_path=[root_dir+\"/valid_set\"+'/'+label_name for label_name in labels]\n",
        "    for label_idx,label in enumerate(labels):\n",
        "      images_in_dir=[remove_pre_suf_int(name,label) for name in os.listdir(Data_labels_paths[label_idx])]\n",
        "      images_in_dir.sort()\n",
        "      num_of_images=len(images_in_dir)\n",
        "      First_index=int(images_in_dir[0])\n",
        "      print(images_in_dir)\n",
        "      for image_idx in range(num_of_images): # read all images from the folder\n",
        "        idx=First_index+image_idx   \n",
        "        if idx > num_of_images:\n",
        "          break;\n",
        "        addon_path=\"/{}-{}.png\".format(label,idx)\n",
        "        if idx % 10 < 7:  # 0-6   70% trian\n",
        "          dest=train_path\n",
        "        elif idx % 10 == 7: #  7     10% val\n",
        "          dest=valid_path\n",
        "        else:  # 8-9  20% test\n",
        "          dest=test_path\n",
        "        print(os.path.isfile(Data_labels_paths[label_idx]+addon_path))\n",
        "        if os.path.isfile(Data_labels_paths[label_idx]+addon_path):\n",
        "          print(idx)\n",
        "          shutil.copy(Data_labels_paths[label_idx]+addon_path, dest[label_idx]+addon_path)\n",
        "    return \"Forward Some data\",train_path,test_path,valid_path\n",
        "  else:\n",
        "    return \"nothing Forwarded\"\n",
        "\n",
        "  \n",
        "Arrange= False\n",
        "root_dir='/content/gdrive/MyDrive/DeepLearning/Final_Project/Data/COVID-19_Radiography_Dataset' #change to the right folder\n",
        "labels=['COVID', 'Normal', 'Lung_Opacity', 'Viral Pneumonia']  \n",
        "print(Data_arrangement_Initial(root_dir,labels))"
      ]
    },
    {
      "cell_type": "code",
      "execution_count": null,
      "metadata": {
        "id": "AgaNPCUREJwq"
      },
      "outputs": [],
      "source": [
        "def Data_arrangement(root_dir,labels):\n",
        "  # Used to test the effect of balanced data\n",
        "  # path declaration\n",
        "  Data_labels_paths=[root_dir+'/'+label_name for label_name in labels]\n",
        "  train_path=[root_dir+\"/training_set_balance\"+'/'+label_name for label_name in labels]\n",
        "  test_path=[root_dir+\"/test_set_balance\"+'/'+label_name for label_name in labels]\n",
        "  valid_path=[root_dir+\"/valid_set_balance\"+'/'+label_name for label_name in labels]\n",
        "  \n",
        "  for label_idx,label in enumerate(labels):\n",
        "    images_in_dir=[name for name in os.listdir(Data_labels_paths[label_idx])]\n",
        "    images_in_dir.sort()\n",
        "    print(images_in_dir)\n",
        "    for idx,image in enumerate(images_in_dir[:1000]):  # read balance amount of images from each folder\n",
        "      if idx % 10 < 7:  # 0-6  70% trian\n",
        "        dest=train_path\n",
        "      elif idx % 10 == 7:  #  7   10% val \n",
        "        dest=valid_path\n",
        "      else:  # 8-9   20% test\n",
        "        dest=test_path\n",
        "\n",
        "      if not (os.path.isfile(dest[label_idx] + '/' + image)) and (os.path.isfile(Data_labels_paths[label_idx] + '/' + image)):\n",
        "        shutil.copy(Data_labels_paths[label_idx] + '/' + image, dest[label_idx])\n",
        "  return train_path,test_path,valid_path\n",
        "  \n",
        "\n",
        "Arrange= False\n",
        "if Arrange:\n",
        "  root_dir='/content/gdrive/MyDrive/DeepLearning/Final_Project/Data/COVID-19_Radiography_Dataset' #change to the right folder\n",
        "  labels=['COVID', 'Normal', 'Lung_Opacity', 'Viral Pneumonia']  \n",
        "  print(Data_arrangement(root_dir,labels))"
      ]
    },
    {
      "cell_type": "markdown",
      "metadata": {
        "id": "y4nTlY9iEybl"
      },
      "source": [
        "### 3. Data Assignment and Visualization"
      ]
    },
    {
      "cell_type": "markdown",
      "metadata": {
        "id": "ZPmQVRNqHh7b"
      },
      "source": [
        "#### 3.1. Data Assignment"
      ]
    },
    {
      "cell_type": "code",
      "execution_count": null,
      "metadata": {
        "id": "t0vL7QVJE4Zu"
      },
      "outputs": [],
      "source": [
        "# Data Assignment \n",
        "input_size  = 256*256  # images are 256x256 pixels\n",
        "output_size = 4      # there are 4 classes - Normal, Covid, Lung_Opacity, Viral Pneumonia\n",
        "def get_data(data_dir):\n",
        "  train_transform =transforms.Compose([  \n",
        "      transforms.Resize(size = (224,224)),\n",
        "      transforms.ToTensor(),\n",
        "      transforms.Normalize(mean = [0.485, 0.456, 0.406],\n",
        "                                      std = [0.229, 0.224, 0.225])\n",
        "  ])\n",
        "\n",
        "  test_transform = transforms.Compose([\n",
        "      transforms.Resize(size = (224,224)),\n",
        "      transforms.ToTensor(),\n",
        "      transforms.Normalize(mean = [0.485, 0.456, 0.406],\n",
        "                                      std = [0.229, 0.224, 0.225])\n",
        "  ])\n",
        "\n",
        "  train_set = datasets.ImageFolder(data_dir + '/training_set' , transform=train_transform)\n",
        "  test_set = datasets.ImageFolder(data_dir + '/test_set', transform=test_transform)\n",
        "  val_set = datasets.ImageFolder(data_dir + '/valid_set', transform=test_transform)\n",
        "  #DataLoader\n",
        "  train =  torch.utils.data.DataLoader(train_set, batch_size=50, shuffle=True)\n",
        "  test =  torch.utils.data.DataLoader(test_set, batch_size=1, shuffle=True)\n",
        "  val =  torch.utils.data.DataLoader(val_set, batch_size=50, shuffle=True)  \n",
        "\n",
        "  dataloaders={'train':train,'val':val,'test':test}\n",
        "  dataset_sizes = {'train':len(train_set),'val':len(val_set),'test':len(test_set)}\n",
        "  class_names = train_set.classes\n",
        "\n",
        "  return dataloaders,dataset_sizes,class_names,train_set\n",
        "\n",
        "# Pathes of Data\n",
        "save_path='/content/gdrive/MyDrive/DeepLearning/Final_Project/Data/Saved_data_4C' #change to the right folder\n",
        "data_dir ='/content/gdrive/MyDrive/DeepLearning/Final_Project/Data/COVID-19_Radiography_Dataset_4C' #change to the right folder\n",
        "\n",
        "# Prepare Data\n",
        "dataloaders,dataset_sizes,class_names,train_set=get_data(data_dir)\n",
        "\n",
        "#Save Data\n",
        "torch.save(dataloaders,save_path + '/dataloaders.pt')\n",
        "torch.save(train_set,save_path + '/trainset.pt')\n",
        "torch.save(dataset_sizes,save_path + '/dataset_sizes.pt')\n",
        "torch.save(class_names,save_path + '/class_names.pt')\n",
        "\n",
        "train,val,test=dataloaders['train'],dataloaders['val'],dataloaders['test']\n"
      ]
    },
    {
      "cell_type": "markdown",
      "metadata": {
        "id": "cMtnJvaZGa9r"
      },
      "source": [
        "In the first time we read the pictures and save them as data so that the next time they will load faster."
      ]
    },
    {
      "cell_type": "code",
      "execution_count": null,
      "metadata": {
        "id": "vfyyiZDVnz0A"
      },
      "outputs": [],
      "source": [
        "# load Data\n",
        "save_path='/content/gdrive/MyDrive/DeepLearning/Final_Project/Data/Saved_data_4C' #change to the right folder\n",
        "dataloaders=torch.load(save_path + '/dataloaders.pt')\n",
        "train_set = torch.load(save_path + '/trainset.pt')\n",
        "dataset_sizes=torch.load(save_path + '/dataset_sizes.pt')\n",
        "class_names=torch.load(save_path + '/class_names.pt')\n",
        "train,val,test=dataloaders['train'],dataloaders['val'],dataloaders['test']"
      ]
    },
    {
      "cell_type": "markdown",
      "metadata": {
        "id": "OBeSxvv9F5vT"
      },
      "source": [
        "##### 3.1.1.sanity check"
      ]
    },
    {
      "cell_type": "code",
      "execution_count": null,
      "metadata": {
        "colab": {
          "base_uri": "https://localhost:8080/"
        },
        "id": "a5Z3KN5mGB3_",
        "outputId": "1181639a-dda6-47cc-9c33-f6a4634394ff"
      },
      "outputs": [],
      "source": [
        " # Data types\n",
        "# number of images\n",
        "print(\"train size=\",dataset_sizes['train'])\n",
        "print(\"val size=\",dataset_sizes['val'])\n",
        "print(\"test size=\",dataset_sizes['test'])\n",
        "\n",
        "# num of training Batches\n",
        "print('Num of training batches', len(train))\n",
        "print(\"Num of val batches\", len(val))\n",
        "print(\"Num of test batches\", len(test))"
      ]
    },
    {
      "cell_type": "markdown",
      "metadata": {
        "id": "rEJQbM9cHnal"
      },
      "source": [
        "#### 3.2.Data Visualization"
      ]
    },
    {
      "cell_type": "code",
      "execution_count": null,
      "metadata": {
        "colab": {
          "base_uri": "https://localhost:8080/"
        },
        "id": "TlFn9RWxUY7z",
        "outputId": "107aebac-4205-4bbc-b2c4-a4ee6bca6fb7"
      },
      "outputs": [],
      "source": [
        "images,_=iter(train).next()\n",
        "print(images.shape)"
      ]
    },
    {
      "cell_type": "code",
      "execution_count": null,
      "metadata": {
        "colab": {
          "base_uri": "https://localhost:8080/",
          "height": 473
        },
        "id": "hF4Qba1NHhD9",
        "outputId": "d0519710-7104-49cf-ed13-665ca751e2f5"
      },
      "outputs": [],
      "source": [
        "def train_imshow(data, classes, num_Img_show):\n",
        "    num_Img_show=5\n",
        "    classes=tuple(classes)\n",
        "    dataiter = iter(data)\n",
        "    images, labels = dataiter.next()\n",
        "    fig, axes = plt.subplots(figsize=(10, 4), ncols=num_Img_show)\n",
        "    mean = np.array([0.485, 0.456, 0.406])\n",
        "    std = np.array([0.229, 0.224, 0.225])\n",
        "    for i in range(num_Img_show):\n",
        "      ax = axes[i]\n",
        "      ax.imshow((images[i].permute(1, 2, 0)* std + mean)) \n",
        "      ax.title.set_text(' '.join('%5s' % classes[labels[i]]))\n",
        "    plt.show()\n",
        "\n",
        "def test_imshow(data, classes, num_Img_show):\n",
        "    # the batch size of the test set is one hence we write new func\n",
        "    classes=tuple(classes)\n",
        "    dataiter = iter(data)\n",
        "    #images, labels = dataiter.next()\n",
        "    fig, axes = plt.subplots(figsize=(10, 4), ncols=num_Img_show)\n",
        "    mean = np.array([0.485, 0.456, 0.406])\n",
        "    std = np.array([0.229, 0.224, 0.225])\n",
        "    for i in range(num_Img_show):\n",
        "      images, labels = dataiter.next()\n",
        "      ax = axes[i]\n",
        "      ax.imshow((images[0].permute(1, 2, 0)* std + mean)) \n",
        "      ax.title.set_text(' '.join('%5s' % classes[labels[0]]))\n",
        "    plt.show()\n",
        "\n",
        "\n",
        "classes=train_set.classes\n",
        "num_Img_show=5\n",
        "print(\"Train images :\")\n",
        "train_imshow(train,classes, num_Img_show)\n",
        "print(\"Test images :\")\n",
        "test_imshow(test,classes, num_Img_show)  # test batch_size=1"
      ]
    },
    {
      "cell_type": "code",
      "execution_count": null,
      "metadata": {
        "id": "qidiaqiZxdmf"
      },
      "outputs": [],
      "source": [
        "def visualize_model(model, num_images=6):\n",
        "  model.eval()\n",
        "  images_so_far = 0\n",
        "  fig = plt.figure()\n",
        "  with torch.no_grad():\n",
        "    for i, (inputs, labels) in enumerate(dataloaders['val']):\n",
        "      inputs = inputs.to(device)\n",
        "      labels = labels.to(device)\n",
        "      outputs = model(inputs)\n",
        "      _, preds = torch.max(outputs, 1)\n",
        "      for j in range(inputs.size()[0]):\n",
        "        images_so_far += 1\n",
        "        ax = plt.subplot(num_images//2, 2, images_so_far)\n",
        "        ax.axis('off')\n",
        "        ax.set_title('predicted: {}'.format(class_names[preds[j]]),'Original: {}'.format(class_names[labels[j]]))\n",
        "        imshow(inputs.cpu().data[j])"
      ]
    },
    {
      "cell_type": "markdown",
      "metadata": {
        "id": "22CTXEERbFaO"
      },
      "source": [
        "#Challenges/Limitations\n",
        "Our Main challenge in this task is to deal/learning from unbalanced data (Jason, 2021)- in the First stage the Normal data is 3 times greater than the COVID-19 data. In the second stage, we notice that the amount of data for each label is diverse.\n",
        "\n",
        "There are several ways to address that Imbalanced data challenge, as presented in (Wu & Radewagen, 2021) (Borda, 2021).\n",
        "\n",
        "In this project we will define the right evaluation **metrics**, we will use different **Regularization** techniques such as **Early Stoppings**, **Dropout** and **Batch Normalization** layers, learning rate and weight **decay**, Reduction the **Network Capacity**, we will define and test different **Architectures**, we will use **Resampling** and we will integrate **Augmentations** for both on fly and non-on fly preprocessing methods.\n"
      ]
    },
    {
      "cell_type": "markdown",
      "metadata": {
        "id": "CGDp-ZpSHgmZ"
      },
      "source": [
        "#Metrices stage 2"
      ]
    },
    {
      "cell_type": "markdown",
      "metadata": {
        "id": "WfY1YceHHkdi"
      },
      "source": [
        "We will present evaluation matrices for multiclass classification problem, which lead us to insights while dealing with imbalanced data.\n",
        "\n",
        "There are several methods for this kind of evaluation which presented in, while the key for those metrics is based dividing the multiclass problem into several binary problems i.e., generalization of the 2nd classes evaluation metrics presented above such as True/False positive, True/False Negative, Sensitivity etc.\n",
        "\n",
        "The overall performance evaluation will then be calculated using the **macro averaging** (Vaughan, 2021) and the **weighted macro averaging** by calculating the binary performance measures separately for each two classes comparison and taking the average/weighted average of the obtained measures.\n",
        "\n",
        "In order to define our evaluation metrics for each relevant class we will set our problem into binary problem which means we will consider our multiclass predictions down to just the relevant class and 1 class which represent all other class.\n"
      ]
    },
    {
      "cell_type": "markdown",
      "metadata": {
        "id": "5p1DjhReHyQq"
      },
      "source": [
        "![image.png](data:image/png;base64,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)"
      ]
    },
    {
      "cell_type": "markdown",
      "metadata": {
        "id": "0lV5spzbH3ey"
      },
      "source": [
        "Each element Class_(i,j) in the matrix describes the number of instances that were classified as class j but belongs to class i. \n",
        "\n",
        "C_(\"COVID\",\"COVID\"): represent the number of \"COVID-19\" samples that were predicted as \" COVID-19\".\n",
        "\n",
        "C_(\"COVID\",\"Opacity\"): represent the number of \"COVID-19\" samples that were predicted as \"Lung opacity\".\n",
        "\n",
        "C_(\"COVID\",\"NORMAL\"): represent the number of \"COVID-19\" samples that were predicted as \"Normal\".\n",
        "\n",
        "C_(\"COVID\",\"Pneumonia\"): represent the number of \"COVID-19\" samples that were predicted as \"Viral Pneumonia\".\n",
        "\n",
        "And so on..\n",
        "\n",
        "in our Case we deal with 4 class so we have matrix in the size of N^4x4 where the sum of all elements in the matrix is equal to the number of total samples used for test data (Kautza, Cristian, & F.Pasluosta, 2017).\n",
        "\n",
        "* The full metrics list in the report\n"
      ]
    },
    {
      "cell_type": "markdown",
      "metadata": {
        "id": "XelkVZs5IVrB"
      },
      "source": [
        "##Loss criterion \n",
        "Cross-entropy loss is a loss function widely used for multi-class classification problems. It’s built on the concept of cross-entropy, which is a measurement of two or more probability vectors (often with one of them being one-hot encoded labels in datasets). It penalizes the error of the prediction when it’s too much ‘away’ from the target with the log curve (loss increase dramatically when the distance becomes bigger similar to square error). Cross-entropy loss is usually used with a soft-max activation function.\n"
      ]
    },
    {
      "cell_type": "markdown",
      "metadata": {
        "id": "eijXC0WUIeRL"
      },
      "source": [
        "![image.png](data:image/png;base64,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)"
      ]
    },
    {
      "cell_type": "markdown",
      "metadata": {
        "id": "UKsk_iWKgOK5"
      },
      "source": [
        "### Train Model Function"
      ]
    },
    {
      "cell_type": "code",
      "execution_count": null,
      "metadata": {
        "colab": {
          "base_uri": "https://localhost:8080/"
        },
        "id": "rFQGtb8Z3bRU",
        "outputId": "21559ea3-069f-43b2-f0c9-6a2cd9ee86bc"
      },
      "outputs": [],
      "source": [
        "classes=train_set.class_to_idx\n",
        "classes"
      ]
    },
    {
      "cell_type": "code",
      "execution_count": null,
      "metadata": {
        "colab": {
          "base_uri": "https://localhost:8080/"
        },
        "id": "GYZf-tgqKPFg",
        "outputId": "988a1c0c-a5d8-4247-8a03-e0f49b808f62"
      },
      "outputs": [],
      "source": [
        "classes=train_set.class_to_idx\n",
        "occurnces={train_set.classes[i]:train_set.targets.count(i) for i in range(len(train_set.classes))}\n",
        "occurnces"
      ]
    },
    {
      "cell_type": "markdown",
      "metadata": {
        "id": "vS1b25DcGl8k"
      },
      "source": [
        "confusion matrix allows visualization of the performance of network "
      ]
    },
    {
      "cell_type": "code",
      "execution_count": null,
      "metadata": {
        "id": "E6rv7e6RRNUm"
      },
      "outputs": [],
      "source": [
        "def plot_confusion_matrix(cm, classes, normalize=False, title='Confusion matrix', cmap=plt.cm.Blues):\n",
        "  #print the confusion matrix in nice way\n",
        "    print(\"\\n\\n\")\n",
        "    print(\"Confusion Matrix\")\n",
        "    print(\"-\"*17)\n",
        "    printnorm=False\n",
        "    if printnorm:\n",
        "      if normalize:\n",
        "          cm = cm.astype('float') / cm.sum(axis=1)[:, np.newaxis]\n",
        "          print(\"Normalized confusion matrix\")\n",
        "      else:\n",
        "          print('Confusion matrix, without normalization')\n",
        "      print(cm)\n",
        "\n",
        "    plt.imshow(cm, interpolation='nearest', cmap=cmap)\n",
        "    plt.title(title)\n",
        "    plt.colorbar()\n",
        "    tick_marks = np.arange(len(classes))\n",
        "    plt.xticks(tick_marks, classes, rotation=45)\n",
        "    plt.yticks(tick_marks, classes)\n",
        "\n",
        "    fmt = '.2f' if normalize else 'd'\n",
        "    thresh = cm.max() / 2.\n",
        "    for i, j in itertools.product(range(cm.shape[0]), range(cm.shape[1])):\n",
        "        plt.text(j, i, format(cm[i, j], fmt), horizontalalignment=\"center\", color=\"white\" if cm[i, j] > thresh else \"black\")\n",
        "\n",
        "    plt.tight_layout()\n",
        "    plt.ylabel('True label')\n",
        "    plt.xlabel('Predicted label')\n",
        "    plt.show()\n",
        "\n",
        "def get_confusion_matrix(model,data):\n",
        "  # return confusion matrix and report\n",
        "  model.eval() # annotate model for evaluation\n",
        "  allpreds = []\n",
        "  alllabels = []\n",
        "  for imgs, labels in data:\n",
        "    imgs = imgs.to(device)\n",
        "    labels = labels.to(device)\n",
        "    output = model(imgs) # We don't need to run torch.softmax\n",
        "    pred = output.max(1, keepdim=True)[1] # get the index of the max log-probability\n",
        "    \n",
        "    allpreds.extend(pred)\n",
        "    alllabels.extend(labels)\n",
        "    \n",
        "  alllab = [x.tolist() for x in alllabels]\n",
        "  allpre = [x.tolist()[0] for x in allpreds]\n",
        "  CM = confusion_matrix(alllab,allpre,list(train_set.class_to_idx.values()))\n",
        "  CR = classification_report(alllab,allpre,target_names= list(train_set.class_to_idx.keys()))\n",
        "  \n",
        "  return CM, CR\n",
        "\n",
        "def get_specificity(cm, classes):\n",
        "  # calculate the specifiticy from the confusion matrix\n",
        "  specificity = [0] * len(classes)\n",
        "  \n",
        "  for c in range(len(classes)):\n",
        "    tn=0\n",
        "    fp=0\n",
        "    for i in range(cm.shape[0]):\n",
        "      for j in range(cm.shape[1]):\n",
        "        if i!=c and j!=c:\n",
        "          tn+=cm[i,j]\n",
        "        elif i!=c and j==c: ### we should run only on the rows\n",
        "          fp+=cm[i,j]\n",
        "    specificity[c] = tn/(tn+fp)\n",
        "  return specificity\n",
        "\n",
        "def print_specificity(specificity, classes):\n",
        "  print(\"Specificity\\n----------\")\n",
        "  for i,c in enumerate(classes):\n",
        "    print('%15s  ' % c, \"%.4f\" % specificity[i])\n",
        "  "
      ]
    },
    {
      "cell_type": "code",
      "execution_count": null,
      "metadata": {
        "id": "pea8T6MO59BW"
      },
      "outputs": [],
      "source": [
        "def plot_learning_curve(iters, losses, iters_sub, train_accs, val_accs, losses_valid):\n",
        "    \"\"\"\n",
        "    Plot the learning curve.\n",
        "    \"\"\"\n",
        "    plt.title(\"Learning Curve: Loss per Iteration\")\n",
        "    plt.plot(iters, losses, label=\"Train\")\n",
        "    plt.plot(iters, losses_valid, label=\"Validation\")\n",
        "    plt.xlabel(\"Epochs\")\n",
        "    plt.ylabel(\"Loss\")\n",
        "    plt.legend(loc='best')\n",
        "    plt.show()\n",
        "\n",
        "    plt.title(\"Learning Curve: Accuracy per Iteration\")\n",
        "    plt.plot(iters_sub, train_accs, label=\"Train\")\n",
        "    plt.plot(iters_sub, val_accs, label=\"Validation\")\n",
        "    plt.xlabel(\"Epochs\")\n",
        "    plt.ylabel(\"Accuracy\")\n",
        "    plt.legend(loc='best')\n",
        "    plt.show()"
      ]
    },
    {
      "cell_type": "code",
      "execution_count": null,
      "metadata": {
        "id": "ZxQH7t1JhdWb"
      },
      "outputs": [],
      "source": [
        "def train_model(model, criterion, optimizer, scheduler, num_epochs=25,\n",
        "                checkpoint_path= '/content/gdrive/MyDrive/DeepLearning/Final_Project/Weights_4C/ckpt-{}.pk'):\n",
        "               \n",
        "  \n",
        "  '''\n",
        "  'C:\\\\Users\\\\Ahat\\\\Desktop\\\\Dor\\\\Weigths_4C\n",
        "\n",
        "  If you want to **checkpoint** your model weights (i.e. save the\n",
        "    model weights to Google Drive), then the parameter\n",
        "    `checkpoint_path` should be a string path with `{}` to be replaced\n",
        "    by the iteration count:\n",
        "\n",
        "    For example, calling \n",
        "\n",
        "    >>> run_pytorch_gradient_descent(model, ...,\n",
        "            checkpoint_path = '/content/gdrive/My Drive/Intro_to_Deep_Learning/mlp/ckpt-{}.pk')\n",
        "\n",
        "    will save the model parameters in Google Drive every 500 iterations.\n",
        "    You will have to make sure that the path exists (i.e. you'll need to create\n",
        "    the folder Intro_to_Deep_Learning, mlp, etc...). Your Google Drive will be populated with files:\n",
        "\n",
        "    - /content/gdrive/My Drive/Intro_to_Deep_Learning/mlp/ckpt-500.pk\n",
        "    - /content/gdrive/My Drive/Intro_to_Deep_Learning/mlp/ckpt-1000.pk\n",
        "    - ...\n",
        "\n",
        "    To load the weights at a later time, you can run:\n",
        "\n",
        "    >>> model.load_state_dict(torch.load('/content/gdrive/My Drive/Intro_to_Deep_Learning/mlp/ckpt-500.pk'))\n",
        "\n",
        "    This function returns the training loss, and the training/validation accuracy,\n",
        "    which we can use to plot the learning curve.\n",
        "  '''\n",
        "  since = time.time()\n",
        "  best_model_wts = copy.deepcopy(model.state_dict())\n",
        "  best_acc = 0.0\n",
        "  loss_val=[]\n",
        "  loss_val_iter=[]\n",
        "  loss_train=[]\n",
        "  loss_train_iter=[]\n",
        "  acc_val=[]\n",
        "  acc_train=[]\n",
        "  iters=[]\n",
        "  iter=0\n",
        "  for epoch in range(num_epochs):\n",
        "      print('Epoch {}/{}'.format(epoch, num_epochs - 1))\n",
        "      #print('-' * 10)\n",
        "      # Each epoch has a training and validation phase\n",
        "      for phase in ['train', 'val']:\n",
        "          if phase == 'train':\n",
        "              model.train()  # Set model to training mode\n",
        "          else:\n",
        "              model.eval()   # Set model to evaluate mode\n",
        "\n",
        "          running_loss = 0.0\n",
        "          running_corrects = 0\n",
        "\n",
        "          # Iterate over data.\n",
        "          maxlen=0\n",
        "          for inputs, labels in dataloaders[phase]:\n",
        "              maxlen+=1\n",
        "              iter+=1\n",
        "              print(iter)\n",
        "              inputs = inputs.to(device)\n",
        "              labels = labels.to(device)\n",
        "              # zero the parameter gradients\n",
        "              optimizer.zero_grad()\n",
        "              # print(labels.shape)\n",
        "              ########### forward ##############\n",
        "              # track history if only in train\n",
        "              with torch.set_grad_enabled(phase == 'train'):\n",
        "                  outputs = model(inputs)\n",
        "                  _, preds = torch.max(outputs, 1)\n",
        "                  loss = criterion(outputs, labels)\n",
        "                  iters.append(iter)\n",
        "                  if phase == 'train':\n",
        "                    loss_train_iter.append(float(loss)/labels.shape[0])  # compute *average* loss\n",
        "                  else:\n",
        "                    loss_val_iter.append(float(loss)/labels.shape[0])  # compute *average* loss\n",
        "              ########### backward + optimize only if in training phase #######\n",
        "                  if phase == 'train':\n",
        "                      loss.backward()\n",
        "                      optimizer.step()\n",
        "              #if (checkpoint_path is not None) and iter%10000==0 and phase == 'train':\n",
        "                #torch.save(model.state_dict(), checkpoint_path.format(iter))\n",
        "                #print('saved-{}'.format(iter))\n",
        "              # statistics\n",
        "              running_loss += loss.item() * inputs.size(0)\n",
        "              running_corrects += torch.sum(preds == labels.data)\n",
        "          if phase == 'train':\n",
        "              scheduler.step()\n",
        "\n",
        "          epoch_loss = running_loss / dataset_sizes[phase]\n",
        "          epoch_acc = running_corrects.double() / dataset_sizes[phase]\n",
        "          if phase == 'train':\n",
        "            loss_train.append(epoch_loss)\n",
        "            acc_train.append(epoch_acc)\n",
        "          else:\n",
        "            loss_val.append(epoch_loss)\n",
        "            acc_val.append(epoch_acc)\n",
        "\n",
        "\n",
        "          print('{} Loss: {:.4f} Acc: {:.4f}'.format(\n",
        "              phase, epoch_loss, epoch_acc))\n",
        "\n",
        "          # deep copy the model\n",
        "          if phase == 'val' and epoch_acc > best_acc:\n",
        "              best_acc = epoch_acc\n",
        "              best_model_wts = copy.deepcopy(model.state_dict())\n",
        "              torch.save(model.state_dict(), checkpoint_path.format(epoch)+'_best_model_wts')\n",
        "      plot_learning_curve(list(range(epoch+1)), loss_train, list(range(epoch+1)), acc_train, acc_val, loss_val)\n",
        "      print()\n",
        "      print()\n",
        "\n",
        "  time_elapsed = time.time() - since\n",
        "  print('Training complete in {:.0f}m {:.0f}s'.format(\n",
        "      time_elapsed // 60, time_elapsed % 60))\n",
        "  print('Best val Acc: {:4f}'.format(best_acc))\n",
        "\n",
        "  # load best model weights\n",
        "  model.load_state_dict(best_model_wts)\n",
        "  train_statistics=(loss_train,acc_train,loss_train_iter)\n",
        "  val_statistics=(loss_val,acc_val,loss_val_iter)\n",
        "  return model,train_statistics,val_statistics"
      ]
    },
    {
      "cell_type": "code",
      "execution_count": null,
      "metadata": {
        "id": "3ISm6gSc5GEU"
      },
      "outputs": [],
      "source": [
        "def printbestacc(statistics):\n",
        "  # print the epoces acc and find the max acc\n",
        "  max = 0\n",
        "  index=0\n",
        "  for i,x in enumerate(statistics):\n",
        "    print(\"Epoce\",i,\",  acc =\",float(x))\n",
        "    if float(x)>max:\n",
        "      index, max = i, float(x)\n",
        "  print(\"Best Acc in epoce\",index,\" - \",max)"
      ]
    },
    {
      "cell_type": "code",
      "execution_count": null,
      "metadata": {
        "id": "MHrbQ7BRbhG6"
      },
      "outputs": [],
      "source": [
        "def Run_Simulation(architecture, architecture_name, num_epochs,n_features,output_size,optimizer_name,lr_val,weight_decay_val,step_size_val,gamma_val,momentum_val,checkpoint_optimizer_path,sim_num,load_flag = False,loading_path=None):\n",
        "  # One function that unifies the running of the network and the required prints\n",
        "  start = datetime.now()\n",
        "  \n",
        "  print(\"Simulation num  -\", sim_num)\n",
        "  print(\"Architecture  -\", architecture_name)\n",
        "  print(\"Optimizer -\", optimizer_name, \"\\t lr value -\", lr_val, \"\\t Weight decay value -\", weight_decay_val)\n",
        "  print(\"Step size value -\", step_size_val, \"\\t gamma value -\",gamma_val, \"\\t momentum value -\",momentum_val)\n",
        "  print(\"Num of epochs -\", num_epochs)\n",
        "  print(\"\\nStart trainig:\\n\")\n",
        "  CNN_model=architecture(3,n_features,output_size)\n",
        "  CNN_model = CNN_model.to(device)\n",
        "  if load_flag== True:\n",
        "    CNN_model.load_state_dict(torch.load(checkpoint_optimizer_path+loading_path))\n",
        "  #if criterion == \"CrossEntropy\":\n",
        "  criterion_CNN = nn.CrossEntropyLoss()\n",
        "  if optimizer_name == \"Adam\":\n",
        "    optimizer = optim.Adam(CNN_model.parameters(), lr=lr_val,weight_decay=weight_decay_val)\n",
        "  elif optimizer_name == \"SGD\":\n",
        "    optimizer = optim.SGD(CNN_model.parameters(), lr=lr_val,momentum=momentum_val)\n",
        "  exp_lr_scheduler = lr_scheduler.StepLR(optimizer, step_size=step_size_val, gamma=gamma_val)\n",
        "\n",
        "  date = datetime.now().strftime(\"%d/%m/%Y\")\n",
        "  #'/ckpt_1.07.21_CNN_1st_try_dropbatch_add-{}_64_0.0001_.pk'\n",
        "  # checkpoint_of_sim = '/ckpt_' + date + '_' + architecture_name + '_' + sim_num +'.pk'\n",
        "  CNN_model,train_statistics,val_statistics = train_model(CNN_model, criterion_CNN, optimizer, exp_lr_scheduler,num_epochs) #,checkpoint_path=checkpoint_optimizer_path)\n",
        "  plot_learning_curve(np.array(range(num_epochs)), train_statistics[0], np.array(range(num_epochs)), train_statistics[1], val_statistics[1], val_statistics[0])\n",
        "  printbestacc(val_statistics[1])\n",
        "  CM, CR = get_confusion_matrix(CNN_model,test)\n",
        "  print(\"Report\")\n",
        "  print(\"-\"*7)\n",
        "  print(CR)\n",
        "  print_specificity(get_specificity(CM, list(train_set.class_to_idx.keys())),list(train_set.class_to_idx.keys()))\n",
        "  time.sleep(10)\n",
        "  plot_confusion_matrix(CM, list(train_set.class_to_idx.keys()))\n",
        "  end = datetime.now()\n",
        "  print(\"Time to run simulation\", sim_num, \":\", end-start)\n",
        "  print('-' * 50)\n",
        "  print(\"\\n\\n\")\n",
        "\n",
        "\n"
      ]
    },
    {
      "cell_type": "markdown",
      "metadata": {
        "id": "f3uy29BgZ7vQ"
      },
      "source": [
        "#Benchmark "
      ]
    },
    {
      "cell_type": "markdown",
      "metadata": {
        "id": "PvRvwvFCaHDw"
      },
      "source": [
        "##ResNet 18\n",
        "\n",
        "As in the 1st stage, we used the RasNet18 as a benchmark for comparison in order to evaluate out models.\n",
        "\n",
        "The architecture of ResNet18 for a given input image with size 3x224x24 described as above.\n",
        "\n",
        "As before, In order to train Resnet for our classification task, we used the following settings:\n",
        "\n",
        "a.\tWe replaced the Fully connected layer with layer with n features output and 2 outputs.\n",
        "\n",
        "b.\tWe used the Cross Entropy loss as a Criterion.\n",
        "\n",
        "c.\tWe used SGD with momentum 0.7 as our Optimizer and learning rate decay starting from lr=0.001.\n"
      ]
    },
    {
      "cell_type": "code",
      "execution_count": null,
      "metadata": {
        "colab": {
          "base_uri": "https://localhost:8080/",
          "height": 83,
          "referenced_widgets": [
            "38dfa134117a45c68599177dd1b2fa72",
            "3e4b76a2b1c64bd4af7faa338419a7ac",
            "d6cbacaea7df4b569b003c48c3d3f927",
            "b473a486bd5043829a7d3d40f73d8c24",
            "da3452b3c2164045a3bbd182181325c0",
            "672e66f0ac5043a6aa419f36337ed4fc",
            "d111eee940564d6dac2557389d16db7e",
            "179f8cc96fbe4680b37868630d5f69cf"
          ]
        },
        "id": "0NSygNfyGYM2",
        "outputId": "24b83644-1b2a-4056-89a1-76e5090ebf52"
      },
      "outputs": [],
      "source": [
        "ResNet18 = models.resnet18(pretrained = True)\n",
        "ResNet18.fc = torch.nn.Linear(in_features = 512, out_features = 4)\n",
        "ResNet18 = ResNet18.to(device)\n",
        "checkpoint_ResNet18_path='/content/gdrive/MyDrive/DeepLearning/Final_Project/Weights_4C/Weights_ResNet18'"
      ]
    },
    {
      "cell_type": "markdown",
      "metadata": {
        "id": "R7cHXmU6i1zc"
      },
      "source": [
        "##### balanced data + SGD + Momentum 0.7 + lr 0.001"
      ]
    },
    {
      "cell_type": "code",
      "execution_count": null,
      "metadata": {
        "colab": {
          "base_uri": "https://localhost:8080/"
        },
        "id": "D8lkR_x_g0F2",
        "outputId": "c371ec90-1fdb-4ec2-fd5c-4747562e8d77"
      },
      "outputs": [],
      "source": [
        "ResNet18 = models.resnet18(pretrained = True)\n",
        "ResNet18.fc = torch.nn.Linear(in_features = 512, out_features = 4)\n",
        "ResNet18 = ResNet18.to(device)\n",
        "criterion_ResNet18 = nn.CrossEntropyLoss()\n",
        "# Observe that all parameters are being optimized\n",
        "optimizer_ResNet18 = optim.SGD(ResNet18.parameters(), lr=0.001, momentum=0.7)\n",
        "# Decay LR by a factor of 0.1 every 7 epochs\n",
        "exp_lr_scheduler = lr_scheduler.StepLR(optimizer_ResNet18, step_size=7, gamma=0.1)\n",
        "num_epochs=20\n",
        "checkpoint_ResNet18_path='/content/gdrive/MyDrive/DeepLearning/Final_Project/Weights/Weights_ResNet18'\n",
        "# ResNet18.load_state_dict(torch.load('/content/gdrive/MyDrive/DeepLearning/Final_Project/Weights/ckpt-500.pk'))\n",
        "ResNet18,train_statistics,val_statistics = train_model(ResNet18, criterion_ResNet18,\n",
        "                                                       optimizer_ResNet18, exp_lr_scheduler,\n",
        "                                                       num_epochs,checkpoint_path=checkpoint_ResNet18_path+'/ckpt_23_06_-{}.pk')                    "
      ]
    },
    {
      "cell_type": "code",
      "execution_count": null,
      "metadata": {
        "colab": {
          "base_uri": "https://localhost:8080/"
        },
        "id": "-SblPOjoJKYT",
        "outputId": "52a2f333-cc09-42b2-d814-7215c634d4a8"
      },
      "outputs": [],
      "source": [
        "printbestacc(val_statistics[1])"
      ]
    },
    {
      "cell_type": "code",
      "execution_count": null,
      "metadata": {
        "colab": {
          "base_uri": "https://localhost:8080/",
          "height": 573
        },
        "id": "EkIRgA1Z7LwK",
        "outputId": "f193b2ff-c0b7-4dc0-b768-58e68a4efc93"
      },
      "outputs": [],
      "source": [
        "plot_learning_curve(np.array(range(num_epochs)), train_statistics[0], np.array(range(num_epochs)), train_statistics[1], val_statistics[1], val_statistics[0])"
      ]
    },
    {
      "cell_type": "code",
      "execution_count": null,
      "metadata": {
        "colab": {
          "base_uri": "https://localhost:8080/",
          "height": 614
        },
        "id": "KZ015kaHgYe5",
        "outputId": "ac2dfd2d-a84e-49f8-9642-6404c4d757ba"
      },
      "outputs": [],
      "source": [
        "CM, CR = get_confusion_matrix(ResNet18,test)\n",
        "\n",
        "print(\"Report\")\n",
        "print(\"-\"*7)\n",
        "print(CR)\n",
        "\n",
        "plot_confusion_matrix(CM, list(train_set.class_to_idx.keys()))\n"
      ]
    },
    {
      "cell_type": "markdown",
      "metadata": {
        "id": "yPGp7mLxjCE1"
      },
      "source": [
        "##### imbalanced data + SGD + Momentum 0.9 + lr 0.001"
      ]
    },
    {
      "cell_type": "code",
      "execution_count": null,
      "metadata": {
        "colab": {
          "base_uri": "https://localhost:8080/",
          "height": 1000
        },
        "id": "PP0c-IAZiIIo",
        "outputId": "6f2cc303-1b43-4c62-adc5-0d5abbe75109"
      },
      "outputs": [],
      "source": [
        "## ResNet for imbalanced data\n",
        "ResNet18 = models.resnet18(pretrained = True)\n",
        "ResNet18.fc = torch.nn.Linear(in_features = 512, out_features = 4)\n",
        "ResNet18 = ResNet18.to(device)\n",
        "criterion_ResNet18 = nn.CrossEntropyLoss()\n",
        "# Observe that all parameters are being optimized\n",
        "optimizer_ResNet18 = optim.SGD(ResNet18.parameters(), lr=0.001, momentum=0.9)\n",
        "# Decay LR by a factor of 0.1 every 7 epochs\n",
        "exp_lr_scheduler = lr_scheduler.StepLR(optimizer_ResNet18, step_size=12, gamma=0.1)\n",
        "num_epochs=20\n",
        "checkpoint_ResNet18_path='/content/gdrive/MyDrive/DeepLearning/Final_Project/Weights_4C/Weights_ResNet18'\n",
        "# ResNet18.load_state_dict(torch.load('/content/gdrive/MyDrive/DeepLearning/Final_Project/Weights/ckpt-500.pk'))\n",
        "ResNet18,train_statistics,val_statistics = train_model(ResNet18, criterion_ResNet18,\n",
        "                                                       optimizer_ResNet18, exp_lr_scheduler,\n",
        "                                                       num_epochs,checkpoint_path=checkpoint_ResNet18_path+'/ckpt_03_07_-{}.pk')\n",
        "printbestacc(val_statistics[1])\n",
        "plot_learning_curve(np.array(range(num_epochs)), train_statistics[0], np.array(range(num_epochs)), train_statistics[1], val_statistics[1], val_statistics[0])\n",
        "CM, CR = get_confusion_matrix(ResNet18,test)\n",
        "print(\"Report\")\n",
        "print(\"-\"*7)\n",
        "print(CR)\n",
        "plot_confusion_matrix(CM, list(train_set.class_to_idx.keys()))\n",
        "print_specificity(get_specificity(CM, list(train_set.class_to_idx.keys())),list(train_set.class_to_idx.keys()))"
      ]
    },
    {
      "cell_type": "code",
      "execution_count": null,
      "metadata": {
        "colab": {
          "base_uri": "https://localhost:8080/"
        },
        "id": "hk7wHTU4-2fx",
        "outputId": "a9fb6415-8229-47f5-f0cf-38f97225c054"
      },
      "outputs": [],
      "source": [
        "  print_specificity(get_specificity(CM, list(train_set.class_to_idx.keys())),list(train_set.class_to_idx.keys()))"
      ]
    },
    {
      "cell_type": "markdown",
      "metadata": {
        "id": "IUcy8vp2FdNk"
      },
      "source": [
        "##### **ResNet18 - Conclusions**\n",
        "1. After 10 epochs the model accuracy is steady.\n",
        "2. Test accuarcy : 93%\n",
        "3. Trainable params: 11,178,564\n",
        " "
      ]
    },
    {
      "cell_type": "markdown",
      "metadata": {
        "id": "wlslr9LRq5lY"
      },
      "source": [
        "We can observe that ResNet achieves quite good \"**Lung opacity**\" recall."
      ]
    },
    {
      "cell_type": "code",
      "execution_count": null,
      "metadata": {
        "colab": {
          "base_uri": "https://localhost:8080/"
        },
        "id": "nCg8Epge6oAi",
        "outputId": "ff4fe164-c5d9-42ca-a033-c7a42475032f"
      },
      "outputs": [],
      "source": [
        "summary(ResNet18, (3, 224, 224))"
      ]
    },
    {
      "cell_type": "markdown",
      "metadata": {
        "id": "t72E1eVfhTZS"
      },
      "source": [
        "##VGG16\n",
        "We also used VGG16 as a benchmark to evaluate our models.\n",
        "\n",
        "The architecture of VGG16 for a given input image with size 3x224x24 described as above.\n",
        "\n",
        "As before, In order to train VGG16 for our classification task, we used the following settings:\n",
        "\n",
        "a.\tWe replaced the Fully connected layer with layer with n features output and 4 outputs.\n",
        "\n",
        "b.\tWe used the Cross Entropy loss as a Criterion.\n",
        "\n",
        "c.\tWe used SGD with momentum 0.7 as our Optimizer and learning rate decay starting from lr=0.001.\n"
      ]
    },
    {
      "cell_type": "code",
      "execution_count": null,
      "metadata": {
        "colab": {
          "base_uri": "https://localhost:8080/"
        },
        "id": "22zQSgLNsWtK",
        "outputId": "18c3ded0-4efd-432d-e342-606f50bb1c60"
      },
      "outputs": [],
      "source": [
        "vgg16 = models.vgg16(pretrained = True)\n",
        "vgg16.fc = torch.nn.Linear(in_features = 512, out_features = 4)\n",
        "vgg16 = vgg16.to(device)\n",
        "checkpoint_VGG16_path='/content/gdrive/MyDrive/DeepLearning/Final_Project/Weights/Weights_VGG16'\n",
        "summary(vgg16, (3, 224, 224))\n",
        "vgg16.classifier"
      ]
    },
    {
      "cell_type": "markdown",
      "metadata": {
        "id": "hDj-xsDrjMBr"
      },
      "source": [
        "##### imbalanced data + SGD + Momentum 0.9 + lr 0.001"
      ]
    },
    {
      "cell_type": "code",
      "execution_count": null,
      "metadata": {
        "colab": {
          "base_uri": "https://localhost:8080/",
          "height": 1000
        },
        "id": "hujbcZQS2_lw",
        "outputId": "d29c5b7d-f1c9-4d46-d4c9-3048a7911ff5"
      },
      "outputs": [],
      "source": [
        "#unbalnced data\n",
        "vgg16 = models.vgg16(pretrained = True)\n",
        "vgg16.fc = torch.nn.Linear(in_features = 512, out_features = 4)\n",
        "vgg16 = vgg16.to(device)\n",
        "criterion_vgg16 = nn.CrossEntropyLoss()\n",
        "# Observe that all parameters are being optimized\n",
        "optimizer_vgg16 = optim.SGD(vgg16.parameters(), lr=0.001, momentum=0.9)\n",
        "# Decay LR by a factor of 0.1 every 7 epochs\n",
        "exp_lr_scheduler = lr_scheduler.StepLR(optimizer_vgg16, step_size=7, gamma=0.1)\n",
        "num_epochs=20\n",
        "checkpoint_VGG16_path='/content/gdrive/MyDrive/DeepLearning/Final_Project/Weights_4C/Weights_VGG'\n",
        "vgg16,train_statistics,val_statistics = train_model(vgg16, criterion_vgg16,\n",
        "                                                    optimizer_vgg16, exp_lr_scheduler,\n",
        "                                                    num_epochs,checkpoint_path=checkpoint_VGG16_path+'/ckpt-{}.pk')        \n",
        "printbestacc(val_statistics[1])\n",
        "plot_learning_curve(np.array(range(num_epochs)), train_statistics[0], np.array(range(num_epochs)), train_statistics[1], val_statistics[1], val_statistics[0])\n",
        "CM, CR = get_confusion_matrix(ResNet18,test)\n",
        "print(\"Report\")\n",
        "print(\"-\"*7)\n",
        "print(CR)\n",
        "plot_confusion_matrix(CM, list(train_set.class_to_idx.keys()))\n",
        "print_specificity(get_specificity(CM, list(train_set.class_to_idx.keys())),list(train_set.class_to_idx.keys()))\n"
      ]
    },
    {
      "cell_type": "code",
      "execution_count": null,
      "metadata": {
        "colab": {
          "base_uri": "https://localhost:8080/",
          "height": 1000
        },
        "id": "hXuK10E9M-rU",
        "outputId": "c3a7f6f3-355f-4eb6-df14-fa44a8f4b074"
      },
      "outputs": [],
      "source": [
        "printbestacc(val_statistics[1])\n",
        "plot_learning_curve(np.array(range(num_epochs)), train_statistics[0], np.array(range(num_epochs)), train_statistics[1], val_statistics[1], val_statistics[0])\n",
        "CM, CR = get_confusion_matrix(vgg16,test)\n",
        "print(\"Report\")\n",
        "print(\"-\"*7)\n",
        "print(CR)\n",
        "plot_confusion_matrix(CM, list(train_set.class_to_idx.keys()))\n",
        "print_specificity(get_specificity(CM, list(train_set.class_to_idx.keys())),list(train_set.class_to_idx.keys()))"
      ]
    },
    {
      "cell_type": "markdown",
      "metadata": {
        "id": "bsMPmlXfjnVm"
      },
      "source": [
        "##### balanced data + SGD + Momentum 0.9 + lr 0.001"
      ]
    },
    {
      "cell_type": "code",
      "execution_count": null,
      "metadata": {
        "id": "2Ad6TZirM6N-"
      },
      "outputs": [],
      "source": [
        "vgg16 = models.vgg16(pretrained = True)\n",
        "vgg16.fc = torch.nn.Linear(in_features = 512, out_features = 4)\n",
        "vgg16 = vgg16.to(device)\n",
        "criterion_vgg16 = nn.CrossEntropyLoss()\n",
        "# Observe that all parameters are being optimized\n",
        "optimizer_vgg16 = optim.SGD(vgg16.parameters(), lr=0.001, momentum=0.9)\n",
        "# Decay LR by a factor of 0.1 every 7 epochs\n",
        "exp_lr_scheduler = lr_scheduler.StepLR(optimizer_vgg16, step_size=7, gamma=0.1)\n",
        "num_epochs=20\n",
        "checkpoint_VGG16_path='/content/gdrive/MyDrive/DeepLearning/Final_Project/Weights/Weights_VGG16'\n",
        "vgg16,train_statistics,val_statistics = train_model(vgg16, criterion_vgg16,\n",
        "                                                    optimizer_vgg16, exp_lr_scheduler,\n",
        "                                                    num_epochs,checkpoint_path=checkpoint_VGG16_path+'/ckpt_05_07-{}.pk')       \n",
        "\n",
        "printbestacc(val_statistics[1])\n",
        "plot_learning_curve(np.array(range(num_epochs)), train_statistics[0], np.array(range(num_epochs)), train_statistics[1], val_statistics[1], val_statistics[0])\n",
        "CM, CR = get_confusion_matrix(vgg16,test)\n",
        "print(\"Report\")\n",
        "print(\"-\"*7)\n",
        "print(CR)\n",
        "plot_confusion_matrix(CM, list(train_set.class_to_idx.keys()))\n",
        "print_specificity(get_specificity(CM, list(train_set.class_to_idx.keys())),list(train_set.class_to_idx.keys()))"
      ]
    },
    {
      "cell_type": "code",
      "execution_count": null,
      "metadata": {
        "colab": {
          "base_uri": "https://localhost:8080/"
        },
        "id": "oDbuS9XVZhAU",
        "outputId": "defc2719-f14a-4fed-b2fb-5f05f61488a8"
      },
      "outputs": [],
      "source": [
        "#vgg16.load_state_dict(torch.load(checkpoint_VGG16_path+'/ckpt-9.pk_best_model_wts'))"
      ]
    },
    {
      "cell_type": "code",
      "execution_count": null,
      "metadata": {
        "colab": {
          "base_uri": "https://localhost:8080/"
        },
        "id": "r7CkO1Q_QkWw",
        "outputId": "38ebae3f-ce32-464c-d556-90c450ed1f93"
      },
      "outputs": [],
      "source": [
        "printbestacc(val_statistics[1])"
      ]
    },
    {
      "cell_type": "code",
      "execution_count": null,
      "metadata": {
        "colab": {
          "base_uri": "https://localhost:8080/",
          "height": 573
        },
        "id": "cacDY4jhQrp9",
        "outputId": "66df1c5c-9d28-4db7-8b9c-80ba92f60f2e"
      },
      "outputs": [],
      "source": [
        "plot_learning_curve(np.array(range(num_epochs)), train_statistics[0], np.array(range(num_epochs)), train_statistics[1], val_statistics[1], val_statistics[0])"
      ]
    },
    {
      "cell_type": "code",
      "execution_count": null,
      "metadata": {
        "colab": {
          "base_uri": "https://localhost:8080/",
          "height": 614
        },
        "id": "XLlo6SIZQ5TE",
        "outputId": "59985d70-976e-42e2-d05a-a760bdb764e9"
      },
      "outputs": [],
      "source": [
        "CM, CR = get_confusion_matrix(ResNet18,test)\n",
        "\n",
        "print(\"Report\")\n",
        "print(\"-\"*7)\n",
        "print(CR)\n",
        "plot_confusion_matrix(CM, list(train_set.class_to_idx.keys()))"
      ]
    },
    {
      "cell_type": "markdown",
      "metadata": {
        "id": "ND-PE-QRGEaf"
      },
      "source": [
        "##### **VGG16 - Conclusion** \n",
        "1. After aproximatlly 7 epochs the model accuracy is steady.\n",
        "2. Test accuarcy : 95%\n",
        "3. much less layers in compersion to ResNet18 \n",
        "4. Trainable params: 138,357,544"
      ]
    },
    {
      "cell_type": "markdown",
      "metadata": {
        "id": "wvz5VGbcqLtk"
      },
      "source": [
        "We can observe the following insights:\n",
        "1.\tVGG16 is performed better then ResNet18, while achieving weighted F1-score of 95%.\n",
        "2.\tBoth state-of-the-art models are having hard time to classify \"**Lung Opacity**\" class samples as belong \"**Lung Opacity**\" class, Which lead to low **recall**.\n",
        "3.\tBoth state-of-the-art models are having hard time to classify \" **NORMAL**\" class samples as belong \" **NORMAL** \" class, Which lead to low **recall**.\n",
        "4.\tMoreover, both the models find it difficult to distinguish between between samples from \"**NORMAL**\" class and \"**Lung Opacity**\" class – low **specificity**.\n"
      ]
    },
    {
      "cell_type": "code",
      "execution_count": null,
      "metadata": {
        "colab": {
          "base_uri": "https://localhost:8080/"
        },
        "id": "KvjH_daC6ZlX",
        "outputId": "dd9c1a66-bd49-427a-9db3-d21dc396a733"
      },
      "outputs": [],
      "source": [
        "summary(vgg16, (3, 224, 224))"
      ]
    },
    {
      "cell_type": "markdown",
      "metadata": {
        "id": "oX8-BiPPrnFS"
      },
      "source": [
        "#Network"
      ]
    },
    {
      "cell_type": "markdown",
      "metadata": {
        "id": "4cz02QBJYEld"
      },
      "source": [
        "##CNN_1st_try - Balanced data"
      ]
    },
    {
      "cell_type": "code",
      "execution_count": null,
      "metadata": {
        "id": "nqJaugBje9qk"
      },
      "outputs": [],
      "source": [
        "class CNN_1st_try(nn.Module): ## BS =32 ,  optim.SGD(CNN_1st_try_model.parameters(), lr=0.01,momentum=0.9)\n",
        "    def __init__(self, input_size, n_feature, output_size):\n",
        "        super(CNN_1st_try, self).__init__()\n",
        "        self.n_feature = n_feature\n",
        "        self.conv1 = nn.Conv2d(in_channels=3, out_channels=n_feature, kernel_size=5)\n",
        "        self.conv2 = nn.Conv2d(n_feature, n_feature, kernel_size=5)\n",
        "        self.ReLU=nn.ReLU()\n",
        "        self.max_pool2d=nn.MaxPool2d(kernel_size=2)\n",
        "        self.fc1 = nn.Linear(n_feature*2*2, 100)\n",
        "        self.fc2 = nn.Linear(100, output_size)\n",
        "        \n",
        "    def forward(self, x, verbose=False):\n",
        "        x = self.conv1(x)\n",
        "        x = self.ReLU(x)\n",
        "        x = self.max_pool2d(x)\n",
        "        x = self.conv2(x)\n",
        "        x = self.ReLU(x)\n",
        "        x = self.max_pool2d(x)\n",
        "        x = self.conv2(x)\n",
        "        x = self.ReLU(x)\n",
        "        x = self.max_pool2d(x)\n",
        "        x = self.conv2(x)\n",
        "        x = self.ReLU(x)\n",
        "        x = self.max_pool2d(x)\n",
        "        x = self.conv2(x)\n",
        "        x = self.ReLU(x)\n",
        "        x = self.conv2(x)\n",
        "        x = self.ReLU(x)\n",
        "        x = x.view(-1, self.n_feature*2*2)\n",
        "        x = self.fc1(x)\n",
        "        x = self.ReLU(x)\n",
        "        x = self.fc2(x)\n",
        "        # print(x)\n",
        "        # x = F.log_softmax(x, dim=1)\n",
        "        return x"
      ]
    },
    {
      "cell_type": "code",
      "execution_count": null,
      "metadata": {
        "colab": {
          "base_uri": "https://localhost:8080/"
        },
        "id": "NlcHGHbf4-mz",
        "outputId": "d87af143-27a8-4612-a1cd-0057751d62ed"
      },
      "outputs": [],
      "source": [
        "CNN_1st_try_model=CNN_1st_try(3,256,4)\n",
        "CNN_1st_try_model = CNN_1st_try_model.to(device)\n",
        "summary(CNN_1st_try_model, (3, 224, 224))\n",
        "checkpoint_optimizer_CNN_1st_try_model_path='/content/gdrive/MyDrive/DeepLearning/Final_Project/Weights/Weights_CNN'\n",
        "# CNN_1st_try_model.load_state_dict(torch.load(checkpoint_optimizer_CNN_1st_try_model_path+'/ckpt-500.pk'))"
      ]
    },
    {
      "cell_type": "markdown",
      "metadata": {
        "id": "FqyKC2EyI--Y"
      },
      "source": [
        "##### 1st try - initial settings"
      ]
    },
    {
      "cell_type": "code",
      "execution_count": null,
      "metadata": {
        "colab": {
          "base_uri": "https://localhost:8080/"
        },
        "id": "o3_5kuARhXnm",
        "outputId": "3fd6c7ce-d2c7-41b5-9f34-fc4b54994255"
      },
      "outputs": [],
      "source": [
        "CNN_1st_try_model = CNN_1st_try(3,256,4)\n",
        "CNN_1st_try_model = CNN_1st_try_model.to(device)\n",
        "# summary(CNN_1st_try_model, (3, 224, 224))\n",
        "criterion_CNN = nn.CrossEntropyLoss()\n",
        "# Observe that all parameters are being optimized\n",
        "optimizer_CNN_1st_try_model = optim.SGD(CNN_1st_try_model.parameters(), lr=0.01,momentum=0.9)\n",
        "# Decay LR by a factor of 0.1 every 7 epochs\n",
        "exp_lr_scheduler = lr_scheduler.StepLR(optimizer_CNN_1st_try_model, step_size=7, gamma=0.1)\n",
        "num_epochs=20\n",
        "checkpoint_optimizer_CNN_1st_try_model_path='/content/gdrive/MyDrive/DeepLearning/Final_Project/Weights/Weights_CNN'\n",
        "#CNN_1st_try_model.load_state_dict(torch.load(checkpoint_optimizer_CNN_1st_try_model_path+'/ckpt___-100.pk'))\n",
        "CNN_1st_try_model,train_statistics,val_statistics = train_model(CNN_1st_try_model, criterion_CNN, optimizer_CNN_1st_try_model, exp_lr_scheduler,\n",
        "                        num_epochs,checkpoint_path=checkpoint_optimizer_CNN_1st_try_model_path+'/ckpt___-{}.pk')   "
      ]
    },
    {
      "cell_type": "code",
      "execution_count": null,
      "metadata": {
        "colab": {
          "base_uri": "https://localhost:8080/"
        },
        "id": "IGygLFpQ5kAV",
        "outputId": "7d74b380-2215-4c6d-dc02-70d02653f33e"
      },
      "outputs": [],
      "source": [
        "printbestacc(val_statistics[1])"
      ]
    },
    {
      "cell_type": "code",
      "execution_count": null,
      "metadata": {
        "colab": {
          "base_uri": "https://localhost:8080/",
          "height": 573
        },
        "id": "GYycyhXm6Ju1",
        "outputId": "3c51399e-57ea-4fab-acd0-803471a735a4"
      },
      "outputs": [],
      "source": [
        "plot_learning_curve(np.array(range(num_epochs)), train_statistics[0], np.array(range(num_epochs)), train_statistics[1], val_statistics[1], val_statistics[0])"
      ]
    },
    {
      "cell_type": "code",
      "execution_count": null,
      "metadata": {
        "colab": {
          "base_uri": "https://localhost:8080/",
          "height": 614
        },
        "id": "66GKVLJB6Wre",
        "outputId": "7d5e5293-1085-4f72-aefa-cfbd22781782"
      },
      "outputs": [],
      "source": [
        "CM, CR = get_confusion_matrix(CNN_1st_try_model,test)\n",
        "\n",
        "print(\"Report\")\n",
        "print(\"-\"*7)\n",
        "print(CR)\n",
        "plot_confusion_matrix(CM, list(train_set.class_to_idx.keys()))\n"
      ]
    },
    {
      "cell_type": "code",
      "execution_count": null,
      "metadata": {
        "id": "fzI7GlqBwt0H"
      },
      "outputs": [],
      "source": [
        "print_specificity(get_specificity(CM, list(train_set.class_to_idx.keys())),list(train_set.class_to_idx.keys()))"
      ]
    },
    {
      "cell_type": "markdown",
      "metadata": {
        "id": "usxKMuvHGEXR"
      },
      "source": [
        "#####step size = 12#####"
      ]
    },
    {
      "cell_type": "code",
      "execution_count": null,
      "metadata": {
        "colab": {
          "base_uri": "https://localhost:8080/"
        },
        "id": "qtWzezk5GDzQ",
        "outputId": "418cf958-3ff0-4e90-ed36-e145feebd162"
      },
      "outputs": [],
      "source": [
        "CNN_1st_try_model = CNN_1st_try(3,256,4)\n",
        "CNN_1st_try_model = CNN_1st_try_model.to(device)\n",
        "# summary(CNN_1st_try_model, (3, 224, 224))\n",
        "criterion_CNN = nn.CrossEntropyLoss()\n",
        "# Observe that all parameters are being optimized\n",
        "optimizer_CNN_1st_try_model = optim.SGD(CNN_1st_try_model.parameters(), lr=0.01,momentum=0.9)\n",
        "# Decay LR by a factor of 0.1 every 12 epochs\n",
        "exp_lr_scheduler = lr_scheduler.StepLR(optimizer_CNN_1st_try_model, step_size=12, gamma=0.1)\n",
        "num_epochs=20\n",
        "checkpoint_optimizer_CNN_1st_try_model_path='/content/gdrive/MyDrive/DeepLearning/Final_Project/Weights/Weights_CNN'\n",
        "#CNN_1st_try_model.load_state_dict(torch.load(checkpoint_optimizer_CNN_1st_try_model_path+'/ckpt___-100.pk'))\n",
        "CNN_1st_try_model,train_statistics,val_statistics = train_model(CNN_1st_try_model, criterion_CNN, optimizer_CNN_1st_try_model, exp_lr_scheduler,\n",
        "                        num_epochs,checkpoint_path=checkpoint_optimizer_CNN_1st_try_model_path+'/ckpt___-{}.pk')   "
      ]
    },
    {
      "cell_type": "code",
      "execution_count": null,
      "metadata": {
        "colab": {
          "base_uri": "https://localhost:8080/"
        },
        "id": "bV2amU5pLA0-",
        "outputId": "76357b9f-5825-4a34-b001-65dafd2b180d"
      },
      "outputs": [],
      "source": [
        "printbestacc(val_statistics[1])"
      ]
    },
    {
      "cell_type": "code",
      "execution_count": null,
      "metadata": {
        "colab": {
          "base_uri": "https://localhost:8080/",
          "height": 573
        },
        "id": "VZcEWC2MLjZ9",
        "outputId": "7a1c64d8-ef1e-492a-be28-7fc5909e7cd7"
      },
      "outputs": [],
      "source": [
        "plot_learning_curve(np.array(range(num_epochs)), train_statistics[0], np.array(range(num_epochs)), train_statistics[1], val_statistics[1], val_statistics[0])"
      ]
    },
    {
      "cell_type": "code",
      "execution_count": null,
      "metadata": {
        "colab": {
          "base_uri": "https://localhost:8080/",
          "height": 530
        },
        "id": "ASTL635ILpt9",
        "outputId": "89109b9e-fbcd-4d97-fdfb-a41cd83c5486"
      },
      "outputs": [],
      "source": [
        "CM, CR = get_confusion_matrix(CNN_1st_try_model,test)\n",
        "\n",
        "print(\"Report\")\n",
        "print(\"-\"*7)\n",
        "print(CR)\n",
        "plot_confusion_matrix(CM, list(train_set.class_to_idx.keys()))\n"
      ]
    },
    {
      "cell_type": "markdown",
      "metadata": {
        "id": "6LuXTdXFMN3f"
      },
      "source": [
        "#####step size = 17#####"
      ]
    },
    {
      "cell_type": "code",
      "execution_count": null,
      "metadata": {
        "colab": {
          "base_uri": "https://localhost:8080/",
          "height": 231
        },
        "id": "gmenOM76MMlg",
        "outputId": "6e23413f-e3cf-4488-c70c-f80479ef09fd"
      },
      "outputs": [],
      "source": [
        "CNN_1st_try_model = CNN_1st_try(3,256,4)\n",
        "CNN_1st_try_model = CNN_1st_try_model.to(device)\n",
        "# summary(CNN_1st_try_model, (3, 224, 224))\n",
        "criterion_CNN = nn.CrossEntropyLoss()\n",
        "# Observe that all parameters are being optimized\n",
        "optimizer_CNN_1st_try_model = optim.SGD(CNN_1st_try_model.parameters(), lr=0.01,momentum=0.9)\n",
        "# Decay LR by a factor of 0.1 every 17 epochs\n",
        "exp_lr_scheduler = lr_scheduler.StepLR(optimizer_CNN_1st_try_model, step_size=17, gamma=0.1)\n",
        "num_epochs=20\n",
        "checkpoint_optimizer_CNN_1st_try_model_path='/content/gdrive/MyDrive/DeepLearning/Final_Project/Weights/Weights_CNN'\n",
        "#CNN_1st_try_model.load_state_dict(torch.load(checkpoint_optimizer_CNN_1st_try_model_path+'/ckpt___-100.pk'))\n",
        "CNN_1st_try_model,train_statistics,val_statistics = train_model(CNN_1st_try_model, criterion_CNN, optimizer_CNN_1st_try_model, exp_lr_scheduler,\n",
        "                        num_epochs,checkpoint_path=checkpoint_optimizer_CNN_1st_try_model_path+'/ckpt___-{}.pk')   "
      ]
    },
    {
      "cell_type": "code",
      "execution_count": null,
      "metadata": {
        "colab": {
          "base_uri": "https://localhost:8080/"
        },
        "id": "0L90AOWZRPr6",
        "outputId": "3400a384-a628-49df-a373-e94a47d7957b"
      },
      "outputs": [],
      "source": [
        "printbestacc(val_statistics[1])"
      ]
    },
    {
      "cell_type": "code",
      "execution_count": null,
      "metadata": {
        "colab": {
          "base_uri": "https://localhost:8080/",
          "height": 573
        },
        "id": "QvsO6_rsRWQ4",
        "outputId": "ba8fddb2-4211-4fff-b211-79ef0a6772a5"
      },
      "outputs": [],
      "source": [
        "plot_learning_curve(np.array(range(num_epochs)), train_statistics[0], np.array(range(num_epochs)), train_statistics[1], val_statistics[1], val_statistics[0])"
      ]
    },
    {
      "cell_type": "code",
      "execution_count": null,
      "metadata": {
        "colab": {
          "base_uri": "https://localhost:8080/",
          "height": 530
        },
        "id": "E-lP7HY4RbVC",
        "outputId": "6f336b7e-b253-4aad-8d27-34a9c668946e"
      },
      "outputs": [],
      "source": [
        "CM, CR = get_confusion_matrix(CNN_1st_try_model,test)\n",
        "\n",
        "print(\"Report\")\n",
        "print(\"-\"*7)\n",
        "print(CR)\n",
        "plot_confusion_matrix(CM, list(train_set.class_to_idx.keys()))\n"
      ]
    },
    {
      "cell_type": "markdown",
      "metadata": {
        "id": "F4MBmWqrRg1A"
      },
      "source": [
        "#####step size = 25#####\n"
      ]
    },
    {
      "cell_type": "code",
      "execution_count": null,
      "metadata": {
        "colab": {
          "base_uri": "https://localhost:8080/"
        },
        "id": "tGfVzSoPMPpJ",
        "outputId": "25801622-a21a-4a44-b9ab-16103fe8fb71"
      },
      "outputs": [],
      "source": [
        "Run_Simulation(n_features=256,Arch=CNN_1st_try,output_size=4,criterion='CrossEntropy',optimizer_name='SGD',\n",
        "               lr_val=0.01,weight_decay_val=None,step_size_val=25,gamma_val=0.1,num_epochs=30,\n",
        "               checkpoint_optimizer_path='/content/gdrive/MyDrive/DeepLearning/Final_Project/Weights/Weights_CNN',\n",
        "               checkpoint_of_sim='/ckpt_1.07.21_CNN_1st_try-{}_64_0.0001_.pk',load_flag = False,loading_path=None)"
      ]
    },
    {
      "cell_type": "code",
      "execution_count": null,
      "metadata": {
        "colab": {
          "base_uri": "https://localhost:8080/"
        },
        "id": "l92UzVaWRgOL",
        "outputId": "bb4dc7dd-2db7-493e-9e36-f9ce753cc718"
      },
      "outputs": [],
      "source": [
        "CNN_1st_try_model = CNN_1st_try(3,256,4)\n",
        "CNN_1st_try_model = CNN_1st_try_model.to(device)\n",
        "# summary(CNN_1st_try_model, (3, 224, 224))\n",
        "criterion_CNN = nn.CrossEntropyLoss()\n",
        "# Observe that all parameters are being optimized\n",
        "optimizer_CNN_1st_try_model = optim.SGD(CNN_1st_try_model.parameters(), lr=0.01,momentum=0.9)\n",
        "# Decay LR by a factor of 0.1 every 17 epochs\n",
        "exp_lr_scheduler = lr_scheduler.StepLR(optimizer_CNN_1st_try_model, step_size=25, gamma=0.1)\n",
        "num_epochs=30\n",
        "checkpoint_optimizer_CNN_1st_try_model_path='/content/gdrive/MyDrive/DeepLearning/Final_Project/Weights/Weights_CNN'\n",
        "#CNN_1st_try_model.load_state_dict(torch.load(checkpoint_optimizer_CNN_1st_try_model_path+'/ckpt___-100.pk'))\n",
        "CNN_1st_try_model,train_statistics,val_statistics = train_model(CNN_1st_try_model, criterion_CNN, optimizer_CNN_1st_try_model, exp_lr_scheduler,\n",
        "                        num_epochs,checkpoint_path=checkpoint_optimizer_CNN_1st_try_model_path+'/ckpt___-{}.pk')   "
      ]
    },
    {
      "cell_type": "code",
      "execution_count": null,
      "metadata": {
        "colab": {
          "base_uri": "https://localhost:8080/"
        },
        "id": "4mx3urwgMMiI",
        "outputId": "096e9940-154c-41e3-f85e-a4c1a0a75623"
      },
      "outputs": [],
      "source": [
        "printbestacc(val_statistics[1])"
      ]
    },
    {
      "cell_type": "code",
      "execution_count": null,
      "metadata": {
        "colab": {
          "base_uri": "https://localhost:8080/",
          "height": 573
        },
        "id": "f9yDbkfnXZuC",
        "outputId": "738c2831-28eb-4fcd-aa3e-7f511f9d0cf5"
      },
      "outputs": [],
      "source": [
        "plot_learning_curve(np.array(range(num_epochs)), train_statistics[0], np.array(range(num_epochs)), train_statistics[1], val_statistics[1], val_statistics[0])"
      ]
    },
    {
      "cell_type": "code",
      "execution_count": null,
      "metadata": {
        "colab": {
          "base_uri": "https://localhost:8080/",
          "height": 530
        },
        "id": "nCSUk42GXZdJ",
        "outputId": "cf838545-f06d-45e5-dce7-7901f0890d7f"
      },
      "outputs": [],
      "source": [
        "CM, CR = get_confusion_matrix(CNN_1st_try_model,test)\n",
        "\n",
        "print(\"Report\")\n",
        "print(\"-\"*7)\n",
        "print(CR)\n",
        "plot_confusion_matrix(CM, list(train_set.class_to_idx.keys()))\n"
      ]
    },
    {
      "cell_type": "markdown",
      "metadata": {
        "id": "J2G0tpY8YtAA"
      },
      "source": [
        "##CNN_1st_try_dropbatch - Balanced data\n"
      ]
    },
    {
      "cell_type": "code",
      "execution_count": null,
      "metadata": {
        "id": "iwsoymD0LMni"
      },
      "outputs": [],
      "source": [
        "class CNN_1st_try_dropbatch_add(nn.Module): ## BS =32 ,  optim.SGD(CNN_1st_try_model.parameters(), lr=0.01,momentum=0.9)\n",
        "    def __init__(self, input_size, n_feature, output_size):\n",
        "        super(CNN_1st_try_dropbatch_add, self).__init__()\n",
        "        self.n_feature = n_feature\n",
        "        self.conv1 = nn.Conv2d(in_channels=3, out_channels=n_feature, kernel_size=5)\n",
        "        self.conv2 = nn.Conv2d(n_feature, n_feature, kernel_size=5)\n",
        "        self.conv3 = nn.Conv2d(n_feature, n_feature, kernel_size=5)\n",
        "        self.conv4 = nn.Conv2d(n_feature, n_feature, kernel_size=5)\n",
        "        self.conv5 = nn.Conv2d(n_feature, n_feature, kernel_size=5)\n",
        "        self.conv6 = nn.Conv2d(n_feature, n_feature, kernel_size=5)\n",
        "        self.ReLU=nn.ReLU()\n",
        "        self.max_pool2d=nn.MaxPool2d(kernel_size=2)\n",
        "        self.BatchNorm1=nn.BatchNorm2d(n_feature)\n",
        "        self.fc1 = nn.Linear(n_feature*2*2, 100)\n",
        "        self.BatchNorm2=nn.BatchNorm1d(100)\n",
        "        self.fc2 = nn.Linear(100, output_size)\n",
        "        self.dropout1 = nn.Dropout(0.5)\n",
        "        self.dropout2 = nn.Dropout(0.5)\n",
        "\n",
        "    def forward(self, x, verbose=False):\n",
        "        # Conv Block #1\n",
        "        x = self.conv1(x)\n",
        "        x = self.ReLU(x)\n",
        "        x = self.max_pool2d(x)\n",
        "        # Conv Block #2\n",
        "        x = self.conv2(x)\n",
        "        # x = self.BatchNorm1(x)\n",
        "        x = self.ReLU(x)\n",
        "        x = self.max_pool2d(x)\n",
        "        # Conv Block #3\n",
        "        x = self.conv3(x)\n",
        "        x = self.ReLU(x)\n",
        "        x = self.max_pool2d(x)\n",
        "        # Conv Block #4\n",
        "        x = self.conv4(x)\n",
        "        # x = self.BatchNorm1(x)\n",
        "        x = self.ReLU(x)\n",
        "        x = self.max_pool2d(x)\n",
        "        # Conv Block #5         \n",
        "        x = self.conv5(x)\n",
        "        x = self.ReLU(x)\n",
        "        x = self.conv6(x)\n",
        "        x = self.BatchNorm1(x)\n",
        "        x = self.ReLU(x)\n",
        "        # x = self.dropout1(x)\n",
        "        x = x.view(-1, self.n_feature*2*2)\n",
        "        ###### Classifier ######\n",
        "        # Fully-Connected layer #1\n",
        "        x = self.fc1(x)\n",
        "        x = self.BatchNorm2(x)\n",
        "        x = self.ReLU(x)\n",
        "        x = self.dropout2(x)\n",
        "        # Fully-Connected layer #2\n",
        "        x = self.fc2(x)\n",
        "        return x"
      ]
    },
    {
      "cell_type": "code",
      "execution_count": null,
      "metadata": {
        "colab": {
          "base_uri": "https://localhost:8080/",
          "height": 1000
        },
        "id": "uOtd3s0EZweJ",
        "outputId": "d4dfca91-ecb4-4c9e-f85f-4ac6d33527ba"
      },
      "outputs": [],
      "source": [
        "lr_values = [0.001,0.0001]\n",
        "step_size_values = [7,12,17]\n",
        "for i,lr in enumerate(lr_values):\n",
        "  for j,step_size in enumerate(step_size_values):\n",
        "    Run_Simulation(architecture=CNN_1st_try_dropbatch_add\n",
        "                  ,architecture_name = \"CNN_1st_try_dropbatch_add\"\n",
        "                  ,num_epochs=25\n",
        "                  ,n_features=256\n",
        "                  ,output_size=4\n",
        "                  ,optimizer_name=\"Adam\"\n",
        "                  ,lr_val=lr\n",
        "                  ,weight_decay_val=1e-9\n",
        "                  ,step_size_val=step_size\n",
        "                  ,gamma_val=0.1\n",
        "                  ,momentum_val=0.9\n",
        "                  ,checkpoint_optimizer_path='/content/gdrive/MyDrive/DeepLearning/Final_Project/Weights/Weights_CNN'\n",
        "                  ,sim_num = str(i*len(step_size_values) + j)\n",
        "                  ,load_flag = False\n",
        "                  ,loading_path=None)\n"
      ]
    },
    {
      "cell_type": "markdown",
      "metadata": {
        "id": "zChHg05QZOog"
      },
      "source": [
        "##CNN_2nd_try - Balanced data"
      ]
    },
    {
      "cell_type": "code",
      "execution_count": null,
      "metadata": {
        "id": "iiSXnWpAKjld"
      },
      "outputs": [],
      "source": [
        "class CNN_2nd_try(nn.Module): ## BS =32 ,  optim.SGD(CNN_1st_try_model.parameters(), lr=0.01,momentum=0.9)\n",
        "    def __init__(self, input_size, n_feature, output_size):\n",
        "        super(CNN_2nd_try, self).__init__()\n",
        "        self.n_feature = n_feature\n",
        "        self.conv1 = nn.Conv2d(in_channels=3, out_channels=n_feature, kernel_size=5)\n",
        "        self.conv2 = nn.Conv2d(n_feature, n_feature, kernel_size=5)\n",
        "        self.conv3 = nn.Conv2d(n_feature, n_feature, kernel_size=5)\n",
        "        self.conv4 = nn.Conv2d(n_feature, n_feature, kernel_size=5)\n",
        "        self.conv5 = nn.Conv2d(n_feature, n_feature, kernel_size=5)\n",
        "        self.conv6 = nn.Conv2d(n_feature, n_feature, kernel_size=5)\n",
        "        self.ReLU=nn.ReLU()\n",
        "        self.max_pool2d=nn.MaxPool2d(kernel_size=2)\n",
        "        self.BatchNorm1=nn.BatchNorm2d(n_feature)\n",
        "        self.fc1 = nn.Linear(n_feature*2*2, 512)\n",
        "        self.fc3 = nn.Linear(512, 512)\n",
        "        self.BatchNorm2=nn.BatchNorm1d(512)\n",
        "        self.fc2 = nn.Linear(512, output_size)\n",
        "        self.dropout1 = nn.Dropout(0.8)\n",
        "        self.dropout2 = nn.Dropout(0.75)\n",
        "\n",
        "    def forward(self, x, verbose=False):\n",
        "        # Conv Block #1\n",
        "        x = self.conv1(x)\n",
        "        x = self.ReLU(x)\n",
        "        x = self.max_pool2d(x)\n",
        "        # Conv Block #2\n",
        "        x = self.conv2(x)\n",
        "        # x = self.BatchNorm1(x)\n",
        "        x = self.ReLU(x)\n",
        "        x = self.max_pool2d(x)\n",
        "        # Conv Block #3\n",
        "        x = self.conv3(x)\n",
        "        x = self.ReLU(x)\n",
        "        x = self.max_pool2d(x)\n",
        "        # Conv Block #4\n",
        "        x = self.conv4(x)\n",
        "        # x = self.BatchNorm1(x)\n",
        "        x = self.ReLU(x)\n",
        "        x = self.max_pool2d(x)\n",
        "        # Conv Block #5         \n",
        "        x = self.conv5(x)\n",
        "        x = self.ReLU(x)\n",
        "        x = self.conv6(x)\n",
        "        x = self.BatchNorm1(x)\n",
        "        x = self.ReLU(x)\n",
        "        # x = self.dropout1(x)\n",
        "        x = x.view(-1, self.n_feature*2*2)\n",
        "        ###### Classifier ######\n",
        "        # Fully-Connected layer #1\n",
        "        x = self.fc1(x)\n",
        "        # x = self.BatchNorm2(x)\n",
        "        x = self.ReLU(x)\n",
        "        x = self.dropout1(x)\n",
        "        x = self.fc3(x)\n",
        "        x = self.ReLU(x)\n",
        "        x = self.dropout2(x)\n",
        "        # Fully-Connected layer #2\n",
        "        x = self.fc2(x)\n",
        "        # x = self.fc2(x)\n",
        "        return x"
      ]
    },
    {
      "cell_type": "code",
      "execution_count": null,
      "metadata": {
        "colab": {
          "base_uri": "https://localhost:8080/",
          "height": 1000
        },
        "id": "aRB4oK81aLtB",
        "outputId": "b7cbd566-1bac-4be6-f34e-c03ccf01a63e"
      },
      "outputs": [],
      "source": [
        "lr_values = [0.001,0.0001]\n",
        "step_size_values = [7,12,17]\n",
        "for i,lr in enumerate(lr_values):\n",
        "  for j,step_size in enumerate(step_size_values):\n",
        "    Run_Simulation(architecture=CNN_2nd_try\n",
        "                  ,architecture_name = \"CNN_2nd_try\"\n",
        "                  ,num_epochs=25\n",
        "                  ,n_features=256\n",
        "                  ,output_size=4\n",
        "                  ,optimizer_name=\"Adam\"\n",
        "                  ,lr_val=lr\n",
        "                  ,weight_decay_val=1e-9\n",
        "                  ,step_size_val=step_size\n",
        "                  ,gamma_val=0.1\n",
        "                  ,momentum_val=0.9\n",
        "                  ,checkpoint_optimizer_path='/content/gdrive/MyDrive/DeepLearning/Final_Project/Weights/Weights_CNN'\n",
        "                  ,sim_num = str(i*len(step_size_values) + j)\n",
        "                  ,load_flag = False\n",
        "                  ,loading_path=None)"
      ]
    },
    {
      "cell_type": "markdown",
      "metadata": {
        "id": "o7muc4wUZYls"
      },
      "source": [
        "## CNN_1st_try_ascending - FC (100)"
      ]
    },
    {
      "cell_type": "code",
      "execution_count": null,
      "metadata": {
        "id": "zwql8qlzDH4e"
      },
      "outputs": [],
      "source": [
        "class CNN_1st_try_ascending(nn.Module):\n",
        "    def __init__(self, input_size, n_feature, output_size):\n",
        "        super(CNN_1st_try_ascending, self).__init__()\n",
        "        self.n_feature = n_feature\n",
        "        self.conv1 = nn.Conv2d(in_channels=input_size, out_channels=n_feature, kernel_size=5,stride=1, padding=2)\n",
        "        self.conv2 = nn.Conv2d(n_feature, n_feature*2, kernel_size=5,stride=1, padding=2)\n",
        "        self.conv3 = nn.Conv2d(n_feature*2, n_feature*4, kernel_size=5,stride=1, padding=2)\n",
        "        self.conv4 = nn.Conv2d(n_feature*4, n_feature*8, kernel_size=5,stride=1, padding=2)\n",
        "        self.conv5 = nn.Conv2d(n_feature*8, n_feature*16, kernel_size=5,stride=1, padding=2)\n",
        "        self.ReLU=nn.ReLU()\n",
        "        self.max_pool2d=nn.MaxPool2d(kernel_size=2)\n",
        "        self.BatchNorm1=nn.BatchNorm2d(n_feature*16)\n",
        "        self.fc1 = nn.Linear(n_feature*16*14*14, 100)\n",
        "        # self.fc3 = nn.Linear(1000, 100)\n",
        "        self.BatchNorm2=nn.BatchNorm1d(100)\n",
        "        self.fc2 = nn.Linear(100, output_size)\n",
        "        self.dropout1 = nn.Dropout(0.5)\n",
        "        self.dropout2 = nn.Dropout(0.5)\n",
        "\n",
        "    def forward(self, x, verbose=False):\n",
        "        # Conv Block #1\n",
        "        x = self.conv1(x)\n",
        "        x = self.ReLU(x)\n",
        "        x = self.max_pool2d(x)\n",
        "        # Conv Block #2\n",
        "        x = self.conv2(x)\n",
        "        # x = self.BatchNorm1(x)\n",
        "        x = self.ReLU(x)\n",
        "        x = self.max_pool2d(x)\n",
        "        # Conv Block #3\n",
        "        x = self.conv3(x)\n",
        "        x = self.ReLU(x)\n",
        "        x = self.max_pool2d(x)\n",
        "        # Conv Block #4\n",
        "        x = self.conv4(x)\n",
        "        # x = self.BatchNorm1(x)\n",
        "        x = self.ReLU(x)\n",
        "        x = self.max_pool2d(x)\n",
        "        # Conv Block #5         \n",
        "        x = self.conv5(x)\n",
        "        # x = self.ReLU(x)\n",
        "        # x = self.conv6(x)\n",
        "        x = self.BatchNorm1(x)\n",
        "        x = self.ReLU(x)\n",
        "        # x = self.dropout1(x)\n",
        "        x = x.view(-1, self.n_feature*16*14*14)\n",
        "        ###### Classifier ######\n",
        "        # Fully-Connected layer #1\n",
        "        x = self.fc1(x)\n",
        "        x = self.BatchNorm2(x)\n",
        "        x = self.ReLU(x)\n",
        "        x = self.dropout2(x)\n",
        "        # Fully-Connected layer #2\n",
        "        x = self.fc2(x)\n",
        "        return x"
      ]
    },
    {
      "cell_type": "markdown",
      "metadata": {
        "id": "mNii3mShdu9j"
      },
      "source": [
        "##### balanced data: CNN_1_try_ascending + 32 num of features"
      ]
    },
    {
      "cell_type": "code",
      "execution_count": null,
      "metadata": {
        "colab": {
          "base_uri": "https://localhost:8080/",
          "height": 1000
        },
        "id": "DRHrPYGhgsKX",
        "outputId": "edc17b9f-1dff-4ed8-d35c-98a4b97d654a"
      },
      "outputs": [],
      "source": [
        "    Run_Simulation(architecture=CNN_1st_try_ascending\n",
        "                  ,architecture_name = \"CNN_1st_try_ascending\"\n",
        "                  ,num_epochs=30\n",
        "                  ,n_features=32\n",
        "                  ,output_size=4\n",
        "                  ,optimizer_name=\"Adam\"\n",
        "                  ,lr_val=0.0001\n",
        "                  ,weight_decay_val=1e-9\n",
        "                  ,step_size_val=12\n",
        "                  ,gamma_val=0.1\n",
        "                  ,momentum_val=0.9\n",
        "                  ,checkpoint_optimizer_path='/content/gdrive/MyDrive/DeepLearning/Final_Project/Weights_4C/Weights_CNN_1st_try_ascending'\n",
        "                  ,sim_num = '32_features'\n",
        "                  ,load_flag = False\n",
        "                  ,loading_path=None)"
      ]
    },
    {
      "cell_type": "markdown",
      "metadata": {
        "id": "g8lbXWjvd-Ma"
      },
      "source": [
        "##### balanced data: CNN_1_try_ascending + 64 num of features"
      ]
    },
    {
      "cell_type": "code",
      "execution_count": null,
      "metadata": {
        "colab": {
          "base_uri": "https://localhost:8080/",
          "height": 1000
        },
        "id": "KYFjGHLnwksN",
        "outputId": "4a6e697c-0498-4c0b-9c43-d3145b42934c"
      },
      "outputs": [],
      "source": [
        "    Run_Simulation(architecture=CNN_1st_try_ascending\n",
        "                  ,architecture_name = \"CNN_1st_try_ascending\"\n",
        "                  ,num_epochs=30\n",
        "                  ,n_features=64\n",
        "                  ,output_size=4\n",
        "                  ,optimizer_name=\"Adam\"\n",
        "                  ,lr_val=0.0001\n",
        "                  ,weight_decay_val=1e-9\n",
        "                  ,step_size_val=12\n",
        "                  ,gamma_val=0.1\n",
        "                  ,momentum_val=0.9\n",
        "                  ,checkpoint_optimizer_path='/content/gdrive/MyDrive/DeepLearning/Final_Project/Weights_4C/Weights_CNN_1st_try_ascending'\n",
        "                  ,sim_num = '64_features'\n",
        "                  ,load_flag = False\n",
        "                  ,loading_path=None)"
      ]
    },
    {
      "cell_type": "markdown",
      "metadata": {
        "id": "LvcFd5EchBvo"
      },
      "source": [
        "##### balanced data: CNN_1_try_ascending +128 num of features"
      ]
    },
    {
      "cell_type": "code",
      "execution_count": null,
      "metadata": {
        "colab": {
          "base_uri": "https://localhost:8080/",
          "height": 1000
        },
        "id": "7HvoXI0U3tk0",
        "outputId": "8718b91f-2fd5-4a78-ea50-6d50de54bd1b"
      },
      "outputs": [],
      "source": [
        "Run_Simulation(architecture=CNN_1st_try_ascending\n",
        "              ,architecture_name = \"CNN_1st_try_ascending\"\n",
        "              ,num_epochs=30\n",
        "              ,n_features=128\n",
        "              ,output_size=4\n",
        "              ,optimizer_name=\"Adam\"\n",
        "              ,lr_val=0.0001\n",
        "              ,weight_decay_val=1e-9\n",
        "              ,step_size_val=12\n",
        "              ,gamma_val=0.1\n",
        "              ,momentum_val=0.9\n",
        "              ,checkpoint_optimizer_path='/content/gdrive/MyDrive/DeepLearning/Final_Project/Weights_4C/Weights_CNN_1st_try_ascending'\n",
        "              ,sim_num = '128_features'\n",
        "              ,load_flag = False\n",
        "              ,loading_path=None)"
      ]
    },
    {
      "cell_type": "markdown",
      "metadata": {
        "id": "0V5tCWCikJrq"
      },
      "source": [
        "### CNN_1st_try_dropbatch - imbalanced data - 32 features\n"
      ]
    },
    {
      "cell_type": "markdown",
      "metadata": {
        "id": "-NIZw6lIhJl1"
      },
      "source": [
        "##### CNN 1 try - ascending + 32 features"
      ]
    },
    {
      "cell_type": "code",
      "execution_count": null,
      "metadata": {
        "colab": {
          "base_uri": "https://localhost:8080/",
          "height": 1000
        },
        "id": "9c5I40Y85Tyk",
        "outputId": "2b0c1ce8-a0e6-46ce-d381-3299c35e8228"
      },
      "outputs": [],
      "source": [
        "# unbalanced data\n",
        "Run_Simulation(architecture=CNN_1st_try_ascending \n",
        "              ,architecture_name = \"CNN_1st_try_ascending\"\n",
        "              ,num_epochs=30\n",
        "              ,n_features=32\n",
        "              ,output_size=4\n",
        "              ,optimizer_name=\"Adam\"\n",
        "              ,lr_val=0.0001\n",
        "              ,weight_decay_val=1e-9\n",
        "              ,step_size_val=12\n",
        "              ,gamma_val=0.1\n",
        "              ,momentum_val=0.9\n",
        "              ,checkpoint_optimizer_path='/content/gdrive/MyDrive/DeepLearning/Final_Project/Weights_4C/Weights_CNN_1st_try_ascending'\n",
        "              ,sim_num = '32_features'\n",
        "              ,load_flag = False\n",
        "              ,loading_path=None)"
      ]
    },
    {
      "cell_type": "markdown",
      "metadata": {
        "id": "M7lm5nWpkXc5"
      },
      "source": [
        "### CNN_1st_try_dropbatch - imbalanced data - 64 features"
      ]
    },
    {
      "cell_type": "markdown",
      "metadata": {
        "id": "eo10LXaNhV2-"
      },
      "source": [
        "##### CNN 2 try - ascending + 64 features + step=12"
      ]
    },
    {
      "cell_type": "code",
      "execution_count": null,
      "metadata": {
        "colab": {
          "base_uri": "https://localhost:8080/",
          "height": 1000
        },
        "id": "sjNaK5SHGD9p",
        "outputId": "bfb729ba-1a60-4a38-b41b-63cce3e813ca"
      },
      "outputs": [],
      "source": [
        "# unbalanced data\n",
        "Run_Simulation(architecture=CNN_1st_try_ascending \n",
        "              ,architecture_name = \"CNN_1st_try_ascending\"\n",
        "              ,num_epochs=30\n",
        "              ,n_features=64\n",
        "              ,output_size=4\n",
        "              ,optimizer_name=\"Adam\"\n",
        "              ,lr_val=0.0001\n",
        "              ,weight_decay_val=1e-9\n",
        "              ,step_size_val=12\n",
        "              ,gamma_val=0.1\n",
        "              ,momentum_val=0.9\n",
        "              ,checkpoint_optimizer_path='/content/gdrive/MyDrive/DeepLearning/Final_Project/Weights_4C/Weights_CNN_1st_try_ascending'\n",
        "              ,sim_num = '64_features'\n",
        "              ,load_flag = False\n",
        "              ,loading_path=None)"
      ]
    },
    {
      "cell_type": "markdown",
      "metadata": {
        "id": "h4IAdJNRHH90"
      },
      "source": [
        "##### CNN 3 try - ascending + 64 features + step = 7"
      ]
    },
    {
      "cell_type": "code",
      "execution_count": null,
      "metadata": {
        "id": "1Nn9-BhjHDEL",
        "outputId": "40bfaeb2-e213-453a-d6a8-f9b3704f0e21"
      },
      "outputs": [],
      "source": [
        "# unbalanced data\n",
        "Run_Simulation(architecture=CNN_1st_try_ascending \n",
        "              ,architecture_name = \"CNN_1st_try_ascending\"\n",
        "              ,num_epochs=30\n",
        "              ,n_features=64\n",
        "              ,output_size=4\n",
        "              ,optimizer_name=\"Adam\"\n",
        "              ,lr_val=0.0001\n",
        "              ,weight_decay_val=1e-9\n",
        "              ,step_size_val=7\n",
        "              ,gamma_val=0.1\n",
        "              ,momentum_val=0.9\n",
        "              ,checkpoint_optimizer_path='C:\\\\Users\\\\Ahat\\\\Desktop\\\\Dor\\\\Weigths_4C'\n",
        "              ,sim_num = '64_features'\n",
        "              ,load_flag = False\n",
        "              ,loading_path=None)"
      ]
    },
    {
      "cell_type": "markdown",
      "metadata": {
        "id": "iLCUzrkMHXqA"
      },
      "source": [
        "##### CNN 4 try - ascending + 64 features + step=31"
      ]
    },
    {
      "cell_type": "code",
      "execution_count": null,
      "metadata": {
        "id": "cVBn_gDSHfwR",
        "outputId": "a5dd476f-baaa-4ab8-d2af-5ced825c5de4"
      },
      "outputs": [],
      "source": [
        "# unbalanced data\n",
        "Run_Simulation(architecture=CNN_1st_try_ascending \n",
        "              ,architecture_name = \"CNN_1st_try_ascending\"\n",
        "              ,num_epochs=30\n",
        "              ,n_features=64\n",
        "              ,output_size=4\n",
        "              ,optimizer_name=\"Adam\"\n",
        "              ,lr_val=0.0001\n",
        "              ,weight_decay_val=1e-9\n",
        "              ,step_size_val=31\n",
        "              ,gamma_val=0.1\n",
        "              ,momentum_val=0.9\n",
        "              ,checkpoint_optimizer_path='C:\\\\Users\\\\Ahat\\\\Desktop\\\\Dor\\\\Weigths_4C'\n",
        "              ,sim_num = '64_features'\n",
        "              ,load_flag = False\n",
        "              ,loading_path=None)"
      ]
    },
    {
      "cell_type": "markdown",
      "metadata": {
        "id": "jV310DsCkZvw"
      },
      "source": [
        "### CNN_1st_try_dropbatch - imbalanced data - 128 features"
      ]
    },
    {
      "cell_type": "markdown",
      "metadata": {
        "id": "xLgFmLgturNX"
      },
      "source": [
        "##### CNN 5 try - ascending + 128 features + step=12"
      ]
    },
    {
      "cell_type": "code",
      "execution_count": null,
      "metadata": {
        "colab": {
          "base_uri": "https://localhost:8080/"
        },
        "id": "XedmFrsjh2-H",
        "outputId": "ee5b876e-c5fd-45ac-f46e-2e15fbadd968"
      },
      "outputs": [],
      "source": [
        "CNN_1st_try_model = CNN_1st_try_ascending(3,128,4)\n",
        "CNN_1st_try_model = CNN_1st_try_model.to(device)\n",
        "summary(CNN_1st_try_model, (3, 224, 224))"
      ]
    },
    {
      "cell_type": "code",
      "execution_count": null,
      "metadata": {
        "colab": {
          "base_uri": "https://localhost:8080/",
          "height": 1000
        },
        "id": "Bxao8drPh0UR",
        "outputId": "66fbbd22-0662-4519-efa8-104d74ebb4d6"
      },
      "outputs": [],
      "source": [
        "# unbalanced data\n",
        "Run_Simulation(architecture=CNN_1st_try_ascending \n",
        "              ,architecture_name = \"CNN_1st_try_ascending\"\n",
        "              ,num_epochs=30\n",
        "              ,n_features=128\n",
        "              ,output_size=4\n",
        "              ,optimizer_name=\"Adam\"\n",
        "              ,lr_val=0.0001\n",
        "              ,weight_decay_val=1e-9\n",
        "              ,step_size_val=12\n",
        "              ,gamma_val=0.1\n",
        "              ,momentum_val=0.9\n",
        "              ,checkpoint_optimizer_path='/content/gdrive/MyDrive/DeepLearning/Final_Project/Weights_4C/Weights_CNN_1st_try_ascending'\n",
        "              ,sim_num = '128_features'\n",
        "              ,load_flag = False\n",
        "              ,loading_path=None)"
      ]
    },
    {
      "cell_type": "code",
      "execution_count": null,
      "metadata": {
        "colab": {
          "base_uri": "https://localhost:8080/",
          "height": 695
        },
        "id": "6SlGemMlNVvr",
        "outputId": "c65518a0-9623-4a8d-e5b1-7348c3dd2dd7"
      },
      "outputs": [],
      "source": [
        "CNN_1st_try_ascending_128=CNN_1st_try_ascending(3,128,4)\n",
        "CNN_1st_try_ascending_128 = CNN_1st_try_ascending_128.to(device)\n",
        "# summary(CNN_1st_try_ascending_128, (3, 224, 224))\n",
        "checkpoint_optimizer_CNN_1st_try_model_path='/content/gdrive/MyDrive/DeepLearning/Final_Project/Weights_4C/ckpt-26.pk_best_model_wts'\n",
        "CNN_1st_try_ascending_128.load_state_dict(torch.load('/content/gdrive/MyDrive/DeepLearning/Final_Project/Weights_4C/ckpt-26.pk_best_model_wts'))\n",
        "CM, CR = get_confusion_matrix(CNN_1st_try_ascending_128,test)\n",
        "print(\"Report\")\n",
        "print(\"-\"*7)\n",
        "print(CR)\n",
        "plot_confusion_matrix(CM, list(train_set.class_to_idx.keys()))"
      ]
    },
    {
      "cell_type": "code",
      "execution_count": null,
      "metadata": {
        "colab": {
          "base_uri": "https://localhost:8080/"
        },
        "id": "rBTvZBtPY0Ik",
        "outputId": "34e7ed3f-9e15-43a5-9be8-7f137e3f93a6"
      },
      "outputs": [],
      "source": [
        "print_specificity(get_specificity(CM, list(train_set.class_to_idx.keys())),list(train_set.class_to_idx.keys()))"
      ]
    },
    {
      "cell_type": "markdown",
      "metadata": {
        "id": "T4RAw1eOYg4j"
      },
      "source": [
        "##### CNN_ascending 6 try - 128 features + step= 7\n",
        "##### CNN 6 try - ascending + 128 features + step=7"
      ]
    },
    {
      "cell_type": "code",
      "execution_count": null,
      "metadata": {
        "id": "dhmAr1A1QEBD",
        "outputId": "6ee639ca-e77d-4a84-c008-1adfd10cd3c6"
      },
      "outputs": [],
      "source": [
        "# unbalanced data\n",
        "Run_Simulation(architecture=CNN_1st_try_ascending \n",
        "              ,architecture_name = \"CNN_1st_try_ascending\"\n",
        "              ,num_epochs=30\n",
        "              ,n_features=128\n",
        "              ,output_size=4\n",
        "              ,optimizer_name=\"Adam\"\n",
        "              ,lr_val=0.0001\n",
        "              ,weight_decay_val=1e-9\n",
        "              ,step_size_val=7\n",
        "              ,gamma_val=0.1\n",
        "              ,momentum_val=0.9\n",
        "              ,checkpoint_optimizer_path='C:\\\\Users\\\\Ahat\\\\Desktop\\\\Dor\\\\Weigths_4C'\n",
        "              ,sim_num = '128_features'\n",
        "              ,load_flag = False\n",
        "              ,loading_path=None)"
      ]
    },
    {
      "cell_type": "markdown",
      "metadata": {
        "id": "S_LMFV5pZMIH"
      },
      "source": [
        "##### CNN 7 try - ascending + 128 features + step=31"
      ]
    },
    {
      "cell_type": "code",
      "execution_count": null,
      "metadata": {
        "id": "INmb-AXMQEBD",
        "outputId": "71203852-4171-494f-bf51-f64670e8542c"
      },
      "outputs": [],
      "source": [
        "# unbalanced data\n",
        "Run_Simulation(architecture=CNN_1st_try_ascending \n",
        "              ,architecture_name = \"CNN_1st_try_ascending\"\n",
        "              ,num_epochs=30\n",
        "              ,n_features=128\n",
        "              ,output_size=4\n",
        "              ,optimizer_name=\"Adam\"\n",
        "              ,lr_val=0.0001\n",
        "              ,weight_decay_val=1e-9\n",
        "              ,step_size_val=31\n",
        "              ,gamma_val=0.1\n",
        "              ,momentum_val=0.9\n",
        "              ,checkpoint_optimizer_path='C:\\\\Users\\\\Ahat\\\\Desktop\\\\Dor\\\\Weigths_4C'\n",
        "              ,sim_num = '128_features'\n",
        "              ,load_flag = False\n",
        "              ,loading_path=None)"
      ]
    },
    {
      "cell_type": "markdown",
      "metadata": {
        "id": "_2ECOSQRk2QR"
      },
      "source": [
        "### CNN_1st_try_dropbatch - 64 features + higher learning rate"
      ]
    },
    {
      "cell_type": "markdown",
      "metadata": {
        "id": "9uR1nJ4sGtiS"
      },
      "source": [
        "##### CNN 8 try - ascending + 64 features + step=12 + lr=0.001\n"
      ]
    },
    {
      "cell_type": "code",
      "execution_count": null,
      "metadata": {
        "id": "mQCHsboqQEBD",
        "outputId": "de6931a4-92cc-4aa2-8ac4-2ce32c959767"
      },
      "outputs": [],
      "source": [
        "# unbalanced data\n",
        "Run_Simulation(architecture=CNN_1st_try_ascending \n",
        "              ,architecture_name = \"CNN_1st_try_ascending\"\n",
        "              ,num_epochs=30\n",
        "              ,n_features=64\n",
        "              ,output_size=4\n",
        "              ,optimizer_name=\"Adam\"\n",
        "              ,lr_val=0.001\n",
        "              ,weight_decay_val=1e-9\n",
        "              ,step_size_val=12\n",
        "              ,gamma_val=0.1\n",
        "              ,momentum_val=0.9\n",
        "              ,checkpoint_optimizer_path='C:\\\\Users\\\\Ahat\\\\Desktop\\\\Dor\\\\Weigths_4C'\n",
        "              ,sim_num = '64_features'\n",
        "              ,load_flag = False\n",
        "              ,loading_path=None)"
      ]
    },
    {
      "cell_type": "markdown",
      "metadata": {
        "id": "DSXM2s7SGyuL"
      },
      "source": [
        "##### CNN 8 try - ascending + 64 features + step=7 + lr=0.001\n"
      ]
    },
    {
      "cell_type": "code",
      "execution_count": null,
      "metadata": {
        "id": "R950PWpUQEBD",
        "outputId": "be4c46d8-a7ac-4826-b000-2a57ceba4663"
      },
      "outputs": [],
      "source": [
        "# unbalanced data\n",
        "Run_Simulation(architecture=CNN_1st_try_ascending \n",
        "              ,architecture_name = \"CNN_1st_try_ascending\"\n",
        "              ,num_epochs=30\n",
        "              ,n_features=64\n",
        "              ,output_size=4\n",
        "              ,optimizer_name=\"Adam\"\n",
        "              ,lr_val=0.001\n",
        "              ,weight_decay_val=1e-9\n",
        "              ,step_size_val=7\n",
        "              ,gamma_val=0.1\n",
        "              ,momentum_val=0.9\n",
        "              ,checkpoint_optimizer_path='C:\\\\Users\\\\Ahat\\\\Desktop\\\\Dor\\\\Weigths_4C'\n",
        "              ,sim_num = '64_features'\n",
        "              ,load_flag = False\n",
        "              ,loading_path=None)"
      ]
    },
    {
      "cell_type": "markdown",
      "metadata": {
        "id": "QOMFds9XH1HC"
      },
      "source": [
        "## CNN_1st_try_ascending - FC (1000)"
      ]
    },
    {
      "cell_type": "code",
      "execution_count": null,
      "metadata": {
        "id": "qou0TWtiJ8mU"
      },
      "outputs": [],
      "source": [
        "class CNN_1st_try_ascending(nn.Module):\n",
        "    def __init__(self, input_size, n_feature, output_size):\n",
        "        super(CNN_1st_try_ascending, self).__init__()\n",
        "        self.n_feature = n_feature\n",
        "        self.conv1 = nn.Conv2d(in_channels=input_size, out_channels=n_feature, kernel_size=5,stride=1, padding=2)\n",
        "        self.conv2 = nn.Conv2d(n_feature, n_feature*2, kernel_size=5,stride=1, padding=2)\n",
        "        self.conv3 = nn.Conv2d(n_feature*2, n_feature*4, kernel_size=5,stride=1, padding=2)\n",
        "        self.conv4 = nn.Conv2d(n_feature*4, n_feature*8, kernel_size=5,stride=1, padding=2)\n",
        "        self.conv5 = nn.Conv2d(n_feature*8, n_feature*16, kernel_size=5,stride=1, padding=2)\n",
        "        self.ReLU=nn.ReLU()\n",
        "        self.max_pool2d=nn.MaxPool2d(kernel_size=2,stride=2)\n",
        "        self.BatchNorm1=nn.BatchNorm2d(n_feature*16)\n",
        "        self.fc1 = nn.Linear(n_feature*16*14*14, 1000)\n",
        "        self.BatchNorm2=nn.BatchNorm1d(1000)\n",
        "        self.fc2 = nn.Linear(1000, output_size)\n",
        "\n",
        "        # self.ReLU=nn.ReLU()\n",
        "        # self.max_pool2d=nn.MaxPool2d(kernel_size=2)\n",
        "        # self.BatchNorm1=nn.BatchNorm2d(n_feature*16)\n",
        "        # self.fc1 = nn.Linear(n_feature*16*14*14, 100)\n",
        "        # # self.fc3 = nn.Linear(1000, 100)\n",
        "        # self.BatchNorm2=nn.BatchNorm1d(100)\n",
        "        # self.fc2 = nn.Linear(100, output_size)\n",
        "        # self.dropout1 = nn.Dropout(0.5)\n",
        "        # self.dropout2 = nn.Dropout(0.5)\n",
        "\n",
        "    def forward(self, x, verbose=False):\n",
        "        # Conv Block #1\n",
        "        x = self.conv1(x)\n",
        "        x = self.ReLU(x)\n",
        "        x = self.max_pool2d(x)\n",
        "        # Conv Block #2\n",
        "        x = self.conv2(x)\n",
        "        # x = self.BatchNorm1(x)\n",
        "        x = self.ReLU(x)\n",
        "        x = self.max_pool2d(x)\n",
        "        # Conv Block #3\n",
        "        x = self.conv3(x)\n",
        "        x = self.ReLU(x)\n",
        "        x = self.max_pool2d(x)\n",
        "        # Conv Block #4\n",
        "        x = self.conv4(x)\n",
        "        # x = self.BatchNorm1(x)\n",
        "        x = self.ReLU(x)\n",
        "        x = self.max_pool2d(x)\n",
        "        # Conv Block #5         \n",
        "        x = self.conv5(x)\n",
        "        # x = self.ReLU(x)\n",
        "        # x = self.conv6(x)\n",
        "        x = self.BatchNorm1(x)\n",
        "        x = self.ReLU(x)\n",
        "        # x = self.dropout1(x)\n",
        "        x = x.view(-1, self.n_feature*16*14*14)\n",
        "        ###### Classifier ######\n",
        "        # Fully-Connected layer #1\n",
        "        x = self.fc1(x)\n",
        "        x = self.BatchNorm2(x)\n",
        "        x = self.ReLU(x)\n",
        "        x = self.dropout2(x)\n",
        "        # Fully-Connected layer #2\n",
        "        x = self.fc2(x)\n",
        "        return x"
      ]
    },
    {
      "cell_type": "markdown",
      "metadata": {
        "id": "BPRvS6pEKMKo"
      },
      "source": [
        "##### unbalanced data: CNN_1_try_ascending_1000 + 64 num of features + lr=0.0001 + step =12"
      ]
    },
    {
      "cell_type": "code",
      "execution_count": null,
      "metadata": {
        "id": "hBbSgYKQDWyR",
        "outputId": "4b764984-f721-4b97-bd04-eacb8d11ae00"
      },
      "outputs": [],
      "source": [
        "# unbalanced data - FC with 1000\n",
        "Run_Simulation(architecture=CNN_1st_try_ascending \n",
        "              ,architecture_name = \"CNN_1st_try_ascending\"\n",
        "              ,num_epochs=30\n",
        "              ,n_features=64\n",
        "              ,output_size=4\n",
        "              ,optimizer_name=\"Adam\"\n",
        "              ,lr_val=0.0001\n",
        "              ,weight_decay_val=1e-9\n",
        "              ,step_size_val=12\n",
        "              ,gamma_val=0.1\n",
        "              ,momentum_val=0.9\n",
        "              ,checkpoint_optimizer_path='C:\\\\Users\\\\Ahat\\\\Desktop\\\\Dor\\\\Weigths_4C'\n",
        "              ,sim_num = '64_features'\n",
        "              ,load_flag = False\n",
        "              ,loading_path=None)"
      ]
    },
    {
      "cell_type": "markdown",
      "metadata": {
        "id": "qdRuOH3skxUV"
      },
      "source": [
        "## CNN_4_try - FC(1000) "
      ]
    },
    {
      "cell_type": "markdown",
      "metadata": {
        "id": "PuXsbDP0m6yp"
      },
      "source": [
        "### "
      ]
    },
    {
      "cell_type": "code",
      "execution_count": null,
      "metadata": {
        "id": "kKGzZadZkwqj"
      },
      "outputs": [],
      "source": [
        "# builf from CNN_2\n",
        "class CNN_4th_try(nn.Module): ## BS =32 ,  optim.SGD(CNN_1st_try_model.parameters(), lr=0.01,momentum=0.9)\n",
        "    def __init__(self, input_size, n_feature, output_size):\n",
        "        super(CNN_4th_try, self).__init__()\n",
        "        self.n_feature = n_feature\n",
        "        self.conv1 = nn.Conv2d(in_channels=input_size, out_channels=n_feature, kernel_size=5,stride=1, padding=2)\n",
        "        self.conv2 = nn.Conv2d(n_feature, n_feature*2, kernel_size=5,stride=1, padding=2)\n",
        "        self.conv3 = nn.Conv2d(n_feature*2, n_feature*4, kernel_size=5,stride=1, padding=2)\n",
        "        self.conv4 = nn.Conv2d(n_feature*4, n_feature*8, kernel_size=5,stride=1, padding=2)\n",
        "        self.conv5 = nn.Conv2d(n_feature*8, n_feature*16, kernel_size=5,stride=1, padding=2)\n",
        "        # self.conv6 = nn.Conv2d(n_feature*8, n_feature*16, kernel_size=5)\n",
        "        self.ReLU=nn.ReLU()\n",
        "        self.max_pool2d=nn.MaxPool2d(kernel_size=2)\n",
        "        self.BatchNorm1=nn.BatchNorm2d(n_feature*16)\n",
        "        self.fc1 = nn.Linear(n_feature*16*14*14, 1000)\n",
        "        # self.fc3 = nn.Linear(1000, 100)\n",
        "        self.BatchNorm2=nn.BatchNorm1d(1000)\n",
        "        self.fc2 = nn.Linear(1000, output_size)\n",
        "        self.dropout1 = nn.Dropout(0.8)\n",
        "        self.dropout2 = nn.Dropout(0.75)\n",
        "\n",
        "    def forward(self, x, verbose=False):\n",
        "        # Conv Block #1\n",
        "        x = self.conv1(x)\n",
        "        x = self.ReLU(x)\n",
        "        x = self.max_pool2d(x)\n",
        "        # Conv Block #2\n",
        "        x = self.conv2(x)\n",
        "        x = self.ReLU(x)\n",
        "        x = self.max_pool2d(x)\n",
        "        # Conv Block #3\n",
        "        x = self.conv3(x)\n",
        "        x = self.ReLU(x)\n",
        "        x = self.max_pool2d(x)\n",
        "        # Conv Block #4\n",
        "        x = self.conv4(x)\n",
        "        x = self.ReLU(x)\n",
        "        x = self.max_pool2d(x)\n",
        "        # Conv Block #5         \n",
        "        x = self.conv5(x)\n",
        "        x = self.BatchNorm1(x)\n",
        "        x = self.ReLU(x)\n",
        "        x = x.view(-1,self.n_feature*16*14*14)\n",
        "        ###### Classifier ######\n",
        "        # Fully-Connected layer #1\n",
        "        x = self.fc1(x)\n",
        "        x = self.ReLU(x)\n",
        "        x = self.dropout1(x)\n",
        "        # Fully-Connected layer #2\n",
        "        x = self.fc2(x)\n",
        "        return x"
      ]
    },
    {
      "cell_type": "markdown",
      "metadata": {
        "id": "2dzXMnxNk7w3"
      },
      "source": [
        "##### CNN 10 try - ascending + 64 features + lr=0.0001 + step=12 (differnet arch)"
      ]
    },
    {
      "cell_type": "code",
      "execution_count": null,
      "metadata": {
        "colab": {
          "base_uri": "https://localhost:8080/"
        },
        "id": "2VJm_nAclStS",
        "outputId": "d06019fe-7f2b-4155-cb2c-9b5e474e54da"
      },
      "outputs": [],
      "source": [
        "CNN_2nd_try_model = CNN_4th_try(3,64,4)\n",
        "CNN_2nd_try_model = CNN_2nd_try_model.to(device)\n",
        "summary(CNN_2nd_try_model, (3, 224, 224))"
      ]
    },
    {
      "cell_type": "code",
      "execution_count": null,
      "metadata": {
        "colab": {
          "base_uri": "https://localhost:8080/"
        },
        "id": "cdJ43-jHlnTn",
        "outputId": "f8f614eb-8696-4f3e-8ebe-c3b9a7c13c0c"
      },
      "outputs": [],
      "source": [
        "# unbalanced data\n",
        "Run_Simulation(architecture=CNN_4th_try \n",
        "              ,architecture_name = \"CNN_4th_try\"\n",
        "              ,num_epochs=30\n",
        "              ,n_features=64\n",
        "              ,output_size=4\n",
        "              ,optimizer_name=\"Adam\"\n",
        "              ,lr_val=0.0001\n",
        "              ,weight_decay_val=1e-9\n",
        "              ,step_size_val=12\n",
        "              ,gamma_val=0.1\n",
        "              ,momentum_val=0.9\n",
        "              ,checkpoint_optimizer_path='C:\\\\Users\\\\Ahat\\\\Desktop\\\\Dor\\\\Weigths_4C'\n",
        "              ,sim_num = '64_features'\n",
        "              ,load_flag = False\n",
        "              ,loading_path=None)"
      ]
    },
    {
      "cell_type": "markdown",
      "metadata": {
        "id": "GX2HJKULNTIn"
      },
      "source": [
        "##### CNN 11 try - ascending + 64 features + lr=0.0001 + step=7 (differnet arch)"
      ]
    },
    {
      "cell_type": "code",
      "execution_count": null,
      "metadata": {
        "id": "pAAGlVXXQEBF",
        "outputId": "18b24ec8-990e-4ff9-f6ed-c39bf7d85ad6"
      },
      "outputs": [],
      "source": [
        "# unbalanced data\n",
        "Run_Simulation(architecture=CNN_4th_try \n",
        "              ,architecture_name = \"CNN_4th_try\"\n",
        "              ,num_epochs=30\n",
        "              ,n_features=64\n",
        "              ,output_size=4\n",
        "              ,optimizer_name=\"Adam\"\n",
        "              ,lr_val=0.0001\n",
        "              ,weight_decay_val=1e-9\n",
        "              ,step_size_val=7\n",
        "              ,gamma_val=0.1\n",
        "              ,momentum_val=0.9\n",
        "              ,checkpoint_optimizer_path='C:\\\\Users\\\\Ahat\\\\Desktop\\\\Dor\\\\Weigths_4C'\n",
        "              ,sim_num = '64_features'\n",
        "              ,load_flag = False\n",
        "              ,loading_path=None)"
      ]
    },
    {
      "cell_type": "markdown",
      "metadata": {
        "id": "8mK6TBKzcuIi"
      },
      "source": [
        "## **Augmentation**\n",
        "\n",
        "https://machinelearningmastery.com/learning-curves-for-diagnosing-machine-learning-model-performance/\n",
        "\n",
        "\n",
        "https://www.frontiersin.org/articles/10.3389/fmed.2021.629134/full"
      ]
    },
    {
      "cell_type": "markdown",
      "metadata": {
        "id": "48_fuf85nxYG"
      },
      "source": [
        "We will try now to apply different versions of **Augmentation** for the sake of trying to improve our model.\n",
        "\n",
        "augmentation is a technique of altering the existing data to create some more data for the model training process. In the augmentation process we are artificially expanding the available dataset for training a model.\n",
        "\n",
        "Image Augmentation is a great tool that can provide new images that preserve original features, but it can also generate noise that can be harmful to the training phase, so in our case (the case of lungs image augmentation) we should take on consideration which actions could harm the model ability to learn.\n",
        "\n",
        "We can notice to example taken from [10] which applying rotations and flips for detecting a dog in an image, such as in ImageNet challenges is considered “acceptable.” On the other hand, applying the same geometrical augmentations for classifying a digit such as 6 vs. 9, is “not recommended”.\n",
        "\n",
        "Since our aim is to detect disease in an X-ray image, then rotation could harm the training phase. Furthermore, the accuracy of the deep learning is heavily impacted by the rotation degree.\n",
        "\n",
        "Applying an augmentation without a clinical consideration may lead to achieving lower accuracy on the validation dataset. \n",
        "In [10], the authors sought the opinion of radiologists on the different geometric augmentation steps. They try to manage different geometric augmentations and label them clinically as “acceptable,” “possible,” or “not recommended.”\n",
        "\n",
        "here is some of that clinical input for consideration:\n",
        "\n",
        "**Reflection**: Reflection in x-axis is a step that is unusual, as the x-ray is flipped upside down. This step is “not recommended,” as it is an adding unnecessary noise that may mislead the learning algorithm. However, Reflection in y-axis, is \"acceptable\" even though it could lead to non-physiologic images (e.g., heart in the right thorax rather than the left thorax), which might confound learning since in most of the cases there are no Internal organs presented in the X-ray images.\n",
        "\n",
        "**Rotation**: Applying rotation to X-ray images could be helpful. However, it depends on the range of rotation a severe rotation can be harmful. Slight rotations such as between −5 and 5 are seen in clinical practice, however, severe rotations such as between −90 and 90 are “not recommended,” as the generated X-rays are unlikely to be encountered and can add unnecessary noise to the learning model.\n",
        "\n",
        "**Scaling**: Scaling can be in x-axis, y-axis, or both. When large scaling (>× 1) is applied, regardless of the direction, the augmented X-ray image will be a stretched version of the original X-ray. When a small scaling (<× 1) is applied, the size augmented X-ray will be less than the original image. An equal scaling in x-axis and y-axis is “possible,” however, scaling in only the x-axis or y-axis can be considered “not recommended” clinically.\n",
        "\n",
        "**Shearing**: Shearing can be applied to x-axis, y-axis, or both directions. It is measured as an angle in degrees, and is in the range −90 to 90. The augmented X-ray images look like the original skewed in the specified direction(s). This step can be considered “not recommended,” as it produces images that do not exist clinically.\n",
        "\n",
        "**Translation**: Translation or “Shifting” X-ray images up, down, left, or right, could be a useful augmentation step. This is because the X-ray images do not always produce lungs in the center of the image. This can depend on the patient's position, as well as the radiographic unit itself, such as if it is portable. Having X-ray images where the lungs are centered could lead to a more robust COVID-19 detector. As such, this step seems to be “acceptable” clinically as it is observed. However, there is no clearly recommended range for translation.\n",
        "\n",
        "**Center Crop**: as mentioned before, Having X-ray images where the lungs are centered could lead to a more robust COVID-19 detector, However X-ray images do not always produce lungs in the center of the image. Center Crop will be tested.\n",
        "In conclusion, these findings indicate that geometrical data augmentation in X-ray images may not be an effective strategy in detecting COVID-19 or other diseases.\n",
        "\n",
        "Unlike other computer vision learning problems, in which a certain pattern, such as a dog vs. a cat, can be located somewhere in an image, COVID-19, bacterial, and non-COIVD-19 viral pneumonias do not have specific shapes or dimensions on a chest X-ray image.\n",
        "\n",
        "We will apply different versions of augmentations, based on the research presented above and [4]. Some of the augmentations will be \"on fly\"  where in any epoch the data loader will apply a fresh set of random operations. So instead of showing the exact same items at every epoch, we are showing a variant that has been changed in a different way, so after three epochs, you would have seen three random variants of each item in a dataset.\n"
      ]
    },
    {
      "cell_type": "markdown",
      "metadata": {
        "id": "xfQg-etRNHrF"
      },
      "source": [
        "### Augmantation Ver1"
      ]
    },
    {
      "cell_type": "code",
      "execution_count": null,
      "metadata": {
        "id": "53Pq0jk8Z4y8"
      },
      "outputs": [],
      "source": [
        "# Data Assignment \n",
        "input_size  = 256*256  # images are 256x256 pixels\n",
        "output_size = 4      # there are 4 classes - Normal, Covid, Lung_Opacity, Viral Pneumonia\n",
        "def get_data(data_dir):\n",
        "  train_transform =transforms.Compose([  \n",
        "      transforms.Resize(size = (224,224)),\n",
        "      transforms.RandomRotation(degrees=(-5,5)),\n",
        "      transforms.ToTensor(),\n",
        "      transforms.Normalize(mean = [0.485, 0.456, 0.406],\n",
        "                                      std = [0.229, 0.224, 0.225])\n",
        "  ])\n",
        "\n",
        "  test_transform = transforms.Compose([\n",
        "      transforms.Resize(size = (224,224)),\n",
        "      transforms.ToTensor(),\n",
        "      transforms.Normalize(mean = [0.485, 0.456, 0.406],\n",
        "                                      std = [0.229, 0.224, 0.225])\n",
        "  ])\n",
        "\n",
        "  # train_set = datasets.ImageFolder(data_dir + '/training_set_balance' , transform=train_transform)\n",
        "  # test_set = datasets.ImageFolder(data_dir + '/test_set_balance', transform=test_transform)\n",
        "  # val_set = datasets.ImageFolder(data_dir + '/valid_set_balance', transform=test_transform)\n",
        "  train_set = datasets.ImageFolder(data_dir+ '/training_set', transform=train_transform)\n",
        "  test_set = datasets.ImageFolder(data_dir + '/test_set', transform=test_transform)\n",
        "  val_set = datasets.ImageFolder(data_dir + '/valid_set', transform=test_transform)\n",
        "  train =  torch.utils.data.DataLoader(train_set, batch_size=50, shuffle=True)\n",
        "  test =  torch.utils.data.DataLoader(test_set, batch_size=1, shuffle=True)\n",
        "  val =  torch.utils.data.DataLoader(val_set, batch_size=50, shuffle=True)  \n",
        "\n",
        "  dataloaders={'train':train,'val':val,'test':test}\n",
        "  dataset_sizes = {'train':len(train_set),'val':len(val_set),'test':len(test_set)}\n",
        "  class_names = train_set.classes\n",
        "\n",
        "  return dataloaders,dataset_sizes,class_names,train_set\n",
        "\n",
        "# Pathes of Data\n",
        "# save_path='/content/gdrive/MyDrive/DeepLearning/Final_Project/Data/Saved_data_4C'\n",
        "# data_dir ='/content/gdrive/MyDrive/DeepLearning/Final_Project/Data/COVID-19_Radiography_Dataset_4C'\n",
        "\n",
        "save_path='C:\\\\Users\\\\Ahat\\\\Desktop\\\\Dor\\\\Saved_data_4C'\n",
        "data_dir ='C:\\\\Users\\\\Ahat\\\\Desktop\\\\Dor\\\\COVID-19_Radiography_Dataset_4C'\n",
        "\n",
        "# Prepare Data\n",
        "dataloaders,dataset_sizes,class_names,train_set=get_data(data_dir)\n",
        "\n",
        "#Save Data\n",
        "torch.save(dataloaders,save_path + '/dataloaders.pt')\n",
        "torch.save(train_set,save_path + '/trainset.pt')\n",
        "torch.save(dataset_sizes,save_path + '/dataset_sizes.pt')\n",
        "torch.save(class_names,save_path + '/class_names.pt')\n",
        "\n",
        "train,val,test=dataloaders['train'],dataloaders['val'],dataloaders['test']\n",
        "\n",
        "# What the different between 'train'(DataLoader) and 'train_set'(datasets)"
      ]
    },
    {
      "cell_type": "code",
      "execution_count": null,
      "metadata": {
        "colab": {
          "base_uri": "https://localhost:8080/"
        },
        "id": "GO6zHjHTaYNi",
        "outputId": "ce5fc55b-4909-4840-d4c6-28db58c6e1af"
      },
      "outputs": [],
      "source": [
        " # Data types\n",
        "# print(type(train),type(test),type(val),type(train_set))\n",
        "# number of images\n",
        "print(\"train size=\",dataset_sizes['train'])\n",
        "print(\"val size=\",dataset_sizes['val'])\n",
        "print(\"test size=\",dataset_sizes['test'])\n",
        "\n",
        "# num of training Batches\n",
        "print('Num of training batches', len(train))\n",
        "print(\"Num of val batches\", len(val))\n",
        "print(\"Num of test batches\", len(test))"
      ]
    },
    {
      "cell_type": "markdown",
      "metadata": {
        "id": "xK3pITma9g_W"
      },
      "source": [
        "##### CNN 12 try - aug V1 + ascending + 128 features + lr=0.0001 + step=12 "
      ]
    },
    {
      "cell_type": "code",
      "execution_count": null,
      "metadata": {
        "colab": {
          "base_uri": "https://localhost:8080/",
          "height": 1000
        },
        "id": "sx6nnCpIaxBS",
        "outputId": "50d343a2-2a2c-4e11-8996-481258ff5172"
      },
      "outputs": [],
      "source": [
        "# unbalanced data\n",
        "Run_Simulation(architecture=CNN_1st_try_ascending \n",
        "              ,architecture_name = \"CNN_1st_try_ascending\"\n",
        "              ,num_epochs=30\n",
        "              ,n_features=128\n",
        "              ,output_size=4\n",
        "              ,optimizer_name=\"Adam\"\n",
        "              ,lr_val=0.0001\n",
        "              ,weight_decay_val=1e-9\n",
        "              ,step_size_val=12\n",
        "              ,gamma_val=0.1\n",
        "              ,momentum_val=0.9\n",
        "              ,checkpoint_optimizer_path='C:\\\\Users\\\\Ahat\\\\Desktop\\\\Dor\\\\Weigths_4C'\n",
        "              ,sim_num = '128_features'\n",
        "              ,load_flag = False\n",
        "              ,loading_path=None)"
      ]
    },
    {
      "cell_type": "markdown",
      "metadata": {
        "id": "bneeeUGr9ySr"
      },
      "source": [
        "##### CNN 13 try - aug V1 + ascending + 128 features + lr=0.0001 + step=7"
      ]
    },
    {
      "cell_type": "code",
      "execution_count": null,
      "metadata": {
        "colab": {
          "base_uri": "https://localhost:8080/",
          "height": 1000
        },
        "id": "p8LaShuzhmuZ",
        "outputId": "3b8b838f-a1db-457e-dafa-f4fea9f7ae63"
      },
      "outputs": [],
      "source": [
        "# unbalanced data\n",
        "Run_Simulation(architecture=CNN_1st_try_ascending \n",
        "              ,architecture_name = \"CNN_1st_try_ascending\"\n",
        "              ,num_epochs=30\n",
        "              ,n_features=128\n",
        "              ,output_size=4\n",
        "              ,optimizer_name=\"Adam\"\n",
        "              ,lr_val=0.0001\n",
        "              ,weight_decay_val=1e-9\n",
        "              ,step_size_val=7\n",
        "              ,gamma_val=0.1\n",
        "              ,momentum_val=0.9\n",
        "              ,checkpoint_optimizer_path='/content/gdrive/MyDrive/DeepLearning/Final_Project/Weights_4C'\n",
        "              ,sim_num = '128_features'\n",
        "              ,load_flag = False\n",
        "              ,loading_path=None)"
      ]
    },
    {
      "cell_type": "markdown",
      "metadata": {
        "id": "PX2Ogz7O-LAb"
      },
      "source": [
        "##### CNN 14 try - aug V1 + ascending + 64 features + lr=0.0001 + step=12 "
      ]
    },
    {
      "cell_type": "code",
      "execution_count": null,
      "metadata": {
        "colab": {
          "base_uri": "https://localhost:8080/",
          "height": 1000
        },
        "id": "RZXBRGk0BIQX",
        "outputId": "1cf2347f-eb59-44a4-fb21-59c11acd9b1c"
      },
      "outputs": [],
      "source": [
        "# unbalanced data\n",
        "Run_Simulation(architecture=CNN_1st_try_ascending \n",
        "              ,architecture_name = \"CNN_1st_try_ascending\"\n",
        "              ,num_epochs=30\n",
        "              ,n_features=64\n",
        "              ,output_size=4\n",
        "              ,optimizer_name=\"Adam\"\n",
        "              ,lr_val=0.0001\n",
        "              ,weight_decay_val=1e-9\n",
        "              ,step_size_val=12\n",
        "              ,gamma_val=0.1\n",
        "              ,momentum_val=0.9\n",
        "              ,checkpoint_optimizer_path='C:\\\\Users\\\\Ahat\\\\Desktop\\\\Dor\\\\Weigths_4C'\n",
        "              ,sim_num = '64_features'\n",
        "              ,load_flag = False\n",
        "              ,loading_path=None)"
      ]
    },
    {
      "cell_type": "markdown",
      "metadata": {
        "id": "MQ33DzagTzsn"
      },
      "source": [
        "### Augmantation Ver2"
      ]
    },
    {
      "cell_type": "code",
      "execution_count": null,
      "metadata": {
        "id": "Wc03_2P-w0Dc"
      },
      "outputs": [],
      "source": [
        "# Data Assignment \n",
        "input_size  = 256*256  # images are 256x256 pixels\n",
        "output_size = 4      # there are 4 classes - Normal, Covid, Lung_Opacity, Viral Pneumonia\n",
        "def get_data(data_dir):\n",
        "  train_transform =transforms.Compose([  \n",
        "      transforms.Resize(size = (224,224)),\n",
        "      transforms.RandomHorizontalFlip(p=0.5),\n",
        "      transforms.RandomRotation(degrees=(-5,5)),\n",
        "      transforms.ToTensor(),\n",
        "      transforms.Normalize(mean = [0.485, 0.456, 0.406],\n",
        "                                      std = [0.229, 0.224, 0.225])\n",
        "  ])\n",
        "\n",
        "  test_transform = transforms.Compose([\n",
        "      transforms.Resize(size = (224,224)),\n",
        "      transforms.ToTensor(),\n",
        "      transforms.Normalize(mean = [0.485, 0.456, 0.406],\n",
        "                                      std = [0.229, 0.224, 0.225])\n",
        "  ])\n",
        "\n",
        "  # train_set = datasets.ImageFolder(data_dir + '/training_set_balance' , transform=train_transform)\n",
        "  # test_set = datasets.ImageFolder(data_dir + '/test_set_balance', transform=test_transform)\n",
        "  # val_set = datasets.ImageFolder(data_dir + '/valid_set_balance', transform=test_transform)\n",
        "  train_set = datasets.ImageFolder(data_dir + '/training_set' , transform=train_transform)\n",
        "  test_set = datasets.ImageFolder(data_dir + '/test_set', transform=test_transform)\n",
        "  val_set = datasets.ImageFolder(data_dir + '/valid_set', transform=test_transform)\n",
        "  train =  torch.utils.data.DataLoader(train_set, batch_size=50, shuffle=True)\n",
        "  test =  torch.utils.data.DataLoader(test_set, batch_size=1, shuffle=True)\n",
        "  val =  torch.utils.data.DataLoader(val_set, batch_size=50, shuffle=True)  \n",
        "\n",
        "  dataloaders={'train':train,'val':val,'test':test}\n",
        "  dataset_sizes = {'train':len(train_set),'val':len(val_set),'test':len(test_set)}\n",
        "  class_names = train_set.classes\n",
        "\n",
        "  return dataloaders,dataset_sizes,class_names,train_set\n",
        "\n",
        "# Pathes of Data\n",
        "save_path='/content/gdrive/MyDrive/DeepLearning/Final_Project/Data/Saved_data_4C'\n",
        "data_dir ='/content/gdrive/MyDrive/DeepLearning/Final_Project/Data/COVID-19_Radiography_Dataset_4C'\n",
        "\n",
        "# save_path ='C:\\\\Users\\\\Ahat\\\\Desktop\\\\Dor\\\\Saved_data_4C'\n",
        "# data_dir ='C:\\\\Users\\\\Ahat\\\\Desktop\\\\Dor\\\\COVID-19_Radiography_Dataset_4C'\n",
        "\n",
        "# Prepare Data\n",
        "dataloaders,dataset_sizes,class_names,train_set=get_data(data_dir)\n",
        "\n",
        "#Save Data\n",
        "# torch.save(dataloaders,save_path + '/dataloaders.pt')\n",
        "# torch.save(train_set,save_path + '/trainset.pt')\n",
        "# torch.save(dataset_sizes,save_path + '/dataset_sizes.pt')\n",
        "# torch.save(class_names,save_path + '/class_names.pt')\n",
        "torch.save(dataloaders,save_path + '/dataloaders_aug.pt')\n",
        "torch.save(train_set,save_path + '/trainset_aug.pt')\n",
        "torch.save(dataset_sizes,save_path + '/dataset_sizes_aug.pt')\n",
        "torch.save(class_names,save_path + '/class_names_aug.pt')\n",
        "train,val,test=dataloaders['train'],dataloaders['val'],dataloaders['test']\n",
        "\n",
        "# What the different between 'train'(DataLoader) and 'train_set'(datasets)"
      ]
    },
    {
      "cell_type": "code",
      "execution_count": null,
      "metadata": {
        "colab": {
          "base_uri": "https://localhost:8080/"
        },
        "id": "SadMDBtk95V8",
        "outputId": "0475c7d0-12cd-46f3-cc09-5571f178faa9"
      },
      "outputs": [],
      "source": [
        " # Data types\n",
        "# print(type(train),type(test),type(val),type(train_set))\n",
        "# number of images\n",
        "print(\"train size=\",dataset_sizes['train'])\n",
        "print(\"val size=\",dataset_sizes['val'])\n",
        "print(\"test size=\",dataset_sizes['test'])\n",
        "\n",
        "# num of training Batches\n",
        "print('Num of training batches', len(train))\n",
        "print(\"Num of val batches\", len(val))\n",
        "print(\"Num of test batches\", len(test))"
      ]
    },
    {
      "cell_type": "markdown",
      "metadata": {
        "id": "CehJhqZ0T8BL"
      },
      "source": [
        "##### CNN 15 try - aug V2 + ascending + 64 features + lr=0.0001 + step=12 "
      ]
    },
    {
      "cell_type": "code",
      "execution_count": null,
      "metadata": {
        "id": "A44I8py68_XM",
        "outputId": "f10e3f7d-1250-4f83-951a-5327d724f043"
      },
      "outputs": [],
      "source": [
        "CNN_2nd_try_model = CNN_1st_try_ascending(3,64,4)\n",
        "CNN_2nd_try_model = CNN_2nd_try_model.to(device)\n",
        "summary(CNN_2nd_try_model, (3, 224, 224))"
      ]
    },
    {
      "cell_type": "code",
      "execution_count": null,
      "metadata": {
        "id": "WaQ3cUsdHD82",
        "outputId": "dadcfc18-4fac-44be-a014-01fab3134a46"
      },
      "outputs": [],
      "source": [
        "# unbalanced data\n",
        "Run_Simulation(architecture=CNN_1st_try_ascending \n",
        "              ,architecture_name = \"CNN_1st_try_ascending\"\n",
        "              ,num_epochs=30\n",
        "              ,n_features=64\n",
        "              ,output_size=4\n",
        "              ,optimizer_name=\"Adam\"\n",
        "              ,lr_val=0.0001\n",
        "              ,weight_decay_val=1e-9\n",
        "              ,step_size_val=12\n",
        "              ,gamma_val=0.1\n",
        "              ,momentum_val=0.9\n",
        "              ,checkpoint_optimizer_path='C:\\\\Users\\\\Ahat\\\\Desktop\\\\Dor\\\\Weigths_4C'\n",
        "              ,sim_num = '64_features'\n",
        "              ,load_flag = False\n",
        "              ,loading_path=None)"
      ]
    },
    {
      "cell_type": "markdown",
      "metadata": {
        "id": "a7O4H2vRUwCV"
      },
      "source": [
        "##### CNN 16 try - aug V2 + ascending + 128 features + lr=0.0001 + step=12 "
      ]
    },
    {
      "cell_type": "code",
      "execution_count": null,
      "metadata": {
        "id": "pN12EWLB8_XN",
        "outputId": "ca58ca31-3fef-4331-d15e-c0551061ca7b"
      },
      "outputs": [],
      "source": [
        "CNN_2nd_try_model = CNN_1st_try_ascending(3,128,4)\n",
        "CNN_2nd_try_model = CNN_2nd_try_model.to(device)\n",
        "summary(CNN_2nd_try_model, (3, 224, 224))"
      ]
    },
    {
      "cell_type": "code",
      "execution_count": null,
      "metadata": {
        "id": "KGHbdfHC8_XN",
        "outputId": "1c4e5959-4726-45a8-9f16-700cfbdfd258"
      },
      "outputs": [],
      "source": [
        "# unbalanced data\n",
        "Run_Simulation(architecture=CNN_1st_try_ascending \n",
        "              ,architecture_name = \"CNN_1st_try_ascending\"\n",
        "              ,num_epochs=30\n",
        "              ,n_features=128\n",
        "              ,output_size=4\n",
        "              ,optimizer_name=\"Adam\"\n",
        "              ,lr_val=0.0001\n",
        "              ,weight_decay_val=1e-9\n",
        "              ,step_size_val=12\n",
        "              ,gamma_val=0.1\n",
        "              ,momentum_val=0.9\n",
        "              ,checkpoint_optimizer_path='C:\\\\Users\\\\Ahat\\\\Desktop\\\\Dor\\\\Weigths_4C'\n",
        "              ,sim_num = '64_features'\n",
        "              ,load_flag = False\n",
        "              ,loading_path=None)"
      ]
    },
    {
      "cell_type": "markdown",
      "metadata": {
        "id": "Q_6BokvIwomG"
      },
      "source": [
        "### Augmantation Ver3"
      ]
    },
    {
      "cell_type": "code",
      "execution_count": null,
      "metadata": {
        "id": "ck0h5RKzwlt_"
      },
      "outputs": [],
      "source": [
        "# Data Assignment \n",
        "input_size  = 256*256  # images are 256x256 pixels\n",
        "output_size = 4      # there are 4 classes - Normal, Covid, Lung_Opacity, Viral Pneumonia\n",
        "def get_data(data_dir):\n",
        "  train_transform =transforms.Compose([  \n",
        "      transforms.Resize(size = (224,224)),\n",
        "      transforms.RandomHorizontalFlip(p=0.5),\n",
        "      transforms.RandomRotation(degrees=(-5,5)),\n",
        "      transforms.ColorJitter(brightness=0.1,contrast=0.1,hue=0.1),\n",
        "      transforms.ToTensor(),\n",
        "      transforms.Normalize(mean = [0.485, 0.456, 0.406],\n",
        "                                      std = [0.229, 0.224, 0.225])\n",
        "  ])\n",
        "  test_transform = transforms.Compose([\n",
        "      transforms.Resize(size = (224,224)),\n",
        "      transforms.ToTensor(),\n",
        "      transforms.Normalize(mean = [0.485, 0.456, 0.406],\n",
        "                                      std = [0.229, 0.224, 0.225])\n",
        "  ])\n",
        "  # train_set = datasets.ImageFolder(data_dir + '/training_set_balance' , transform=train_transform)\n",
        "  # test_set = datasets.ImageFolder(data_dir + '/test_set_balance', transform=test_transform)\n",
        "  # val_set = datasets.ImageFolder(data_dir + '/valid_set_balance', transform=test_transform)\n",
        "  train_set = datasets.ImageFolder(data_dir + '/training_set' , transform=train_transform)\n",
        "  test_set = datasets.ImageFolder(data_dir + '/test_set', transform=test_transform)\n",
        "  val_set = datasets.ImageFolder(data_dir + '/valid_set', transform=test_transform)\n",
        "  train =  torch.utils.data.DataLoader(train_set, batch_size=50, shuffle=True)\n",
        "  test =  torch.utils.data.DataLoader(test_set, batch_size=1, shuffle=True)\n",
        "  val =  torch.utils.data.DataLoader(val_set, batch_size=50, shuffle=True)  \n",
        "\n",
        "  dataloaders={'train':train,'val':val,'test':test}\n",
        "  dataset_sizes = {'train':len(train_set),'val':len(val_set),'test':len(test_set)}\n",
        "  class_names = train_set.classes\n",
        "\n",
        "  return dataloaders,dataset_sizes,class_names,train_set\n",
        "\n",
        "# Pathes of Data\n",
        "# save_path='/content/gdrive/MyDrive/DeepLearning/Final_Project/Data/Saved_data_4C'\n",
        "# data_dir ='/content/gdrive/MyDrive/DeepLearning/Final_Project/Data/COVID-19_Radiography_Dataset_4C'\n",
        "\n",
        "save_path ='C:\\\\Users\\\\Ahat\\\\Desktop\\\\Dor\\\\Saved_data_4C'\n",
        "data_dir ='C:\\\\Users\\\\Ahat\\\\Desktop\\\\Dor\\\\COVID-19_Radiography_Dataset_4C'\n",
        "\n",
        "# Prepare Data\n",
        "dataloaders,dataset_sizes,class_names,train_set=get_data(data_dir)\n",
        "\n",
        "#Save Data\n",
        "# torch.save(dataloaders,save_path + '/dataloaders.pt')\n",
        "# torch.save(train_set,save_path + '/trainset.pt')\n",
        "# torch.save(dataset_sizes,save_path + '/dataset_sizes.pt')\n",
        "# torch.save(class_names,save_path + '/class_names.pt')\n",
        "torch.save(dataloaders,save_path + '/dataloaders_aug.pt')\n",
        "torch.save(train_set,save_path + '/trainset_aug.pt')\n",
        "torch.save(dataset_sizes,save_path + '/dataset_sizes_aug.pt')\n",
        "torch.save(class_names,save_path + '/class_names_aug.pt')\n",
        "train,val,test=dataloaders['train'],dataloaders['val'],dataloaders['test']\n",
        "\n",
        "# What the different between 'train'(DataLoader) and 'train_set'(datasets)"
      ]
    },
    {
      "cell_type": "code",
      "execution_count": null,
      "metadata": {
        "id": "yjkuCcyGRkrc"
      },
      "outputs": [],
      "source": [
        "# load Data\n",
        "# save_path='C:\\\\Users\\\\Ahat\\\\Desktop\\\\Dor\\\\Saved_data_4C'\n",
        "save_path='/content/gdrive/MyDrive/DeepLearning/Final_Project/Data/Saved_data_4C'\n",
        "dataloaders=torch.load(save_path + '/dataloaders_aug.pt')\n",
        "train_set = torch.load(save_path + '/trainset_aug.pt')\n",
        "dataset_sizes=torch.load(save_path + '/dataset_sizes_aug.pt')\n",
        "class_names=torch.load(save_path + '/class_names_aug.pt')\n",
        "# dataloaders=torch.load(save_path + '/dataloaders.pt')\n",
        "# train_set = torch.load(save_path + '/trainset.pt')\n",
        "# dataset_sizes=torch.load(save_path + '/dataset_sizes.pt')\n",
        "# class_names=torch.load(save_path + '/class_names.pt')\n",
        "train,val,test=dataloaders['train'],dataloaders['val'],dataloaders['test']"
      ]
    },
    {
      "cell_type": "code",
      "execution_count": null,
      "metadata": {
        "colab": {
          "base_uri": "https://localhost:8080/"
        },
        "id": "G73pMeNLRnTT",
        "outputId": "ed505a88-3d2e-433c-fcfe-25472ecb6758"
      },
      "outputs": [],
      "source": [
        " # Data types\n",
        "# print(type(train),type(test),type(val),type(train_set))\n",
        "# number of images\n",
        "print(\"train size=\",dataset_sizes['train'])\n",
        "print(\"val size=\",dataset_sizes['val'])\n",
        "print(\"test size=\",dataset_sizes['test'])\n",
        "\n",
        "# num of training Batches\n",
        "print('Num of training batches', len(train))\n",
        "print(\"Num of val batches\", len(val))\n",
        "print(\"Num of test batches\", len(test))"
      ]
    },
    {
      "cell_type": "code",
      "execution_count": null,
      "metadata": {
        "colab": {
          "base_uri": "https://localhost:8080/",
          "height": 470
        },
        "id": "3qNF1zeOLYsg",
        "outputId": "465dc0e4-3421-45d7-84f3-6df719a8a9b9"
      },
      "outputs": [],
      "source": [
        "def train_imshow(data, classes, num_Img_show):\n",
        "    num_Img_show=5\n",
        "    # classes = tuple(train.dataset._find_classes(data_dir + '/train')[0]) # Defining the classes we have\n",
        "    classes=tuple(classes)\n",
        "    dataiter = iter(data)\n",
        "    images, labels = dataiter.next()\n",
        "    fig, axes = plt.subplots(figsize=(10, 4), ncols=num_Img_show)\n",
        "    mean = np.array([0.485, 0.456, 0.406])\n",
        "    std = np.array([0.229, 0.224, 0.225])\n",
        "    for i in range(num_Img_show):\n",
        "      ax = axes[i]\n",
        "      ax.imshow((images[i].permute(1, 2, 0)* std + mean)) \n",
        "      ax.title.set_text(' '.join('%5s' % classes[labels[i]]))\n",
        "    plt.show()\n",
        "\n",
        "def test_imshow(data, classes, num_Img_show):\n",
        "    # classes = tuple(train.dataset._find_classes(data_dir + '/train')[0]) # Defining the classes we have\n",
        "    classes=tuple(classes)\n",
        "    dataiter = iter(data)\n",
        "    #images, labels = dataiter.next()\n",
        "    fig, axes = plt.subplots(figsize=(10, 4), ncols=num_Img_show)\n",
        "    mean = np.array([0.485, 0.456, 0.406])\n",
        "    std = np.array([0.229, 0.224, 0.225])\n",
        "    for i in range(num_Img_show):\n",
        "      images, labels = dataiter.next()\n",
        "      ax = axes[i]\n",
        "      ax.imshow((images[0].permute(1, 2, 0)* std + mean)) \n",
        "      ax.title.set_text(' '.join('%5s' % classes[labels[0]]))\n",
        "    plt.show()\n",
        "\n",
        "\n",
        "classes=train_set.classes\n",
        "num_Img_show=5\n",
        "print(\"Train images :\")\n",
        "train_imshow(train,classes, num_Img_show)\n",
        "print(\"Test images :\")\n",
        "test_imshow(test,classes, num_Img_show)  # test batch_size=1"
      ]
    },
    {
      "cell_type": "markdown",
      "metadata": {
        "id": "VNSrMTy4LqND"
      },
      "source": [
        "##### CNN 17 try - aug V3 + ascending + 128 features + lr=0.0001 + step=12\n"
      ]
    },
    {
      "cell_type": "code",
      "execution_count": null,
      "metadata": {
        "colab": {
          "base_uri": "https://localhost:8080/",
          "height": 1000
        },
        "id": "f7DqrlHzLgFh",
        "outputId": "32aa4cd1-8e1d-4fae-c965-79fe47489013"
      },
      "outputs": [],
      "source": [
        "# unbalanced data\n",
        "Run_Simulation(architecture=CNN_1st_try_ascending \n",
        "              ,architecture_name = \"CNN_1st_try_ascending\"\n",
        "              ,num_epochs=30\n",
        "              ,n_features=128\n",
        "              ,output_size=4\n",
        "              ,optimizer_name=\"Adam\"\n",
        "              ,lr_val=0.0001\n",
        "              ,weight_decay_val=1e-9\n",
        "              ,step_size_val=12\n",
        "              ,gamma_val=0.1\n",
        "              ,momentum_val=0.9\n",
        "              ,checkpoint_optimizer_path='C:\\\\Users\\\\Ahat\\\\Desktop\\\\Dor\\\\Weigths_4C'\n",
        "              ,sim_num = '128_features'\n",
        "              ,load_flag = False\n",
        "              ,loading_path=None)"
      ]
    },
    {
      "cell_type": "markdown",
      "metadata": {
        "id": "elj6MsHxzWJf"
      },
      "source": [
        "##### CNN 18 try - aug V3 + ascending + 64 features + lr=0.0001 + step=12\n",
        "\n"
      ]
    },
    {
      "cell_type": "code",
      "execution_count": null,
      "metadata": {
        "id": "k5pJ29z6ST17",
        "outputId": "90063e43-3c3e-49e4-d2be-c98fe222d3aa"
      },
      "outputs": [],
      "source": [
        "# unbalanced data\n",
        "Run_Simulation(architecture=CNN_1st_try_ascending \n",
        "              ,architecture_name = \"CNN_1st_try_ascending\"\n",
        "              ,num_epochs=30\n",
        "              ,n_features=64\n",
        "              ,output_size=4\n",
        "              ,optimizer_name=\"Adam\"\n",
        "              ,lr_val=0.0001\n",
        "              ,weight_decay_val=1e-9\n",
        "              ,step_size_val=12\n",
        "              ,gamma_val=0.1\n",
        "              ,momentum_val=0.9\n",
        "              ,checkpoint_optimizer_path='C:\\\\Users\\\\Ahat\\\\Desktop\\\\Dor\\\\Weigths_4C'\n",
        "              ,sim_num = '64_features'\n",
        "              ,load_flag = False\n",
        "              ,loading_path=None)"
      ]
    },
    {
      "cell_type": "markdown",
      "metadata": {
        "id": "Zr0iBtNFXIlz"
      },
      "source": [
        "##### CNN 19 try - aug V3 + ascending + 128 features + lr=0.0001 + step=7\n"
      ]
    },
    {
      "cell_type": "code",
      "execution_count": null,
      "metadata": {
        "id": "l5jgUSKIST17",
        "outputId": "8216b60f-5abd-4107-e35e-c654700ffbb7"
      },
      "outputs": [],
      "source": [
        "# unbalanced data\n",
        "Run_Simulation(architecture=CNN_1st_try_ascending \n",
        "              ,architecture_name = \"CNN_1st_try_ascending\"\n",
        "              ,num_epochs=30\n",
        "              ,n_features=128\n",
        "              ,output_size=4\n",
        "              ,optimizer_name=\"Adam\"\n",
        "              ,lr_val=0.0001\n",
        "              ,weight_decay_val=1e-9\n",
        "              ,step_size_val=7\n",
        "              ,gamma_val=0.1\n",
        "              ,momentum_val=0.7\n",
        "              ,checkpoint_optimizer_path='C:\\\\Users\\\\Ahat\\\\Desktop\\\\Dor\\\\Weigths_4C'\n",
        "              ,sim_num = '64_features'\n",
        "              ,load_flag = False\n",
        "              ,loading_path=None)"
      ]
    },
    {
      "cell_type": "markdown",
      "metadata": {
        "id": "ne2jy9I9acw7"
      },
      "source": [
        "## Imbalanced Dataset Sampler"
      ]
    },
    {
      "cell_type": "markdown",
      "metadata": {
        "id": "D75K7EmCsAKW"
      },
      "source": [
        "**Resample the training set**\n",
        "\n",
        "another technique to handle imbalanced data is via resampling the training set. \n",
        "There are 2 main approaches to make a balanced dataset out of an imbalanced one \n",
        "**Under-sampling and Over-sampling**.\n",
        "\n",
        "Since we are having classes with plenty of samples and classes with insufficient amount of data, we will use **under-sampling** to balance the dataset by reducing the size of the majority classes.\n",
        "By keeping all samples in the rare class and randomly selecting an equal number of samples in the majority class, a balanced new dataset can be retrieved for further modelling.\n",
        "\n",
        "**oversampling** tries to balance dataset by increasing the size of minority samples. Rather than getting rid of abundant samples, new rare samples are generated by using e.g. repetition, bootstrapping or Augmentation (there is no absolute advantage of one resampling method over another)\n",
        "\n",
        "In our case where we would like to take identification of lung diseases, there are more normal samples than disease ones. Therefore, the model has high tendency to be biased toward the ‘normal’ class.\n",
        "\n",
        "A **combination** of over- and under-sampling is often successful as well - It consists of removing samples from the majority class (under-sampling) and adding more examples from the minority class (over-sampling).\n",
        "\n",
        "The usage of techniques which produces balancing classes with the simplest implementation duplicate random records from the minority class and removing random records from the majority class can cause overfitting and to a loss of information.\n"
      ]
    },
    {
      "cell_type": "markdown",
      "metadata": {
        "id": "xvf3dTLdsYK8"
      },
      "source": [
        "![image.png](data:image/png;base64,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)"
      ]
    },
    {
      "cell_type": "markdown",
      "metadata": {
        "id": "uUHJT4aYsdKZ"
      },
      "source": [
        "We will used **Imbalanced Dataset Sampler** as proposed by **MIT License** at [12], which is a Pytorch sampler that able to :\n",
        "-\trebalance the class distributions when sampling from the imbalanced dataset.\n",
        "-\testimate the sampling weights automatically.\n",
        "-\tavoid creating a new balanced dataset.\n",
        "-\t**mitigate overfitting when it is used in conjunction with data augmentation techniques**.\n"
      ]
    },
    {
      "cell_type": "markdown",
      "metadata": {
        "id": "IGZxYOByZ-T2"
      },
      "source": [
        "### Resampling without Augmentation"
      ]
    },
    {
      "cell_type": "code",
      "execution_count": null,
      "metadata": {
        "id": "yJ8V4JprP0tM"
      },
      "outputs": [],
      "source": [
        "from torchsampler import ImbalancedDatasetSampler"
      ]
    },
    {
      "cell_type": "code",
      "execution_count": null,
      "metadata": {
        "id": "zhEGtNSpaag7"
      },
      "outputs": [],
      "source": [
        "# Data Assignment \n",
        "input_size  = 256*256  # images are 256x256 pixels\n",
        "output_size = 4      # there are 4 classes - Normal, Covid, Lung_Opacity, Viral Pneumonia\n",
        "def get_data(data_dir):\n",
        "  train_transform =transforms.Compose([  \n",
        "      transforms.Resize(size = (224,224)),\n",
        "      # transforms.CenterCrop(224),\n",
        "      # transforms.RandomHorizontalFlip(),\n",
        "      transforms.ToTensor(),\n",
        "      transforms.Normalize(mean = [0.485, 0.456, 0.406],\n",
        "                                      std = [0.229, 0.224, 0.225])\n",
        "  ])\n",
        "\n",
        "  test_transform = transforms.Compose([\n",
        "      transforms.Resize(size = (224,224)),\n",
        "      transforms.ToTensor(),\n",
        "      transforms.Normalize(mean = [0.485, 0.456, 0.406],\n",
        "                                      std = [0.229, 0.224, 0.225])\n",
        "  ])\n",
        "\n",
        "  # train_set = datasets.ImageFolder(data_dir + '/training_set_balance' , transform=train_transform)\n",
        "  # test_set = datasets.ImageFolder(data_dir + '/test_set_balance', transform=test_transform)\n",
        "  # val_set = datasets.ImageFolder(data_dir + '/valid_set_balance', transform=test_transform)\n",
        "  train_set = datasets.ImageFolder(data_dir + '/training_set' , transform=train_transform)\n",
        "  test_set = datasets.ImageFolder(data_dir + '/test_set', transform=test_transform)\n",
        "  val_set = datasets.ImageFolder(data_dir + '/valid_set', transform=test_transform)\n",
        "  train =  torch.utils.data.DataLoader(train_set,sampler=ImbalancedDatasetSampler(train_set),batch_size=50)\n",
        "  test =  torch.utils.data.DataLoader(test_set, batch_size=1, shuffle=True)\n",
        "  val =  torch.utils.data.DataLoader(val_set, batch_size=50, shuffle=True)  \n",
        "\n",
        "  dataloaders={'train':train,'val':val,'test':test}\n",
        "  dataset_sizes = {'train':len(train_set),'val':len(val_set),'test':len(test_set)}\n",
        "  class_names = train_set.classes\n",
        "\n",
        "  return dataloaders,dataset_sizes,class_names,train_set\n",
        "\n",
        "# Pathes of Data\n",
        "save_path='/content/gdrive/MyDrive/DeepLearning/Final_Project/Data/Saved_data_4C'\n",
        "data_dir ='/content/gdrive/MyDrive/DeepLearning/Final_Project/Data/COVID-19_Radiography_Dataset_4C'\n",
        "\n",
        "# save_path='C:\\\\Users\\\\Ahat\\\\Desktop\\\\Dor\\\\Saved_data_4C'\n",
        "# data_dir ='C:\\\\Users\\\\Ahat\\\\Desktop\\\\Dor\\\\COVID-19_Radiography_Dataset_4C'\n",
        "\n",
        "# Prepare Data\n",
        "dataloaders,dataset_sizes,class_names,train_set=get_data(data_dir)\n",
        "\n",
        "#Save Data\n",
        "torch.save(dataloaders,save_path + '/dataloaders.pt')\n",
        "torch.save(train_set,save_path + '/trainset.pt')\n",
        "torch.save(dataset_sizes,save_path + '/dataset_sizes.pt')\n",
        "torch.save(class_names,save_path + '/class_names.pt')\n",
        "\n",
        "train,val,test=dataloaders['train'],dataloaders['val'],dataloaders['test']\n",
        "\n",
        "# What the different between 'train'(DataLoader) and 'train_set'(datasets)"
      ]
    },
    {
      "cell_type": "code",
      "execution_count": null,
      "metadata": {
        "colab": {
          "base_uri": "https://localhost:8080/"
        },
        "id": "zA86GjtTai_D",
        "outputId": "274fee14-f52e-4bde-d265-df7b94248bf0"
      },
      "outputs": [],
      "source": [
        " # Data types\n",
        "# print(type(train),type(test),type(val),type(train_set))\n",
        "# number of images\n",
        "print(\"train size=\",dataset_sizes['train'])\n",
        "print(\"val size=\",dataset_sizes['val'])\n",
        "print(\"test size=\",dataset_sizes['test'])\n",
        "\n",
        "# num of training Batches\n",
        "print('Num of training batches', len(train))\n",
        "print(\"Num of val batches\", len(val))\n",
        "print(\"Num of test batches\", len(test))"
      ]
    },
    {
      "cell_type": "code",
      "execution_count": null,
      "metadata": {
        "colab": {
          "base_uri": "https://localhost:8080/"
        },
        "id": "ZTf7e-xSbP0M",
        "outputId": "fccd2aee-6a05-4416-f639-46bee08996a5"
      },
      "outputs": [],
      "source": [
        "train.dataset.class_to_idx"
      ]
    },
    {
      "cell_type": "code",
      "execution_count": null,
      "metadata": {
        "colab": {
          "base_uri": "https://localhost:8080/"
        },
        "id": "pB1f4WKdbAh3",
        "outputId": "b740c4bf-9e73-42ad-c6ed-e863e356e5a1"
      },
      "outputs": [],
      "source": [
        "classes=train.dataset.classes\n",
        "occurnces={classes[i]:train.dataset.targets.count(i) for i in range(len(classes))}\n",
        "occurnces"
      ]
    },
    {
      "cell_type": "code",
      "execution_count": null,
      "metadata": {
        "colab": {
          "base_uri": "https://localhost:8080/"
        },
        "id": "ZlKQkGruhxUP",
        "outputId": "9d8f244e-917a-4a16-fa8b-93b69be3a61b"
      },
      "outputs": [],
      "source": [
        "dicts={'a':1}\n",
        "dicts['a']+=1\n",
        "dicts.update({'b':1})\n",
        "dicts=train.dataset.classes\n",
        "dicts"
      ]
    },
    {
      "cell_type": "code",
      "execution_count": null,
      "metadata": {
        "colab": {
          "base_uri": "https://localhost:8080/"
        },
        "id": "sPK1sNSkjE2J",
        "outputId": "2f7200a5-28d0-4770-d159-b64762cc6aa1"
      },
      "outputs": [],
      "source": [
        "data=train\n",
        "sampels=data.dataset.class_to_idx\n",
        "for i in range(len(classes)):\n",
        "  sampels[classes[i]]=0\n",
        "sampels"
      ]
    },
    {
      "cell_type": "code",
      "execution_count": null,
      "metadata": {
        "colab": {
          "base_uri": "https://localhost:8080/"
        },
        "id": "WTpaq5gBd49r",
        "outputId": "87eaa70e-ffa8-4c4d-fc77-b9f2b539c649"
      },
      "outputs": [],
      "source": [
        "def num_of_sampels(data, classes):\n",
        "  dataiter = iter(data)\n",
        "  sampels=data.dataset.class_to_idx\n",
        "  for i in range(len(classes)):\n",
        "    sampels[classes[i]]=0\n",
        "  classes=tuple(classes)\n",
        "  for j in range(len(data)):\n",
        "    _,labels = dataiter.next()\n",
        "    for i,label in enumerate(labels):\n",
        "      sampels[classes[label]]+=1\n",
        "    print(sampels)\n",
        "num_of_sampels(train,classes)"
      ]
    },
    {
      "cell_type": "markdown",
      "metadata": {
        "id": "m3jMy0eWk3CE"
      },
      "source": [
        "##### CNN 20 try - Resampling + ascending + 64 features + lr=0.0001 + step=12\n"
      ]
    },
    {
      "cell_type": "code",
      "execution_count": null,
      "metadata": {
        "colab": {
          "base_uri": "https://localhost:8080/",
          "height": 1000
        },
        "id": "BSD607Yku_gX",
        "outputId": "b3a49ad8-d550-4a21-a10d-6cb59aceb55e"
      },
      "outputs": [],
      "source": [
        "# unbalanced data\n",
        "Run_Simulation(architecture=CNN_1st_try_ascending \n",
        "              ,architecture_name = \"CNN_1st_try_ascending\"\n",
        "              ,num_epochs=30\n",
        "              ,n_features=64\n",
        "              ,output_size=4\n",
        "              ,optimizer_name=\"Adam\"\n",
        "              ,lr_val=0.0001\n",
        "              ,weight_decay_val=1e-9\n",
        "              ,step_size_val=12\n",
        "              ,gamma_val=0.1\n",
        "              ,momentum_val=0.9\n",
        "              ,checkpoint_optimizer_path='/content/gdrive/MyDrive/DeepLearning/Final_Project/Weights_4C/Weights_CNN_1st_try_ascending'\n",
        "              ,sim_num = '64_features'\n",
        "              ,load_flag = False\n",
        "              ,loading_path=None)"
      ]
    },
    {
      "cell_type": "code",
      "execution_count": null,
      "metadata": {
        "colab": {
          "base_uri": "https://localhost:8080/",
          "height": 695
        },
        "id": "UcJf_EM1TmAo",
        "outputId": "41de3303-660b-4210-9a1f-d340ea5831fd"
      },
      "outputs": [],
      "source": [
        "CNN_1st_try_ascending_128=CNN_1st_try_ascending(3,64,4)\n",
        "CNN_1st_try_ascending_128 = CNN_1st_try_ascending_128.to(device)\n",
        "# summary(CNN_1st_try_ascending_128, (3, 224, 224))\n",
        "# checkpoint_optimizer_CNN_1st_try_model_path='/content/gdrive/MyDrive/DeepLearning/Final_Project/Weights_4C/ckpt-26.pk_best_model_wts'\n",
        "CNN_1st_try_ascending_128.load_state_dict(torch.load('/content/gdrive/MyDrive/DeepLearning/Final_Project/Weights_4C/Weights_CNN_1st_try_ascending_best_model_wts'))\n",
        "CM, CR = get_confusion_matrix(CNN_1st_try_ascending_128,test)\n",
        "print(\"Report\")\n",
        "print(\"-\"*7)\n",
        "print(CR)\n",
        "plot_confusion_matrix(CM, list(train_set.class_to_idx.keys()))"
      ]
    },
    {
      "cell_type": "code",
      "execution_count": null,
      "metadata": {
        "colab": {
          "base_uri": "https://localhost:8080/"
        },
        "id": "S9d6toi-Ylqu",
        "outputId": "f886a8c7-1087-43a8-d26d-6d23f8e5ca10"
      },
      "outputs": [],
      "source": [
        "print_specificity(get_specificity(CM, list(train_set.class_to_idx.keys())),list(train_set.class_to_idx.keys()))"
      ]
    },
    {
      "cell_type": "markdown",
      "metadata": {
        "id": "f8jKXZr6k7Ws"
      },
      "source": [
        "##### CNN 21 try - Resampling + ascending + 128 features + lr=0.0001 + step=12\n"
      ]
    },
    {
      "cell_type": "code",
      "execution_count": null,
      "metadata": {
        "colab": {
          "base_uri": "https://localhost:8080/",
          "height": 1000
        },
        "id": "wtuKJdq6hFkJ",
        "outputId": "2004cfd7-145e-471f-c444-3383f41bd6fa"
      },
      "outputs": [],
      "source": [
        "# unbalanced data\n",
        "Run_Simulation(architecture=CNN_1st_try_ascending \n",
        "              ,architecture_name = \"CNN_1st_try_ascending\"\n",
        "              ,num_epochs=30\n",
        "              ,n_features=128\n",
        "              ,output_size=4\n",
        "              ,optimizer_name=\"Adam\"\n",
        "              ,lr_val=0.0001\n",
        "              ,weight_decay_val=1e-9\n",
        "              ,step_size_val=12\n",
        "              ,gamma_val=0.1\n",
        "              ,momentum_val=0.9\n",
        "              ,checkpoint_optimizer_path='/content/gdrive/MyDrive/DeepLearning/Final_Project/Weights_4C'\n",
        "              ,sim_num = '64_features'\n",
        "              ,load_flag = False\n",
        "              ,loading_path=None)"
      ]
    },
    {
      "cell_type": "markdown",
      "metadata": {
        "id": "cTpSyeYQzlJ-"
      },
      "source": [
        "### Resampling with Augmentation V1"
      ]
    },
    {
      "cell_type": "code",
      "execution_count": null,
      "metadata": {
        "id": "dev2BLUTzk4y"
      },
      "outputs": [],
      "source": [
        "# Data Assignment \n",
        "input_size  = 256*256  # images are 256x256 pixels\n",
        "output_size = 4      # there are 4 classes - Normal, Covid, Lung_Opacity, Viral Pneumonia\n",
        "def get_data(data_dir):\n",
        "  train_transform =transforms.Compose([  \n",
        "      transforms.Resize(size = (224,224)),\n",
        "      transforms.RandomHorizontalFlip(p=0.5),\n",
        "      transforms.RandomRotation(degrees=(-5,5)),\n",
        "      transforms.ColorJitter(brightness=0.1,contrast=0.1,hue=0.1),\n",
        "      transforms.ToTensor(),\n",
        "      transforms.Normalize(mean = [0.485, 0.456, 0.406],\n",
        "                                      std = [0.229, 0.224, 0.225])  # Why these values?\n",
        "  ])\n",
        "\n",
        "  test_transform = transforms.Compose([\n",
        "      transforms.Resize(size = (224,224)),\n",
        "      transforms.ToTensor(),\n",
        "      transforms.Normalize(mean = [0.485, 0.456, 0.406],\n",
        "                                      std = [0.229, 0.224, 0.225])\n",
        "  ])\n",
        "\n",
        "  # train_set = datasets.ImageFolder(data_dir + '/training_set_balance' , transform=train_transform)\n",
        "  # test_set = datasets.ImageFolder(data_dir + '/test_set_balance', transform=test_transform)\n",
        "  # val_set = datasets.ImageFolder(data_dir + '/valid_set_balance', transform=test_transform)\n",
        "  train_set = datasets.ImageFolder(data_dir + '/training_set' , transform=train_transform)\n",
        "  test_set = datasets.ImageFolder(data_dir + '/test_set', transform=test_transform)\n",
        "  val_set = datasets.ImageFolder(data_dir + '/valid_set', transform=test_transform)\n",
        "  train =  torch.utils.data.DataLoader(train_set,sampler=ImbalancedDatasetSampler(train_set),batch_size=50)\n",
        "  test =  torch.utils.data.DataLoader(test_set, batch_size=1, shuffle=True)\n",
        "  val =  torch.utils.data.DataLoader(val_set, batch_size=50, shuffle=True)  \n",
        "\n",
        "  dataloaders={'train':train,'val':val,'test':test}\n",
        "  dataset_sizes = {'train':len(train_set),'val':len(val_set),'test':len(test_set)}\n",
        "  class_names = train_set.classes\n",
        "\n",
        "  return dataloaders,dataset_sizes,class_names,train_set\n",
        "\n",
        "# Pathes of Data\n",
        "save_path='/content/gdrive/MyDrive/DeepLearning/Final_Project/Data/Saved_data_4C'\n",
        "data_dir ='/content/gdrive/MyDrive/DeepLearning/Final_Project/Data/COVID-19_Radiography_Dataset_4C'\n",
        "\n",
        "# save_path='C:\\\\Users\\\\Ahat\\\\Desktop\\\\Dor\\\\Saved_data_4C'\n",
        "# data_dir ='C:\\\\Users\\\\Ahat\\\\Desktop\\\\Dor\\\\COVID-19_Radiography_Dataset_4C'\n",
        "\n",
        "# Prepare Data\n",
        "dataloaders,dataset_sizes,class_names,train_set=get_data(data_dir)\n",
        "\n",
        "#Save Data\n",
        "torch.save(dataloaders,save_path + '/dataloaders.pt')\n",
        "torch.save(train_set,save_path + '/trainset.pt')\n",
        "torch.save(dataset_sizes,save_path + '/dataset_sizes.pt')\n",
        "torch.save(class_names,save_path + '/class_names.pt')\n",
        "\n",
        "train,val,test=dataloaders['train'],dataloaders['val'],dataloaders['test']\n",
        "\n",
        "# What the different between 'train'(DataLoader) and 'train_set'(datasets)"
      ]
    },
    {
      "cell_type": "code",
      "execution_count": null,
      "metadata": {
        "colab": {
          "base_uri": "https://localhost:8080/"
        },
        "id": "sz-DZjvWc8hX",
        "outputId": "582f269b-e008-43c3-960b-ce4b677d3db9"
      },
      "outputs": [],
      "source": [
        " # Data types\n",
        "# print(type(train),type(test),type(val),type(train_set))\n",
        "# number of images\n",
        "print(\"train size=\",dataset_sizes['train'])\n",
        "print(\"val size=\",dataset_sizes['val'])\n",
        "print(\"test size=\",dataset_sizes['test'])\n",
        "\n",
        "# num of training Batches\n",
        "print('Num of training batches', len(train))\n",
        "print(\"Num of val batches\", len(val))\n",
        "print(\"Num of test batches\", len(test))"
      ]
    },
    {
      "cell_type": "markdown",
      "metadata": {
        "id": "FfTE8hnai0my"
      },
      "source": [
        "##### CNN 22 try - Resampling + Aug (V1) + ascending + 128 features + lr=0.0001 + step=12\n"
      ]
    },
    {
      "cell_type": "code",
      "execution_count": null,
      "metadata": {
        "id": "QAaFiNZyi8gx",
        "outputId": "06d2278f-2b92-4361-be68-0b7ef6e01bb6"
      },
      "outputs": [],
      "source": [
        "# unbalanced data\n",
        "Run_Simulation(architecture=CNN_1st_try_ascending \n",
        "              ,architecture_name = \"CNN_1st_try_ascending\"\n",
        "              ,num_epochs=30\n",
        "              ,n_features=128\n",
        "              ,output_size=4\n",
        "              ,optimizer_name=\"Adam\"\n",
        "              ,lr_val=0.0001\n",
        "              ,weight_decay_val=1e-9\n",
        "              ,step_size_val=12\n",
        "              ,gamma_val=0.1\n",
        "              ,momentum_val=0.9\n",
        "              ,checkpoint_optimizer_path='C:\\\\Users\\\\Ahat\\\\Desktop\\\\Dor\\\\Weigths_4C'\n",
        "              ,sim_num = '128_features'\n",
        "              ,load_flag = False\n",
        "              ,loading_path=None)"
      ]
    },
    {
      "cell_type": "markdown",
      "metadata": {
        "id": "QD6SB-qkjPeJ"
      },
      "source": [
        "##### CNN 23 try - Resampling + Aug (V1) + ascending + 128 features + lr=0.0001 + step=7"
      ]
    },
    {
      "cell_type": "code",
      "execution_count": null,
      "metadata": {
        "id": "L2cB9a7ld9Ax",
        "outputId": "cce32150-1860-481e-f0ba-a4b9372b5979"
      },
      "outputs": [],
      "source": [
        "# unbalanced data\n",
        "Run_Simulation(architecture=CNN_1st_try_ascending \n",
        "              ,architecture_name = \"CNN_1st_try_ascending\"\n",
        "              ,num_epochs=30\n",
        "              ,n_features=128\n",
        "              ,output_size=4\n",
        "              ,optimizer_name=\"Adam\"\n",
        "              ,lr_val=0.0001\n",
        "              ,weight_decay_val=1e-9\n",
        "              ,step_size_val=7\n",
        "              ,gamma_val=0.1\n",
        "              ,momentum_val=0.9\n",
        "              ,checkpoint_optimizer_path='C:\\\\Users\\\\Ahat\\\\Desktop\\\\Dor\\\\Weigths_4C'\n",
        "              ,sim_num = '128_features'\n",
        "              ,load_flag = False\n",
        "              ,loading_path=None)"
      ]
    },
    {
      "cell_type": "markdown",
      "metadata": {
        "id": "2t-TScKWjuk5"
      },
      "source": [
        "##### CNN 24 try - Resampling + Aug (V1) + ascending + 64 features + lr=0.0001 + step=12"
      ]
    },
    {
      "cell_type": "code",
      "execution_count": null,
      "metadata": {
        "id": "xA4Lw0qtG27K",
        "outputId": "81bf52e6-9ee7-4068-d518-ccc02bafc847"
      },
      "outputs": [],
      "source": [
        "# unbalanced data\n",
        "Run_Simulation(architecture=CNN_1st_try_ascending \n",
        "              ,architecture_name = \"CNN_1st_try_ascending\"\n",
        "              ,num_epochs=30\n",
        "              ,n_features=64\n",
        "              ,output_size=4\n",
        "              ,optimizer_name=\"Adam\"\n",
        "              ,lr_val=0.0001\n",
        "              ,weight_decay_val=1e-9\n",
        "              ,step_size_val=12\n",
        "              ,gamma_val=0.1\n",
        "              ,momentum_val=0.9\n",
        "              ,checkpoint_optimizer_path='C:\\\\Users\\\\Ahat\\\\Desktop\\\\Dor\\\\Weigths_4C'\n",
        "              ,sim_num = '128_features'\n",
        "              ,load_flag = False\n",
        "              ,loading_path=None)"
      ]
    },
    {
      "cell_type": "markdown",
      "metadata": {
        "id": "e_pXgQFaFmZZ"
      },
      "source": [
        "### Resampling with Augmentation V2"
      ]
    },
    {
      "cell_type": "code",
      "execution_count": null,
      "metadata": {
        "id": "pMSEdJtgFmZa"
      },
      "outputs": [],
      "source": [
        "# Data Assignment \n",
        "input_size  = 256*256  # images are 256x256 pixels\n",
        "output_size = 4      # there are 4 classes - Normal, Covid, Lung_Opacity, Viral Pneumonia\n",
        "def get_data(data_dir):\n",
        "  train_transform =transforms.Compose([  \n",
        "      transforms.Resize(size = (224,224)),\n",
        "      transforms.RandomHorizontalFlip(p=0.5),\n",
        "      transforms.RandomRotation(degrees=(-5,5)),\n",
        "      transforms.ToTensor(),\n",
        "      transforms.Normalize(mean = [0.485, 0.456, 0.406],\n",
        "                                      std = [0.229, 0.224, 0.225])\n",
        "  ])\n",
        "\n",
        "  test_transform = transforms.Compose([\n",
        "      transforms.Resize(size = (224,224)),\n",
        "      transforms.ToTensor(),\n",
        "      transforms.Normalize(mean = [0.485, 0.456, 0.406],\n",
        "                                      std = [0.229, 0.224, 0.225])\n",
        "  ])\n",
        "\n",
        "  # train_set = datasets.ImageFolder(data_dir + '/training_set_balance' , transform=train_transform)\n",
        "  # test_set = datasets.ImageFolder(data_dir + '/test_set_balance', transform=test_transform)\n",
        "  # val_set = datasets.ImageFolder(data_dir + '/valid_set_balance', transform=test_transform)\n",
        "  train_set = datasets.ImageFolder(data_dir + '/training_set' , transform=train_transform)\n",
        "  test_set = datasets.ImageFolder(data_dir + '/test_set', transform=test_transform)\n",
        "  val_set = datasets.ImageFolder(data_dir + '/valid_set', transform=test_transform)\n",
        "  train =  torch.utils.data.DataLoader(train_set,sampler=ImbalancedDatasetSampler(train_set),batch_size=50)\n",
        "  test =  torch.utils.data.DataLoader(test_set, batch_size=1, shuffle=True)\n",
        "  val =  torch.utils.data.DataLoader(val_set, batch_size=50, shuffle=True)  \n",
        "\n",
        "  dataloaders={'train':train,'val':val,'test':test}\n",
        "  dataset_sizes = {'train':len(train_set),'val':len(val_set),'test':len(test_set)}\n",
        "  class_names = train_set.classes\n",
        "\n",
        "  return dataloaders,dataset_sizes,class_names,train_set\n",
        "\n",
        "# Pathes of Data\n",
        "# save_path='/content/gdrive/MyDrive/DeepLearning/Final_Project/Data/Saved_data_4C'\n",
        "# data_dir ='/content/gdrive/MyDrive/DeepLearning/Final_Project/Data/COVID-19_Radiography_Dataset_4C'\n",
        "\n",
        "save_path='C:\\\\Users\\\\Ahat\\\\Desktop\\\\Dor\\\\Saved_data_4C'\n",
        "data_dir ='C:\\\\Users\\\\Ahat\\\\Desktop\\\\Dor\\\\COVID-19_Radiography_Dataset_4C'\n",
        "\n",
        "# Prepare Data\n",
        "dataloaders,dataset_sizes,class_names,train_set=get_data(data_dir)\n",
        "\n",
        "#Save Data\n",
        "torch.save(dataloaders,save_path + '/dataloaders.pt')\n",
        "torch.save(train_set,save_path + '/trainset.pt')\n",
        "torch.save(dataset_sizes,save_path + '/dataset_sizes.pt')\n",
        "torch.save(class_names,save_path + '/class_names.pt')\n",
        "\n",
        "train,val,test=dataloaders['train'],dataloaders['val'],dataloaders['test']\n",
        "\n",
        "# What the different between 'train'(DataLoader) and 'train_set'(datasets)"
      ]
    },
    {
      "cell_type": "code",
      "execution_count": null,
      "metadata": {
        "colab": {
          "base_uri": "https://localhost:8080/"
        },
        "id": "VBo2Sl23FmZb",
        "outputId": "8ce8e4d2-9943-4307-e193-febbaee60cda"
      },
      "outputs": [],
      "source": [
        " # Data types\n",
        "# print(type(train),type(test),type(val),type(train_set))\n",
        "# number of images\n",
        "print(\"train size=\",dataset_sizes['train'])\n",
        "print(\"val size=\",dataset_sizes['val'])\n",
        "print(\"test size=\",dataset_sizes['test'])\n",
        "\n",
        "# num of training Batches\n",
        "print('Num of training batches', len(train))\n",
        "print(\"Num of val batches\", len(val))\n",
        "print(\"Num of test batches\", len(test))"
      ]
    },
    {
      "cell_type": "markdown",
      "metadata": {
        "id": "xHLOueX1FmZc"
      },
      "source": [
        "##### CNN 25 try - Resampling + Aug (V2) + ascending + 128 features + lr=0.0001 + step=12"
      ]
    },
    {
      "cell_type": "code",
      "execution_count": null,
      "metadata": {
        "id": "HByhLjMoFmZc",
        "outputId": "192cc701-2c2d-46da-86e5-6352d1dd41dc"
      },
      "outputs": [],
      "source": [
        "# unbalanced data\n",
        "Run_Simulation(architecture=CNN_1st_try_ascending \n",
        "              ,architecture_name = \"CNN_1st_try_ascending\"\n",
        "              ,num_epochs=30\n",
        "              ,n_features=128\n",
        "              ,output_size=4\n",
        "              ,optimizer_name=\"Adam\"\n",
        "              ,lr_val=0.0001\n",
        "              ,weight_decay_val=1e-9\n",
        "              ,step_size_val=12\n",
        "              ,gamma_val=0.1\n",
        "              ,momentum_val=0.9\n",
        "              ,checkpoint_optimizer_path='C:\\\\Users\\\\Ahat\\\\Desktop\\\\Dor\\\\Weigths_4C'\n",
        "              ,sim_num = '128_features'\n",
        "              ,load_flag = False\n",
        "              ,loading_path=None)"
      ]
    },
    {
      "cell_type": "markdown",
      "metadata": {
        "id": "-mSAIM8xFmZc"
      },
      "source": [
        "##### CNN 26 try - Resampling + Aug (V2) + ascending + 128 features + lr=0.0001 + step=7"
      ]
    },
    {
      "cell_type": "code",
      "execution_count": null,
      "metadata": {
        "id": "Tl7L8BqoFmZd",
        "outputId": "425fc0a7-5b5e-4889-b2ea-a03178b61a35"
      },
      "outputs": [],
      "source": [
        "# unbalanced data\n",
        "Run_Simulation(architecture=CNN_1st_try_ascending \n",
        "              ,architecture_name = \"CNN_1st_try_ascending\"\n",
        "              ,num_epochs=30\n",
        "              ,n_features=128\n",
        "              ,output_size=4\n",
        "              ,optimizer_name=\"Adam\"\n",
        "              ,lr_val=0.0001\n",
        "              ,weight_decay_val=1e-9\n",
        "              ,step_size_val=7\n",
        "              ,gamma_val=0.1\n",
        "              ,momentum_val=0.9\n",
        "              ,checkpoint_optimizer_path='C:\\\\Users\\\\Ahat\\\\Desktop\\\\Dor\\\\Weigths_4C'\n",
        "              ,sim_num = '128_features'\n",
        "              ,load_flag = False\n",
        "              ,loading_path=None)"
      ]
    },
    {
      "cell_type": "markdown",
      "metadata": {
        "id": "VsqtqWRhFmZd"
      },
      "source": [
        "##### CNN 27 try - Resampling + Aug (V2) + ascending + 64 features + lr=0.0001 + step=12"
      ]
    },
    {
      "cell_type": "code",
      "execution_count": null,
      "metadata": {
        "id": "P0h4e6lMFmZd",
        "outputId": "cd64f56c-d499-4e5b-82e5-93f7d69053c3"
      },
      "outputs": [],
      "source": [
        "# unbalanced data\n",
        "Run_Simulation(architecture=CNN_1st_try_ascending \n",
        "              ,architecture_name = \"CNN_1st_try_ascending\"\n",
        "              ,num_epochs=30\n",
        "              ,n_features=64\n",
        "              ,output_size=4\n",
        "              ,optimizer_name=\"Adam\"\n",
        "              ,lr_val=0.0001\n",
        "              ,weight_decay_val=1e-9\n",
        "              ,step_size_val=12\n",
        "              ,gamma_val=0.1\n",
        "              ,momentum_val=0.9\n",
        "              ,checkpoint_optimizer_path='C:\\\\Users\\\\Ahat\\\\Desktop\\\\Dor\\\\Weigths_4C'\n",
        "              ,sim_num = '128_features'\n",
        "              ,load_flag = False\n",
        "              ,loading_path=None)"
      ]
    },
    {
      "cell_type": "markdown",
      "metadata": {
        "id": "xfzAfo8TESws"
      },
      "source": [
        "## \"Not on fly\" Augmentation"
      ]
    },
    {
      "cell_type": "markdown",
      "metadata": {
        "id": "PhVD-bNumE9F"
      },
      "source": [
        "### Augmentation for minority classes"
      ]
    },
    {
      "cell_type": "code",
      "execution_count": null,
      "metadata": {
        "id": "L3na-9FRESwv"
      },
      "outputs": [],
      "source": [
        "# Data Assignment \n",
        "input_size  = 256*256  # images are 256x256 pixels\n",
        "output_size = 4      # there are 4 classes - Normal, Covid, Lung_Opacity, Viral Pneumonia\n",
        "def get_data(data_dir):\n",
        "  train_transform =transforms.Compose([  \n",
        "      transforms.Resize(size = (224,224)),\n",
        "      transforms.ToTensor(),\n",
        "      transforms.Normalize(mean = [0.485, 0.456, 0.406],\n",
        "                                      std = [0.229, 0.224, 0.225])\n",
        "  ])\n",
        "\n",
        "  test_transform = transforms.Compose([\n",
        "      transforms.Resize(size = (224,224)),\n",
        "      transforms.ToTensor(),\n",
        "      transforms.Normalize(mean = [0.485, 0.456, 0.406],\n",
        "                                      std = [0.229, 0.224, 0.225])\n",
        "  ])\n",
        "\n",
        "  # train_set = datasets.ImageFolder(data_dir + '/training_set_balance' , transform=train_transform)\n",
        "  # test_set = datasets.ImageFolder(data_dir + '/test_set_balance', transform=test_transform)\n",
        "  # val_set = datasets.ImageFolder(data_dir + '/valid_set_balance', transform=test_transform)\n",
        "  train_set = datasets.ImageFolder(data_dir + '/‏‏training_set_Aug' , transform=train_transform)\n",
        "  test_set = datasets.ImageFolder(data_dir + '/test_set', transform=test_transform)\n",
        "  val_set = datasets.ImageFolder(data_dir + '/valid_set', transform=test_transform)\n",
        "  train =  torch.utils.data.DataLoader(train_set, batch_size=50, shuffle=True)\n",
        "  test =  torch.utils.data.DataLoader(test_set, batch_size=1, shuffle=True)\n",
        "  val =  torch.utils.data.DataLoader(val_set, batch_size=50, shuffle=True)  \n",
        "\n",
        "  dataloaders={'train':train,'val':val,'test':test}\n",
        "  dataset_sizes = {'train':len(train_set),'val':len(val_set),'test':len(test_set)}\n",
        "  class_names = train_set.classes\n",
        "\n",
        "  return dataloaders,dataset_sizes,class_names,train_set\n",
        "\n",
        "# Pathes of Data\n",
        "save_path='/content/gdrive/MyDrive/DeepLearning/Final_Project/Data/Saved_data_4C'\n",
        "data_dir ='/content/gdrive/MyDrive/DeepLearning/Final_Project/Data/COVID-19_Radiography_Dataset_4C'\n",
        "\n",
        "# save_path='C:\\\\Users\\\\Ahat\\\\Desktop\\\\Dor\\\\Saved_data_4C'\n",
        "# data_dir ='C:\\\\Users\\\\Ahat\\\\Desktop\\\\Dor\\\\COVID-19_Radiography_Dataset_4C'\n",
        "\n",
        "# Prepare Data\n",
        "dataloaders,dataset_sizes,class_names,train_set=get_data(data_dir)\n",
        "\n",
        "#Save Data\n",
        "torch.save(dataloaders,save_path + '/dataloaders.pt')\n",
        "torch.save(train_set,save_path + '/trainset.pt')\n",
        "torch.save(dataset_sizes,save_path + '/dataset_sizes.pt')\n",
        "torch.save(class_names,save_path + '/class_names.pt')\n",
        "\n",
        "train,val,test=dataloaders['train'],dataloaders['val'],dataloaders['test']\n",
        "\n",
        "# What the different between 'train'(DataLoader) and 'train_set'(datasets)"
      ]
    },
    {
      "cell_type": "code",
      "execution_count": null,
      "metadata": {
        "colab": {
          "base_uri": "https://localhost:8080/"
        },
        "id": "GFlm9ykoESww",
        "outputId": "484b8ec2-8796-4f27-fe54-f5b1a4123a60"
      },
      "outputs": [],
      "source": [
        " # Data types\n",
        "# print(type(train),type(test),type(val),type(train_set))\n",
        "# number of images\n",
        "print(\"train size=\",dataset_sizes['train'])\n",
        "print(\"val size=\",dataset_sizes['val'])\n",
        "print(\"test size=\",dataset_sizes['test'])\n",
        "\n",
        "# num of training Batches\n",
        "print('Num of training batches', len(train))\n",
        "print(\"Num of val batches\", len(val))\n",
        "print(\"Num of test batches\", len(test))"
      ]
    },
    {
      "cell_type": "code",
      "execution_count": null,
      "metadata": {
        "colab": {
          "base_uri": "https://localhost:8080/"
        },
        "id": "ylGFiAq5qEXo",
        "outputId": "323244f9-8c3a-45ec-e9c3-a22705bbce1e"
      },
      "outputs": [],
      "source": [
        "classes=train.dataset.classes\n",
        "occurnces={classes[i]:train.dataset.targets.count(i) for i in range(len(classes))}\n",
        "occurnces"
      ]
    },
    {
      "cell_type": "markdown",
      "metadata": {
        "id": "sJj5Edu2PhH1"
      },
      "source": [
        "##### CNN 28 try - not on fly Aug + ascending + 128 features + lr=0.0001 + step=12"
      ]
    },
    {
      "cell_type": "code",
      "execution_count": null,
      "metadata": {
        "id": "LxLUOFUZESwx",
        "outputId": "af3079b0-27b3-4e32-b815-bb56f93965f0"
      },
      "outputs": [],
      "source": [
        "# unbalanced data\n",
        "Run_Simulation(architecture=CNN_1st_try_ascending \n",
        "              ,architecture_name = \"CNN_1st_try_ascending\"\n",
        "              ,num_epochs=30\n",
        "              ,n_features=128\n",
        "              ,output_size=4\n",
        "              ,optimizer_name=\"Adam\"\n",
        "              ,lr_val=0.0001\n",
        "              ,weight_decay_val=1e-9\n",
        "              ,step_size_val=12\n",
        "              ,gamma_val=0.1\n",
        "              ,momentum_val=0.9\n",
        "              ,checkpoint_optimizer_path='C:\\\\Users\\\\Ahat\\\\Desktop\\\\Dor\\\\Weigths_4C'\n",
        "              ,sim_num = '128_features'\n",
        "              ,load_flag = False\n",
        "              ,loading_path=None)"
      ]
    },
    {
      "cell_type": "markdown",
      "metadata": {
        "id": "EywDbkLyTT6a"
      },
      "source": [
        "##### CNN 29 try - not on fly Aug + ascending + 128 features + lr=0.0001 + step=7"
      ]
    },
    {
      "cell_type": "code",
      "execution_count": null,
      "metadata": {
        "colab": {
          "base_uri": "https://localhost:8080/",
          "height": 1000
        },
        "id": "UGHmkBmAawQ7",
        "outputId": "b05a3be7-402d-4c1e-abdb-d2ffec567d0b"
      },
      "outputs": [],
      "source": [
        "# unbalanced data\n",
        "Run_Simulation(architecture=CNN_1st_try_ascending \n",
        "              ,architecture_name = \"CNN_1st_try_ascending\"\n",
        "              ,num_epochs=20\n",
        "              ,n_features=128\n",
        "              ,output_size=4\n",
        "              ,optimizer_name=\"Adam\"\n",
        "              ,lr_val=0.0001\n",
        "              ,weight_decay_val=1e-7\n",
        "              ,step_size_val=4\n",
        "              ,gamma_val=0.1\n",
        "              ,momentum_val=0.9\n",
        "              ,checkpoint_optimizer_path='/content/gdrive/MyDrive/DeepLearning/Final_Project/Weights_4C'\n",
        "              ,sim_num = '128_features'\n",
        "              ,load_flag = False\n",
        "              ,loading_path=None)"
      ]
    },
    {
      "cell_type": "markdown",
      "metadata": {
        "id": "RSx1qzxpS_RA"
      },
      "source": [
        "##### CNN 30 try - not on fly Aug + ascending + 64 features + lr=0.0001 + step=12"
      ]
    },
    {
      "cell_type": "code",
      "execution_count": null,
      "metadata": {
        "colab": {
          "base_uri": "https://localhost:8080/",
          "height": 1000
        },
        "id": "5abbQeKUESw0",
        "outputId": "f68f9ec2-6e37-47a8-8a50-2bc9bdc8ba83"
      },
      "outputs": [],
      "source": [
        "# unbalanced data\n",
        "Run_Simulation(architecture=CNN_1st_try_ascending \n",
        "              ,architecture_name = \"CNN_1st_try_ascending\"\n",
        "              ,num_epochs=30\n",
        "              ,n_features=64\n",
        "              ,output_size=4\n",
        "              ,optimizer_name=\"Adam\"\n",
        "              ,lr_val=0.0001\n",
        "              ,weight_decay_val=1e-9\n",
        "              ,step_size_val=12\n",
        "              ,gamma_val=0.1\n",
        "              ,momentum_val=0.9\n",
        "              ,checkpoint_optimizer_path='/content/gdrive/MyDrive/DeepLearning/Final_Project/Weights_4C'\n",
        "              ,sim_num = '128_features'\n",
        "              ,load_flag = False\n",
        "              ,loading_path=None)"
      ]
    },
    {
      "cell_type": "markdown",
      "metadata": {
        "id": "Wb8mJk95u88s"
      },
      "source": [
        "### Augmentation for all classes"
      ]
    },
    {
      "cell_type": "code",
      "execution_count": null,
      "metadata": {
        "id": "mvsVZW7Nu88y"
      },
      "outputs": [],
      "source": [
        "# Data Assignment \n",
        "input_size  = 256*256  # images are 256x256 pixels\n",
        "output_size = 4      # there are 4 classes - Normal, Covid, Lung_Opacity, Viral Pneumonia\n",
        "def get_data(data_dir):\n",
        "  train_transform =transforms.Compose([  \n",
        "      transforms.Resize(size = (224,224)),\n",
        "      transforms.ToTensor(),\n",
        "      transforms.Normalize(mean = [0.485, 0.456, 0.406],\n",
        "                                      std = [0.229, 0.224, 0.225])  # Why these values?\n",
        "  ])\n",
        "\n",
        "  test_transform = transforms.Compose([\n",
        "      transforms.Resize(size = (224,224)),\n",
        "      transforms.ToTensor(),\n",
        "      transforms.Normalize(mean = [0.485, 0.456, 0.406],\n",
        "                                      std = [0.229, 0.224, 0.225])\n",
        "  ])\n",
        "\n",
        "  # train_set = datasets.ImageFolder(data_dir + '/training_set_balance' , transform=train_transform)\n",
        "  # test_set = datasets.ImageFolder(data_dir + '/test_set_balance', transform=test_transform)\n",
        "  train_set = datasets.ImageFolder('/content/gdrive/MyDrive/DeepLearning/Final_Project/Data/COVID-19_Radiography_Dataset_4C/‏‏training_set_Aug_for_trans', transform=train_transform)\n",
        "  test_set = datasets.ImageFolder(data_dir + '/test_set', transform=test_transform)\n",
        "  val_set = datasets.ImageFolder(data_dir + '/valid_set', transform=test_transform)\n",
        "  train =  torch.utils.data.DataLoader(train_set, batch_size=50, shuffle=True)\n",
        "  test =  torch.utils.data.DataLoader(test_set, batch_size=1, shuffle=True)\n",
        "  val =  torch.utils.data.DataLoader(val_set, batch_size=50, shuffle=True)  \n",
        "\n",
        "  dataloaders={'train':train,'val':val,'test':test}\n",
        "  dataset_sizes = {'train':len(train_set),'val':len(val_set),'test':len(test_set)}\n",
        "  class_names = train_set.classes\n",
        "\n",
        "  return dataloaders,dataset_sizes,class_names,train_set\n",
        "\n",
        "# Pathes of Data\n",
        "save_path='/content/gdrive/MyDrive/DeepLearning/Final_Project/Data/Saved_data_4C'\n",
        "data_dir ='/content/gdrive/MyDrive/DeepLearning/Final_Project/Data/COVID-19_Radiography_Dataset_4C'\n",
        "\n",
        "# save_path='C:\\\\Users\\\\Ahat\\\\Desktop\\\\Dor\\\\Saved_data_4C'\n",
        "# data_dir ='C:\\\\Users\\\\Ahat\\\\Desktop\\\\Dor\\\\COVID-19_Radiography_Dataset_4C'\n",
        "\n",
        "# Prepare Data\n",
        "dataloaders,dataset_sizes,class_names,train_set=get_data(data_dir)\n",
        "\n",
        "#Save Data\n",
        "torch.save(dataloaders,save_path + '/dataloaders.pt')\n",
        "torch.save(train_set,save_path + '/trainset.pt')\n",
        "torch.save(dataset_sizes,save_path + '/dataset_sizes.pt')\n",
        "torch.save(class_names,save_path + '/class_names.pt')\n",
        "\n",
        "train,val,test=dataloaders['train'],dataloaders['val'],dataloaders['test']\n",
        "\n",
        "# What the different between 'train'(DataLoader) and 'train_set'(datasets)"
      ]
    },
    {
      "cell_type": "code",
      "execution_count": null,
      "metadata": {
        "colab": {
          "base_uri": "https://localhost:8080/"
        },
        "id": "qrCfHCYsu88z",
        "outputId": "72286c40-a2b0-4e61-c1da-2f3f1ff5e955"
      },
      "outputs": [],
      "source": [
        " # Data types\n",
        "# print(type(train),type(test),type(val),type(train_set))\n",
        "# number of images\n",
        "print(\"train size=\",dataset_sizes['train'])\n",
        "print(\"val size=\",dataset_sizes['val'])\n",
        "print(\"test size=\",dataset_sizes['test'])\n",
        "\n",
        "# num of training Batches\n",
        "print('Num of training batches', len(train))\n",
        "print(\"Num of val batches\", len(val))\n",
        "print(\"Num of test batches\", len(test))"
      ]
    },
    {
      "cell_type": "code",
      "execution_count": null,
      "metadata": {
        "colab": {
          "base_uri": "https://localhost:8080/"
        },
        "id": "4exrGb3SKFYi",
        "outputId": "5488bda6-6c7c-45f4-cf2b-549d5cb17200"
      },
      "outputs": [],
      "source": [
        "classes=train.dataset.classes\n",
        "occurnces={classes[i]:train.dataset.targets.count(i) for i in range(len(classes))}\n",
        "occurnces"
      ]
    },
    {
      "cell_type": "markdown",
      "metadata": {
        "id": "yEWA1aB7nrNL"
      },
      "source": [
        "##### CNN 31 try - not on fly Aug + ascending + 128 features + lr=0.0001 + step=12"
      ]
    },
    {
      "cell_type": "code",
      "execution_count": null,
      "metadata": {
        "colab": {
          "base_uri": "https://localhost:8080/",
          "height": 1000
        },
        "id": "4EOIl6Sau88z",
        "outputId": "fb60c55b-a6b8-4fe4-f653-b37b90eb27b0"
      },
      "outputs": [],
      "source": [
        "# unbalanced data\n",
        "Run_Simulation(architecture=CNN_1st_try_ascending \n",
        "              ,architecture_name = \"CNN_1st_try_ascending\"\n",
        "              ,num_epochs=30\n",
        "              ,n_features=128\n",
        "              ,output_size=4\n",
        "              ,optimizer_name=\"Adam\"\n",
        "              ,lr_val=0.0001\n",
        "              ,weight_decay_val=1e-9\n",
        "              ,step_size_val=12\n",
        "              ,gamma_val=0.1\n",
        "              ,momentum_val=0.9\n",
        "              ,checkpoint_optimizer_path='/content/gdrive/MyDrive/DeepLearning/Final_Project/Weights_4C'\n",
        "              ,sim_num = '128_features'\n",
        "              ,load_flag = False\n",
        "              ,loading_path=None)"
      ]
    },
    {
      "cell_type": "markdown",
      "metadata": {
        "id": "ZltnJ2olnv49"
      },
      "source": [
        "##### CNN 32 try - not on fly Aug + ascending + 128 features + lr=0.0001 + step=7"
      ]
    },
    {
      "cell_type": "code",
      "execution_count": null,
      "metadata": {
        "id": "6dMnFznju880",
        "outputId": "6c03d320-f44a-4fb6-f3fd-244f1d665e27"
      },
      "outputs": [],
      "source": [
        "# unbalanced data\n",
        "Run_Simulation(architecture=CNN_1st_try_ascending \n",
        "              ,architecture_name = \"CNN_1st_try_ascending\"\n",
        "              ,num_epochs=30\n",
        "              ,n_features=128\n",
        "              ,output_size=4\n",
        "              ,optimizer_name=\"Adam\"\n",
        "              ,lr_val=0.0001\n",
        "              ,weight_decay_val=1e-9\n",
        "              ,step_size_val=7\n",
        "              ,gamma_val=0.1\n",
        "              ,momentum_val=0.9\n",
        "              ,checkpoint_optimizer_path='C:\\\\Users\\\\Ahat\\\\Desktop\\\\Dor\\\\Weigths_4C'\n",
        "              ,sim_num = '128_features'\n",
        "              ,load_flag = False\n",
        "              ,loading_path=None)"
      ]
    },
    {
      "cell_type": "markdown",
      "metadata": {
        "id": "YDXQjsvYnxup"
      },
      "source": [
        "##### CNN 33 try - not on fly Aug + ascending + 64 features + lr=0.0001 + step=12"
      ]
    },
    {
      "cell_type": "code",
      "execution_count": null,
      "metadata": {
        "id": "E5mqRrr7u883",
        "outputId": "c24b3340-ea49-4e62-b501-01bb8604ef26"
      },
      "outputs": [],
      "source": [
        "# unbalanced data\n",
        "Run_Simulation(architecture=CNN_1st_try_ascending \n",
        "              ,architecture_name = \"CNN_1st_try_ascending\"\n",
        "              ,num_epochs=30\n",
        "              ,n_features=64\n",
        "              ,output_size=4\n",
        "              ,optimizer_name=\"Adam\"\n",
        "              ,lr_val=0.0001\n",
        "              ,weight_decay_val=1e-9\n",
        "              ,step_size_val=12\n",
        "              ,gamma_val=0.1\n",
        "              ,momentum_val=0.9\n",
        "              ,checkpoint_optimizer_path='C:\\\\Users\\\\Ahat\\\\Desktop\\\\Dor\\\\Weigths_4C'\n",
        "              ,sim_num = '128_features'\n",
        "              ,load_flag = False\n",
        "              ,loading_path=None)"
      ]
    },
    {
      "cell_type": "markdown",
      "metadata": {
        "id": "GzWsxtIVstqC"
      },
      "source": [
        "#Result Analysis"
      ]
    },
    {
      "cell_type": "markdown",
      "metadata": {
        "id": "cG6xH3tbsxG5"
      },
      "source": [
        "As before, and since we imitate the Architecture and techniques used in the 1st stage, we can observe that the most **Significant Actions** taken were **learning rate decay**, **Adam optimizer**, **ascending number of filters** and in addition **Augmentation**. \n",
        "\n",
        "As before, several regularization techniques were used to improve the model by preventing the overfitting phenomena: **Early Stoppings**, Regularization Using **Dropout** and **Batch Normalization** layers, Apply Regularization term which boils down to adding a cost to the loss function – **weight decay, learning rate decay.**\n",
        "\n",
        "**Distinguish between \"Normal\" and \"Lung opacity\":**\n",
        "All the tested models including the state-of-the-art models are prone to classify =\"**Lung Opacity**\" class samples as belong to \" **NORMAL** \" class, which lead to low recall and specificity for both of the classes, and as a result low F1-score.\n",
        "\n",
        "Highest \"Lung opacity\" recall encountered: 93%\n",
        "\n",
        "Highest \"Normal\" recall encountered: 96%\n",
        "\n",
        "**The reason** behind that is that in chest radiographs, NORMAL lungs appear dark due to the relative lower density of air compared to the surrounding tissues. \n",
        "\n",
        "since even a **minor** size area where air is replaced by another substance causing the tissue to appear **lighter or greyer** – labeled as \"**Lung Opacity**\", there is a very small gap between \"**Lung opacity**\" image sample and a \"**Normal**\" image sample with added noise.\n"
      ]
    },
    {
      "cell_type": "markdown",
      "metadata": {
        "id": "jE-vGlDqtZ4q"
      },
      "source": [
        "![image.png](data:image/png;base64,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)"
      ]
    },
    {
      "cell_type": "markdown",
      "metadata": {
        "id": "VL50nzIltdt9"
      },
      "source": [
        "**Abilities in minority classes:**\n",
        "\n",
        "All the presented models achieve better recall for the smallest Minorities classes i.e. the \"**Viral pneumonia**\" and the \"**COVID-19**\" classes than for the majority classes. There could be few reasons behind it but the Most likely is that the initial model is the same Architecture used for the 1st stage where the ability of the model to detect \"COVID\" class samples is magnificent.  \n",
        "\n",
        "**Initial number of Features:**\n",
        "\n",
        "the raise in the number of initial filters from 32 to 64 and 128 significantly improved the performances of our model, especially the recall of the majority class i.e. the \"**NORMAL**\" class. \n",
        "\n",
        "**Regularization:**\n",
        "\n",
        "We have noticed that the addition of initial number of features and Regularization techniques such as learning rate decay lead significantly improved the performances of our model, especially the recall of the majority class i.e., the \"**NORMAL**\".\n",
        "\n",
        "However, higher regularization caused to reduce in the ability of the model to classify the 2nd major class \"**Lung Opacity**\".\n",
        "As a result, Since for higher regularization i.e. frequent learning rate decay we ger higher recall  for \"**Normal**\" class and smaller recall for \"**Lung Opacity**\" class, we receive smaller specificity for the major class i.e. the ability of the model to classify other classes samples not as \"**Normal**\" class is Impaired (most affected by the 2nd major class – \"**Lung opacity**\")\n",
        "Alternatively, for less regularization, we get better recall for \"**Lung opacity**\" class and worse specificity for \"**Normal**\" class. \n",
        "\n",
        "We can learn from this insight the moderate learning rate decay i.e. step size = 12 produced the Best performances in the manner of balance between metrics. We can also notice that higher regularization caused to better F1-scores for our model.\n"
      ]
    },
    {
      "cell_type": "markdown",
      "metadata": {
        "id": "4F2CjarGuLCi"
      },
      "source": [
        "**Prone to overfitting:**\n",
        "\n",
        "*For less regularization* - we notice to notable gap between the validation and the training loss curves.\n",
        "\n",
        "*For no learning decay at all*- we get fatal overfitting – where the model stops improving from the first epochs (~8-10)\n",
        "\n",
        "*Higher Regularization* - much less tendency to overfitting. \n",
        "\n",
        "**Learning rate:**\n",
        "\n",
        "The optimal learning rate is given by 0.0001 where for higher learning rate the model achieves poor results. \n",
        "\n",
        "**Augmentation:**\n",
        "\n",
        "Several Augmentation techniques were integrated in the pre-processing stage, as a clinical input for been take in consideration as reported broadly above. We can notice that:\n",
        "\n",
        "*Ver #1:* The integration of Rotation in the range of ±5° by itself improved the ability to correctly detect the majority classes samples while produce worse the minority classes. ability to correctly detect\n",
        "\n",
        "*Ver #2:* The combination of **Rotation** in the range of ±5° and **Mirroring** in the y-axis as a \"**On fly Augmentation**\" yield the best model performances so far as the model performs the **best f1-score**, the **best specificity** for the both the majority classes and - \"**Lung Opacity**\" class and \"**NORMAL**\" classes and recall of 98% for both the minority classes.\n",
        "\n",
        "*Ver #3:* The addition of **Color Jitter** augmentation i.e., the combination of **Rotation** + **Mirroring** + **ColorJitter** yield even better ability to correctly detect the majority classes samples, but it significantly reduced the ability of the model to identify correctly \"**COVID-19**\" class samples.\n",
        "\n",
        "Using data augmentation, a lot of similar images has been generated \"on fly\". As a result the model is unable to overfit all the samples, and is forced to generalize – our models are much less prone to overfit.\n",
        "\n",
        "**Resampling Data:**\n",
        "\n",
        "Even though the usage of regularization mechanism such as learning rate decay and weight decay we can notice that the Resampling only models presented in 20-21 try are suffering from high overfitting which yield the Imbalanced data sampler technique which produces balancing classes and cause to a loss of information by under sampling and a tendency to over fitting by oversampling.\n",
        "\n",
        "The resampling also produces high ability to detect correctly \"**COVID-19**\" class samples, In contrast to Augmentation, but lower performances in a manner of all other tested metrics.\n",
        "\n",
        "**Resampling +Augmentation:**\n",
        "\n",
        "the **combination** of balanced sampling and augmentation for given number of initial features 64 and 128 with higher regularization reduces significantly the gap between curves i.e. the tendency of the model to overfit.\n",
        "\n",
        "The Combination of balanced sampling and the **Color Jitter** augmentation yield even better ability of our model to classify correctly \"**Lung opacity**\" samples but reduced the ability of the model to identify correctly \"**COVID-19**\" class samples. However, the usage of resampling makes it better then it performed by the models that only affected by color jitter augmentation.\n",
        "\n",
        "The removal of **Color Jitter** yield the **best** model so far, which comprised for less parameter the the leading model (#16 , 128 parameters), by achieving better ability to detect \"**COVID-19**\" and \"**Normal**\" class samples, best f1-scores so and similar performances comparing to model #16.\n",
        "\n",
        "**\"Not on fly\" Augmentation:**\n",
        "\n",
        "The added augmented samples caused to reduce in the ability of the model to correctly detect the 2nd major class doesn’t improved the detection ability of the other classes in comparison to \"on fly\" augmentation. The addition \"**Lung opacity**\" samples does improved the ability of the model with relation to the majority classes but yet it is evident that the \"not on fly\" Augmentation isn’t effective technique for our mission.\n"
      ]
    },
    {
      "cell_type": "markdown",
      "metadata": {
        "id": "_pMzIyRtv0nU"
      },
      "source": [
        "#Conclusion\n",
        "This project dealt with the field of Image classification using Convolutional Neural Networks Architectures as the leading techniques for this kind of missions. \n",
        "\n",
        "Due to the spatial structure Preserve - CNNs can be thought of automatic feature extractors from the image by effectively uses adjacent pixel information to effectively down sample the image first by convolution and then uses a prediction layer at the end. \n",
        "\n",
        "In this project we dealt a two-stage classification task.\n",
        "\n",
        "In the 1st stage, the task was to classify an X-Ray scan of a person's lungs into one of two classes - healthy people which represented as **“Normal”** class and positive to Covid-19 patient which represented as “**Covid-19**” class. \n",
        "\n",
        "In the 2nd stage we faced with a classification task of four different classes - “**Normal**” and “**Covid-19**” classes (as in the first stage) and in addition, we dealt with lung X-Ray scans of people positive to Viral Pneumonia and lung opacity diseases which represented as “**Viral Pneumonia**“ and “**Lung Opacity**” classes, respectively. \n",
        "\n",
        "The data that used for this task were taken from COVID-19 Radiography Database - COVID-19 Chest X-ray Database (Rahman, 2021), were the main challenge is that the data is comprised from imbalance amount of sample in each class. For example, the major class **“Normal”** is almost ten times larger than the minor class “**Viral Pneumonia**”. The data were divided into 70% for training, 10% for the validation and 20% for the testing.\n",
        "\n",
        "To tackle this challenge, we define the right evaluation **metrics**, we used different **Regularization** techniques such as **Early Stoppings, Dropout** and **Batch Normalization** layers, learning rate and weight **Decay**, Reduction the **Network Capacity**, we defined and test different **Architectures**, we used **Resampling** and we integrated **Augmentations** for both on fly and non-on fly preprocessing methods.\n",
        "\n",
        "\n",
        "In the 1st stage we design a model that comprised from 5 convolutional block with ascending number of filters (initial 32), Adam optimizer, and 10 time less parameters than the state-of-the-art model VGG16.\n",
        "\n",
        "Our model reaches higher **Accuracy** than VGG16 and similar to ResNet18, **Higher Sensitivity** than both ResNet and VGG16. **Higher precision** than ResNet18 and **Higher F1-Score** than VGG16 which mean we have more balance between Precision and Recall. \n",
        "\n",
        "In the 2nd stage we design a model that imitates the architecture which used in the first stage, i.e. 5 convolutional blocks, ascending number of filters (64) and Adam optimizer. In addition, we integrated as a pre-processing stage of combination between balanced sampling and ‘on the fly’ augmentation which achieves similar performances as state-of-the-art VGG16 yields for “**covid-19**” and “**Normal**” classes and better results for “**Viral Pneumonia**” class.   \n",
        "\n",
        "As we noticed, the most **significant factors** for improving the model ability to detect correctly the classes were the integration of **Adam optimizer** and **ascending number of features** between the convolutional layers. the addition of **Augmentation** and **Resampling** technique helped to achieve more accurate and less prone to overfitting model.\n",
        "\n",
        "**The proposed models in this project provide improvement in today’s abilities to deal with X-Ray lungs damages classification tasks and stands in one line among the state-of-the-art models.** \n"
      ]
    },
    {
      "cell_type": "markdown",
      "metadata": {
        "id": "fqhALFeZxK6N"
      },
      "source": [
        "#Bibliography\n",
        "Ahsan, M. B. (2021). COVID-19 detection from chest X-ray images using feature fusion and deep learning. Sensors, 21(4), 1480.\n",
        "\n",
        "Borda. (2021, 7 26). Imbalanced Dataset Sampler. Retrieved from github.com: https://github.com/ufoym/imbalanced-dataset-sampler\n",
        "\n",
        "Brownlee, J. (2021, 7 26). A Gentle Introduction to Dropout for Regularizing Deep Neural Networks. Retrieved from machinelearningmastery.com: https://machinelearningmastery.com/dropout-for-regularizing-deep-neural-networks/\n",
        "\n",
        "Elgendi, M., Nasir, M. U., Tang, Q., & Smith, D. (2021, 7 26). The Effectiveness of Image Augmentation in Deep Learning Networks for Detecting COVID-19: A Geometric Transformation Perspective. Retrieved from frontiersin.org: https://www.frontiersin.org/articles/10.3389/fmed.2021.629134/full\n",
        "\n",
        "Jason, B. (2021, 7 26). Failure of Classification Accuracy for Imbalanced Class Distributions. Retrieved from machinelearningmastery.com: https://machinelearningmastery.com/failure-of-accuracy-for-imbalanced-class-distributions/\n",
        "\n",
        "Kautza, T., Cristian, B. M., & F.Pasluosta. (2017). Generic performance measure for multiclass-classifiers. Elsevier Pattern Recognition (68) , 111-125.\n",
        "\n",
        "Rahman, T. (2021, 7 26). COVID-19 Radiography Database. Retrieved from kaggle: https://www.kaggle.com/tawsifurrahman/covid19-radiography-database\n",
        "\n",
        "SAXENA, S. (2021, 7 26). Image Augmentation Techniques for Training Deep Learning Models. Retrieved from analyticsvidhya.com: https://www.analyticsvidhya.com/blog/2021/03/image-augmentation-techniques-for-training-deep-learning-models/\n",
        "\n",
        "Vaughan, D. (2021, 7 26). Multiclass averaging. Retrieved from cran.r-project.org: https://cran.r-project.org/web/packages/yardstick/vignettes/multiclass.html\n",
        "\n",
        "Vu, C. (2021, 7 26). Do and don’t when using transformation to improve CNN deep learning model. Retrieved from towardsdatascience.com: https://towardsdatascience.com/improves-cnn-performance-by-applying-data-transformation-bf86b3f4cef4\n",
        "\n",
        "Wu, Y., & Radewagen, R. (2021, 7 26). 7 Techniques to Handle Imbalanced Data. Retrieved from kdnuggets.com: https://www.kdnuggets.com/2017/06/7-techniques-handle-imbalanced-data.html\n",
        "\n"
      ]
    }
  ],
  "metadata": {
    "accelerator": "GPU",
    "colab": {
      "collapsed_sections": [],
      "name": "Final_Project_part2.ipynb",
      "provenance": [],
      "toc_visible": true
    },
    "kernelspec": {
      "display_name": "Python 3",
      "name": "python3"
    },
    "language_info": {
      "name": "python"
    },
    "widgets": {
      "application/vnd.jupyter.widget-state+json": {
        "179f8cc96fbe4680b37868630d5f69cf": {
          "model_module": "@jupyter-widgets/base",
          "model_name": "LayoutModel",
          "state": {
            "_model_module": "@jupyter-widgets/base",
            "_model_module_version": "1.2.0",
            "_model_name": "LayoutModel",
            "_view_count": null,
            "_view_module": "@jupyter-widgets/base",
            "_view_module_version": "1.2.0",
            "_view_name": "LayoutView",
            "align_content": null,
            "align_items": null,
            "align_self": null,
            "border": null,
            "bottom": null,
            "display": null,
            "flex": null,
            "flex_flow": null,
            "grid_area": null,
            "grid_auto_columns": null,
            "grid_auto_flow": null,
            "grid_auto_rows": null,
            "grid_column": null,
            "grid_gap": null,
            "grid_row": null,
            "grid_template_areas": null,
            "grid_template_columns": null,
            "grid_template_rows": null,
            "height": null,
            "justify_content": null,
            "justify_items": null,
            "left": null,
            "margin": null,
            "max_height": null,
            "max_width": null,
            "min_height": null,
            "min_width": null,
            "object_fit": null,
            "object_position": null,
            "order": null,
            "overflow": null,
            "overflow_x": null,
            "overflow_y": null,
            "padding": null,
            "right": null,
            "top": null,
            "visibility": null,
            "width": null
          }
        },
        "38dfa134117a45c68599177dd1b2fa72": {
          "model_module": "@jupyter-widgets/controls",
          "model_name": "HBoxModel",
          "state": {
            "_dom_classes": [],
            "_model_module": "@jupyter-widgets/controls",
            "_model_module_version": "1.5.0",
            "_model_name": "HBoxModel",
            "_view_count": null,
            "_view_module": "@jupyter-widgets/controls",
            "_view_module_version": "1.5.0",
            "_view_name": "HBoxView",
            "box_style": "",
            "children": [
              "IPY_MODEL_d6cbacaea7df4b569b003c48c3d3f927",
              "IPY_MODEL_b473a486bd5043829a7d3d40f73d8c24"
            ],
            "layout": "IPY_MODEL_3e4b76a2b1c64bd4af7faa338419a7ac"
          }
        },
        "3e4b76a2b1c64bd4af7faa338419a7ac": {
          "model_module": "@jupyter-widgets/base",
          "model_name": "LayoutModel",
          "state": {
            "_model_module": "@jupyter-widgets/base",
            "_model_module_version": "1.2.0",
            "_model_name": "LayoutModel",
            "_view_count": null,
            "_view_module": "@jupyter-widgets/base",
            "_view_module_version": "1.2.0",
            "_view_name": "LayoutView",
            "align_content": null,
            "align_items": null,
            "align_self": null,
            "border": null,
            "bottom": null,
            "display": null,
            "flex": null,
            "flex_flow": null,
            "grid_area": null,
            "grid_auto_columns": null,
            "grid_auto_flow": null,
            "grid_auto_rows": null,
            "grid_column": null,
            "grid_gap": null,
            "grid_row": null,
            "grid_template_areas": null,
            "grid_template_columns": null,
            "grid_template_rows": null,
            "height": null,
            "justify_content": null,
            "justify_items": null,
            "left": null,
            "margin": null,
            "max_height": null,
            "max_width": null,
            "min_height": null,
            "min_width": null,
            "object_fit": null,
            "object_position": null,
            "order": null,
            "overflow": null,
            "overflow_x": null,
            "overflow_y": null,
            "padding": null,
            "right": null,
            "top": null,
            "visibility": null,
            "width": null
          }
        },
        "672e66f0ac5043a6aa419f36337ed4fc": {
          "model_module": "@jupyter-widgets/base",
          "model_name": "LayoutModel",
          "state": {
            "_model_module": "@jupyter-widgets/base",
            "_model_module_version": "1.2.0",
            "_model_name": "LayoutModel",
            "_view_count": null,
            "_view_module": "@jupyter-widgets/base",
            "_view_module_version": "1.2.0",
            "_view_name": "LayoutView",
            "align_content": null,
            "align_items": null,
            "align_self": null,
            "border": null,
            "bottom": null,
            "display": null,
            "flex": null,
            "flex_flow": null,
            "grid_area": null,
            "grid_auto_columns": null,
            "grid_auto_flow": null,
            "grid_auto_rows": null,
            "grid_column": null,
            "grid_gap": null,
            "grid_row": null,
            "grid_template_areas": null,
            "grid_template_columns": null,
            "grid_template_rows": null,
            "height": null,
            "justify_content": null,
            "justify_items": null,
            "left": null,
            "margin": null,
            "max_height": null,
            "max_width": null,
            "min_height": null,
            "min_width": null,
            "object_fit": null,
            "object_position": null,
            "order": null,
            "overflow": null,
            "overflow_x": null,
            "overflow_y": null,
            "padding": null,
            "right": null,
            "top": null,
            "visibility": null,
            "width": null
          }
        },
        "b473a486bd5043829a7d3d40f73d8c24": {
          "model_module": "@jupyter-widgets/controls",
          "model_name": "HTMLModel",
          "state": {
            "_dom_classes": [],
            "_model_module": "@jupyter-widgets/controls",
            "_model_module_version": "1.5.0",
            "_model_name": "HTMLModel",
            "_view_count": null,
            "_view_module": "@jupyter-widgets/controls",
            "_view_module_version": "1.5.0",
            "_view_name": "HTMLView",
            "description": "",
            "description_tooltip": null,
            "layout": "IPY_MODEL_179f8cc96fbe4680b37868630d5f69cf",
            "placeholder": "​",
            "style": "IPY_MODEL_d111eee940564d6dac2557389d16db7e",
            "value": " 44.7M/44.7M [04:17&lt;00:00, 182kB/s]"
          }
        },
        "d111eee940564d6dac2557389d16db7e": {
          "model_module": "@jupyter-widgets/controls",
          "model_name": "DescriptionStyleModel",
          "state": {
            "_model_module": "@jupyter-widgets/controls",
            "_model_module_version": "1.5.0",
            "_model_name": "DescriptionStyleModel",
            "_view_count": null,
            "_view_module": "@jupyter-widgets/base",
            "_view_module_version": "1.2.0",
            "_view_name": "StyleView",
            "description_width": ""
          }
        },
        "d6cbacaea7df4b569b003c48c3d3f927": {
          "model_module": "@jupyter-widgets/controls",
          "model_name": "FloatProgressModel",
          "state": {
            "_dom_classes": [],
            "_model_module": "@jupyter-widgets/controls",
            "_model_module_version": "1.5.0",
            "_model_name": "FloatProgressModel",
            "_view_count": null,
            "_view_module": "@jupyter-widgets/controls",
            "_view_module_version": "1.5.0",
            "_view_name": "ProgressView",
            "bar_style": "success",
            "description": "100%",
            "description_tooltip": null,
            "layout": "IPY_MODEL_672e66f0ac5043a6aa419f36337ed4fc",
            "max": 46830571,
            "min": 0,
            "orientation": "horizontal",
            "style": "IPY_MODEL_da3452b3c2164045a3bbd182181325c0",
            "value": 46830571
          }
        },
        "da3452b3c2164045a3bbd182181325c0": {
          "model_module": "@jupyter-widgets/controls",
          "model_name": "ProgressStyleModel",
          "state": {
            "_model_module": "@jupyter-widgets/controls",
            "_model_module_version": "1.5.0",
            "_model_name": "ProgressStyleModel",
            "_view_count": null,
            "_view_module": "@jupyter-widgets/base",
            "_view_module_version": "1.2.0",
            "_view_name": "StyleView",
            "bar_color": null,
            "description_width": "initial"
          }
        }
      }
    }
  },
  "nbformat": 4,
  "nbformat_minor": 0
}
